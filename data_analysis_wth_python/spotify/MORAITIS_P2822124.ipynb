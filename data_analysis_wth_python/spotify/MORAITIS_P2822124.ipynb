{
 "cells": [
  {
   "attachments": {},
   "cell_type": "markdown",
   "metadata": {
    "datalore": {
     "hide_input_from_viewers": false,
     "hide_output_from_viewers": false,
     "type": "MD"
    }
   },
   "source": [
    "# Spotify: Valence prediction\n",
    "\n",
    "* Load a diagnostic captioning dataset and discard the images.\n",
    "* Explore the captions and the tags.\n",
    "---\n",
    "\n",
    "> Anastasios Moraitis, P2822110 <br/>\n",
    "> Department of Management Science and Technology <br/>\n",
    "> Athens University of Economics and Business <br/>\n",
    "> p2822110@aueb.gr <br/>"
   ]
  },
  {
   "attachments": {},
   "cell_type": "markdown",
   "metadata": {
    "datalore": {
     "hide_input_from_viewers": false,
     "hide_output_from_viewers": false,
     "type": "MD"
    }
   },
   "source": [
    "## 0. Import Libraries, Helper Functions, and Data"
   ]
  },
  {
   "attachments": {},
   "cell_type": "markdown",
   "metadata": {
    "datalore": {
     "hide_input_from_viewers": false,
     "hide_output_from_viewers": false,
     "type": "MD"
    }
   },
   "source": [
    "### A. Libraries"
   ]
  },
  {
   "cell_type": "code",
   "execution_count": 63,
   "metadata": {
    "datalore": {
     "hide_input_from_viewers": false,
     "hide_output_from_viewers": false,
     "type": "CODE"
    }
   },
   "outputs": [],
   "source": [
    "#conda install -c conda-forge spotipy\n",
    "import spotipy\n",
    "import spotipy.util as util\n",
    "import numpy as np\n",
    "import pandas as pd\n",
    "import warnings\n",
    "warnings.filterwarnings(\"ignore\")"
   ]
  },
  {
   "attachments": {},
   "cell_type": "markdown",
   "metadata": {
    "datalore": {
     "hide_input_from_viewers": false,
     "hide_output_from_viewers": false,
     "type": "MD"
    }
   },
   "source": [
    "### B. Helper Functions"
   ]
  },
  {
   "cell_type": "code",
   "execution_count": 64,
   "metadata": {
    "datalore": {
     "hide_input_from_viewers": false,
     "hide_output_from_viewers": false,
     "type": "CODE"
    }
   },
   "outputs": [],
   "source": [
    "#### Get Audio Features for a list of songs in a text file.\n",
    "\n",
    "def get_audio_features_for(provider: spotipy.client.Spotify, songs_csv_path):\n",
    "    tracks_audio_ft = None\n",
    "    chunk_size = 70\n",
    "    for chunk in pd.read_csv(songs_csv_path, chunksize=chunk_size):\n",
    "        audio_ft = provider.audio_features(np.str0.join(',', chunk['id']))\n",
    "\n",
    "        try:\n",
    "            cols = list(dict.keys(audio_ft[0]))\n",
    "            tracks_audio_ft_temp = pd.DataFrame(audio_ft, columns=cols)\n",
    "\n",
    "            if tracks_audio_ft is None:\n",
    "                tracks_audio_ft = tracks_audio_ft_temp\n",
    "            else:\n",
    "                tracks_audio_ft = pd.concat([tracks_audio_ft, tracks_audio_ft_temp])\n",
    "        except BaseException as e:\n",
    "            # logs\n",
    "            print('could not setup chunk')\n",
    "            print(e)\n",
    "\n",
    "    tracks_audio_ft.drop(['type', 'uri', 'track_href', 'analysis_url'], axis=1, inplace=True)\n",
    "    tracks_audio_ft.set_index('id', drop=True, inplace=True)\n",
    "\n",
    "    return tracks_audio_ft"
   ]
  },
  {
   "attachments": {},
   "cell_type": "markdown",
   "metadata": {
    "datalore": {
     "hide_input_from_viewers": false,
     "hide_output_from_viewers": false,
     "type": "MD"
    }
   },
   "source": [
    " More helper functions related to the song IDs:\n",
    "- Get Playlist Items: gets the songs in playlist(id, userid)\n",
    "- Get Search Items: gets the songs for the search criteria(by genre)\n",
    "- Get Songs: from the given playlist (internally calls get_playlist_items)\n",
    "- Clean Songs: Cleans duplicates and NAs from a list of songs"
   ]
  },
  {
   "cell_type": "code",
   "execution_count": 65,
   "metadata": {
    "datalore": {
     "hide_input_from_viewers": false,
     "hide_output_from_viewers": false,
     "type": "CODE"
    }
   },
   "outputs": [],
   "source": [
    "SONG_COL_NAMES = ['id', 'name']\n",
    "\n",
    "def get_playlist_items(provider: spotipy.client.Spotify, playlist):\n",
    "    r = provider.user_playlist_tracks(playlist[0], playlist[1])\n",
    "    t = r['items']\n",
    "    ids = []\n",
    "    while r['next']:\n",
    "        r = provider.next(r)\n",
    "        t.extend(r['items'])\n",
    "    try:\n",
    "        for s in t: ids.append((str(s[\"track\"][\"id\"]), str(s[\"track\"][\"name\"])))\n",
    "    except Exception as e:\n",
    "        print('Couldnt append')\n",
    "        print(e)\n",
    "    return pd.DataFrame(ids, columns=SONG_COL_NAMES)\n",
    "\n",
    "def get_search_items(provider: spotipy.client.Spotify, genre: str, times = 20):\n",
    "    res = provider.search(q='genre:' + genre, type=\"track\", limit=50)\n",
    "    x = res.get(\"tracks\")\n",
    "    t = x['items']\n",
    "    ids = []\n",
    "    while x['next'] and str.find(x['next'], 'offset=1000') < 0 and times > 0:\n",
    "        res = provider.next(x)\n",
    "        x = res.get('tracks')\n",
    "        t.extend(x['items'])\n",
    "        times = times - 1\n",
    "    try:\n",
    "        for s in t: ids.append((str(s[\"id\"]), str(s[\"name\"])))\n",
    "    except Exception as e:\n",
    "        print('Couldnt append')\n",
    "        print(e)\n",
    "    return pd.DataFrame(ids, columns=SONG_COL_NAMES)\n",
    "\n",
    "def get_songs(provider: spotipy.Spotify, playlists):\n",
    "    songs = pd.DataFrame(columns=SONG_COL_NAMES)\n",
    "\n",
    "    for playlist in playlists:\n",
    "        result = get_playlist_items(provider, playlist)\n",
    "        songs = pd.concat([songs, result])\n",
    "    return songs\n",
    "\n",
    "def clean_songs_map(songs):\n",
    "    print('Initially got songs: ' + str(len(songs)))\n",
    "    print('Unique songs by id: ' + str(len(songs['id'].unique())))\n",
    "    # remove duplicates\n",
    "    print('Dropping dubs by id...')\n",
    "    songs.drop_duplicates(subset='id', inplace=True)\n",
    "    print('Songs: ' + str(len(songs)))\n",
    "    print('Unique songs by name: ' + str(len(songs['name'].unique())))\n",
    "    print('Dropping dubs by name...')\n",
    "    songs.drop_duplicates(subset='name', inplace=True)\n",
    "    print('Songs: ' + str(len(songs)))\n",
    "    print('Dropping NAs...')\n",
    "    songs.dropna()\n",
    "    print('Songs: ' + str(len(songs)))\n",
    "    return songs"
   ]
  },
  {
   "cell_type": "markdown",
   "metadata": {},
   "source": [
    "### Data"
   ]
  },
  {
   "attachments": {},
   "cell_type": "markdown",
   "metadata": {
    "datalore": {
     "hide_input_from_viewers": false,
     "hide_output_from_viewers": false,
     "type": "MD"
    }
   },
   "source": [
    "Set up the spotify API Client using Spotipy"
   ]
  },
  {
   "cell_type": "code",
   "execution_count": 66,
   "metadata": {
    "datalore": {
     "hide_input_from_viewers": false,
     "hide_output_from_viewers": false,
     "type": "CODE"
    }
   },
   "outputs": [],
   "source": [
    "CLIENT_ID = \"6da00ef0fd0043ce9fcda74feca3e747\"\n",
    "CLIENT_SECRET = \"3a74022d277d48e8a7d1d85d56dd68ef\"\n",
    "\n",
    "auth_manager=spotipy.SpotifyClientCredentials(client_id=CLIENT_ID, client_secret=CLIENT_SECRET)\n",
    "sp = spotipy.Spotify(auth_manager=auth_manager)"
   ]
  },
  {
   "attachments": {},
   "cell_type": "markdown",
   "metadata": {
    "datalore": {
     "hide_input_from_viewers": false,
     "hide_output_from_viewers": false,
     "type": "MD"
    }
   },
   "source": [
    "Define a list of playlist found over the internet and download the songs."
   ]
  },
  {
   "cell_type": "code",
   "execution_count": 67,
   "metadata": {
    "datalore": {
     "hide_input_from_viewers": false,
     "hide_output_from_viewers": false,
     "type": "CODE"
    }
   },
   "outputs": [
    {
     "name": "stdout",
     "output_type": "stream",
     "text": [
      "Couldnt append\n",
      "'NoneType' object is not subscriptable\n",
      "Couldnt append\n",
      "'NoneType' object is not subscriptable\n",
      "Initially got songs: 83611\n",
      "Unique songs by id: 65824\n",
      "Dropping dubs by id...\n",
      "Songs: 65824\n",
      "Unique songs by name: 53041\n",
      "Dropping dubs by name...\n",
      "Songs: 53041\n",
      "Dropping NAs...\n",
      "Songs: 53041\n"
     ]
    }
   ],
   "source": [
    "playlists = [\n",
    "   ('1130225252', '4rnleEAOdmFAbRcNCgZMpY'),\n",
    "    ('twgeb7mzdcv4u8h191dxrvlpc', '5S8SJdl1BDc0ugpkEvFsIL'),\n",
    "    ('raijin-_-', '3ZWRMtzrap0EosVqsU6IW3'),\n",
    "    ('thedoctorkto', '54nv8jbrm4JoHEZ49Qvjgl'),\n",
    "    ('bate_shashi', '1AzhiEXJx5hTuILrXM9WGO'),\n",
    "    ('1178551233','4NjZYfQHwCuyVlv0eEFwoi'),\n",
    "    ('ryanthenobody8750', '7I6XVNQVayB46Zzh4GNPoU'),\n",
    "    ('t2xwvwe20b1z893l0g58dahvw', '0z085jfTrSXxhFUyKKExxJ'),\n",
    "    ('31lvjp5jk72zzkjbz3rzyhjcu46i','3WWv2APRYe9jR8L1YnK1Up'),\n",
    "    ('12160726861', '6yPiKpy7evrwvZodByKvM9'),\n",
    "    ('exiedous','6FKDzNYZ8IW1pvYVF4zUN2'),\n",
    "    ('v576q2ec1k3c5l2hwjp7i4rcq', '1oB39QsjKnobiesaOWwkRt')]\n",
    "\n",
    "songs = clean_songs_map(get_songs(sp, playlists))"
   ]
  },
  {
   "attachments": {},
   "cell_type": "markdown",
   "metadata": {
    "datalore": {
     "hide_input_from_viewers": false,
     "hide_output_from_viewers": false,
     "type": "MD"
    }
   },
   "source": [
    "Save off the songs for future use"
   ]
  },
  {
   "cell_type": "code",
   "execution_count": 68,
   "metadata": {
    "datalore": {
     "hide_input_from_viewers": false,
     "hide_output_from_viewers": false,
     "type": "CODE"
    }
   },
   "outputs": [],
   "source": [
    "SONGS_CSV = './songs.csv'"
   ]
  },
  {
   "cell_type": "code",
   "execution_count": 69,
   "metadata": {
    "datalore": {
     "hide_input_from_viewers": false,
     "hide_output_from_viewers": false,
     "type": "CODE"
    }
   },
   "outputs": [],
   "source": [
    "songs.to_csv(SONGS_CSV, index=False)"
   ]
  },
  {
   "attachments": {},
   "cell_type": "markdown",
   "metadata": {
    "datalore": {
     "hide_input_from_viewers": false,
     "hide_output_from_viewers": false,
     "type": "MD"
    }
   },
   "source": [
    "Download the features of the songs from: https://api.spotify.com/v1/audio-features"
   ]
  },
  {
   "cell_type": "code",
   "execution_count": 70,
   "metadata": {
    "datalore": {
     "hide_input_from_viewers": false,
     "hide_output_from_viewers": false,
     "type": "CODE"
    }
   },
   "outputs": [
    {
     "name": "stdout",
     "output_type": "stream",
     "text": [
      "could not setup chunk\n",
      "'NoneType' object is not iterable\n",
      "could not setup chunk\n",
      "'NoneType' object is not iterable\n",
      "could not setup chunk\n",
      "'NoneType' object is not iterable\n",
      "could not setup chunk\n",
      "'NoneType' object is not iterable\n",
      "could not setup chunk\n",
      "'NoneType' object is not iterable\n",
      "<class 'pandas.core.frame.DataFrame'>\n",
      "Index: 52691 entries, 7dS5EaCoMnN7DzlpT6aRn2 to 6XQhcuKiotvDsk8rBlrySQ\n",
      "Data columns (total 13 columns):\n",
      " #   Column            Non-Null Count  Dtype  \n",
      "---  ------            --------------  -----  \n",
      " 0   danceability      52691 non-null  float64\n",
      " 1   energy            52691 non-null  float64\n",
      " 2   key               52691 non-null  int64  \n",
      " 3   loudness          52691 non-null  float64\n",
      " 4   mode              52691 non-null  int64  \n",
      " 5   speechiness       52691 non-null  float64\n",
      " 6   acousticness      52691 non-null  float64\n",
      " 7   instrumentalness  52691 non-null  float64\n",
      " 8   liveness          52691 non-null  float64\n",
      " 9   valence           52691 non-null  float64\n",
      " 10  tempo             52691 non-null  float64\n",
      " 11  duration_ms       52691 non-null  int64  \n",
      " 12  time_signature    52691 non-null  int64  \n",
      "dtypes: float64(9), int64(4)\n",
      "memory usage: 5.6+ MB\n"
     ]
    }
   ],
   "source": [
    "dataset = get_audio_features_for(sp, SONGS_CSV)\n",
    "\n",
    "dataset.isna().sum()\n",
    "\n",
    "dataset.info()"
   ]
  },
  {
   "cell_type": "markdown",
   "metadata": {},
   "source": [
    "Save the dataset, too."
   ]
  },
  {
   "cell_type": "code",
   "execution_count": 71,
   "metadata": {
    "datalore": {
     "hide_input_from_viewers": false,
     "hide_output_from_viewers": false,
     "type": "CODE"
    }
   },
   "outputs": [],
   "source": [
    "dataset.to_csv('./audio_features.csv')"
   ]
  },
  {
   "cell_type": "markdown",
   "metadata": {},
   "source": [
    "### C. Analyze Valence"
   ]
  },
  {
   "attachments": {},
   "cell_type": "markdown",
   "metadata": {
    "datalore": {
     "hide_input_from_viewers": false,
     "hide_output_from_viewers": false,
     "type": "MD"
    }
   },
   "source": [
    "Valence distribution\n",
    "\n",
    "It seems that valence is right skewed.\n",
    "\n",
    "We are going to download more songs using the /search/ API endpoint."
   ]
  },
  {
   "cell_type": "code",
   "execution_count": 72,
   "metadata": {
    "datalore": {
     "hide_input_from_viewers": false,
     "hide_output_from_viewers": false,
     "type": "CODE"
    }
   },
   "outputs": [
    {
     "data": {
      "image/png": "[encoded data removed]",
      "text/plain": [
       "<Figure size 1200x800 with 1 Axes>"
      ]
     },
     "metadata": {},
     "output_type": "display_data"
    }
   ],
   "source": [
    "import matplotlib\n",
    "import matplotlib.pyplot as plt\n",
    "\n",
    "dataset['valence'].hist(bins=20, figsize=(12, 8))\n",
    "\n",
    "plt.hist(dataset['valence'], 20, density = True, \n",
    "         histtype ='bar')\n",
    "plt.show()"
   ]
  },
  {
   "attachments": {},
   "cell_type": "markdown",
   "metadata": {
    "datalore": {
     "hide_input_from_viewers": false,
     "hide_output_from_viewers": false,
     "type": "MD"
    }
   },
   "source": [
    "Download the TOP 500 genres by popularity."
   ]
  },
  {
   "cell_type": "code",
   "execution_count": 73,
   "metadata": {
    "datalore": {
     "hide_input_from_viewers": false,
     "hide_output_from_viewers": false,
     "type": "CODE"
    }
   },
   "outputs": [],
   "source": [
    "# Additional data\n",
    "url = 'https://everynoise.com/everynoise1d.cgi?scope=all'\n",
    "music_types = pd.read_html(url)[0]\n",
    "music_types.drop(1, axis=1, inplace=True)\n",
    "music_types = music_types.head(500)"
   ]
  },
  {
   "attachments": {},
   "cell_type": "markdown",
   "metadata": {
    "datalore": {
     "hide_input_from_viewers": false,
     "hide_output_from_viewers": false,
     "type": "MD"
    }
   },
   "source": [
    "For each genre execute a search query and get the songs, extending the existing list of songs."
   ]
  },
  {
   "cell_type": "code",
   "execution_count": 74,
   "metadata": {
    "datalore": {
     "hide_input_from_viewers": false,
     "hide_output_from_viewers": false,
     "type": "CODE"
    }
   },
   "outputs": [
    {
     "name": "stdout",
     "output_type": "stream",
     "text": [
      "Initially got songs: 390601\n",
      "Unique songs by id: 316946\n",
      "Dropping dubs by id...\n",
      "Songs: 316946\n",
      "Unique songs by name: 220411\n",
      "Dropping dubs by name...\n",
      "Songs: 220411\n",
      "Dropping NAs...\n",
      "Songs: 220411\n"
     ]
    }
   ],
   "source": [
    "x = range(len(music_types))\n",
    "for n in x:\n",
    "    genre = music_types[2].iloc[n]\n",
    "    songs = pd.concat([songs, get_search_items(sp, genre)])\n",
    "songs = clean_songs_map(songs)"
   ]
  },
  {
   "attachments": {},
   "cell_type": "markdown",
   "metadata": {
    "datalore": {
     "hide_input_from_viewers": false,
     "hide_output_from_viewers": false,
     "type": "MD"
    }
   },
   "source": [
    "Save off songs"
   ]
  },
  {
   "cell_type": "code",
   "execution_count": 75,
   "metadata": {
    "datalore": {
     "hide_input_from_viewers": false,
     "hide_output_from_viewers": false,
     "type": "CODE"
    }
   },
   "outputs": [],
   "source": [
    "songs.to_csv(SONGS_CSV, index=False)"
   ]
  },
  {
   "attachments": {},
   "cell_type": "markdown",
   "metadata": {
    "datalore": {
     "hide_input_from_viewers": false,
     "hide_output_from_viewers": false,
     "type": "MD"
    }
   },
   "source": [
    "Download extra features for our new list"
   ]
  },
  {
   "cell_type": "code",
   "execution_count": 76,
   "metadata": {
    "datalore": {
     "hide_input_from_viewers": false,
     "hide_output_from_viewers": false,
     "type": "CODE"
    }
   },
   "outputs": [
    {
     "name": "stdout",
     "output_type": "stream",
     "text": [
      "could not setup chunk\n",
      "'NoneType' object is not iterable\n",
      "could not setup chunk\n",
      "'NoneType' object is not iterable\n",
      "could not setup chunk\n",
      "'NoneType' object is not iterable\n",
      "could not setup chunk\n",
      "'NoneType' object is not iterable\n",
      "could not setup chunk\n",
      "'NoneType' object is not iterable\n",
      "<class 'pandas.core.frame.DataFrame'>\n",
      "Index: 272752 entries, 7dS5EaCoMnN7DzlpT6aRn2 to 1rJgKcK3ilp4xg7WxTs4RG\n",
      "Data columns (total 13 columns):\n",
      " #   Column            Non-Null Count   Dtype  \n",
      "---  ------            --------------   -----  \n",
      " 0   danceability      272752 non-null  float64\n",
      " 1   energy            272752 non-null  float64\n",
      " 2   key               272752 non-null  int64  \n",
      " 3   loudness          272752 non-null  float64\n",
      " 4   mode              272752 non-null  int64  \n",
      " 5   speechiness       272752 non-null  float64\n",
      " 6   acousticness      272752 non-null  float64\n",
      " 7   instrumentalness  272752 non-null  float64\n",
      " 8   liveness          272752 non-null  float64\n",
      " 9   valence           272752 non-null  float64\n",
      " 10  tempo             272752 non-null  float64\n",
      " 11  duration_ms       272752 non-null  int64  \n",
      " 12  time_signature    272752 non-null  int64  \n",
      "dtypes: float64(9), int64(4)\n",
      "memory usage: 29.1+ MB\n"
     ]
    }
   ],
   "source": [
    "songs = pd.read_csv(SONGS_CSV)\n",
    "new_dataset = get_audio_features_for(sp, SONGS_CSV)\n",
    "dataset = pd.concat([dataset, new_dataset])\n",
    "dataset.isna().sum()\n",
    "\n",
    "dataset.info()"
   ]
  },
  {
   "cell_type": "code",
   "execution_count": 77,
   "metadata": {
    "datalore": {
     "hide_input_from_viewers": false,
     "hide_output_from_viewers": false,
     "type": "CODE"
    }
   },
   "outputs": [
    {
     "data": {
      "text/html": [
       "<div>\n",
       "<style scoped>\n",
       "    .dataframe tbody tr th:only-of-type {\n",
       "        vertical-align: middle;\n",
       "    }\n",
       "\n",
       "    .dataframe tbody tr th {\n",
       "        vertical-align: top;\n",
       "    }\n",
       "\n",
       "    .dataframe thead th {\n",
       "        text-align: right;\n",
       "    }\n",
       "</style>\n",
       "<table border=\"1\" class=\"dataframe\">\n",
       "  <thead>\n",
       "    <tr style=\"text-align: right;\">\n",
       "      <th></th>\n",
       "      <th>danceability</th>\n",
       "      <th>energy</th>\n",
       "      <th>key</th>\n",
       "      <th>loudness</th>\n",
       "      <th>mode</th>\n",
       "      <th>speechiness</th>\n",
       "      <th>acousticness</th>\n",
       "      <th>instrumentalness</th>\n",
       "      <th>liveness</th>\n",
       "      <th>valence</th>\n",
       "      <th>tempo</th>\n",
       "      <th>duration_ms</th>\n",
       "      <th>time_signature</th>\n",
       "    </tr>\n",
       "    <tr>\n",
       "      <th>id</th>\n",
       "      <th></th>\n",
       "      <th></th>\n",
       "      <th></th>\n",
       "      <th></th>\n",
       "      <th></th>\n",
       "      <th></th>\n",
       "      <th></th>\n",
       "      <th></th>\n",
       "      <th></th>\n",
       "      <th></th>\n",
       "      <th></th>\n",
       "      <th></th>\n",
       "      <th></th>\n",
       "    </tr>\n",
       "  </thead>\n",
       "  <tbody>\n",
       "    <tr>\n",
       "      <th>7dS5EaCoMnN7DzlpT6aRn2</th>\n",
       "      <td>0.566</td>\n",
       "      <td>0.664</td>\n",
       "      <td>4</td>\n",
       "      <td>-5.303</td>\n",
       "      <td>0</td>\n",
       "      <td>0.0464</td>\n",
       "      <td>0.6340</td>\n",
       "      <td>0.000000</td>\n",
       "      <td>0.116</td>\n",
       "      <td>0.437</td>\n",
       "      <td>128.945</td>\n",
       "      <td>241688</td>\n",
       "      <td>4</td>\n",
       "    </tr>\n",
       "    <tr>\n",
       "      <th>2V4bv1fNWfTcyRJKmej6Sj</th>\n",
       "      <td>0.768</td>\n",
       "      <td>0.820</td>\n",
       "      <td>7</td>\n",
       "      <td>-4.630</td>\n",
       "      <td>0</td>\n",
       "      <td>0.0474</td>\n",
       "      <td>0.1790</td>\n",
       "      <td>0.000000</td>\n",
       "      <td>0.689</td>\n",
       "      <td>0.625</td>\n",
       "      <td>129.965</td>\n",
       "      <td>213293</td>\n",
       "      <td>4</td>\n",
       "    </tr>\n",
       "    <tr>\n",
       "      <th>7KA4W4McWYRpgf0fWsJZWB</th>\n",
       "      <td>0.558</td>\n",
       "      <td>0.559</td>\n",
       "      <td>6</td>\n",
       "      <td>-9.222</td>\n",
       "      <td>1</td>\n",
       "      <td>0.0959</td>\n",
       "      <td>0.3710</td>\n",
       "      <td>0.000007</td>\n",
       "      <td>0.109</td>\n",
       "      <td>0.620</td>\n",
       "      <td>78.558</td>\n",
       "      <td>180387</td>\n",
       "      <td>4</td>\n",
       "    </tr>\n",
       "    <tr>\n",
       "      <th>3gbBpTdY8lnQwqxNCcf795</th>\n",
       "      <td>0.679</td>\n",
       "      <td>0.715</td>\n",
       "      <td>9</td>\n",
       "      <td>-6.383</td>\n",
       "      <td>1</td>\n",
       "      <td>0.0407</td>\n",
       "      <td>0.0755</td>\n",
       "      <td>0.000000</td>\n",
       "      <td>0.271</td>\n",
       "      <td>0.571</td>\n",
       "      <td>127.435</td>\n",
       "      <td>214148</td>\n",
       "      <td>4</td>\n",
       "    </tr>\n",
       "    <tr>\n",
       "      <th>3ZFTkvIE7kyPt6Nu3PEa7V</th>\n",
       "      <td>0.778</td>\n",
       "      <td>0.824</td>\n",
       "      <td>10</td>\n",
       "      <td>-5.892</td>\n",
       "      <td>0</td>\n",
       "      <td>0.0707</td>\n",
       "      <td>0.2840</td>\n",
       "      <td>0.000000</td>\n",
       "      <td>0.405</td>\n",
       "      <td>0.758</td>\n",
       "      <td>100.024</td>\n",
       "      <td>218093</td>\n",
       "      <td>4</td>\n",
       "    </tr>\n",
       "  </tbody>\n",
       "</table>\n",
       "</div>"
      ],
      "text/plain": [
       "                        danceability  energy  key  loudness  mode  \\\n",
       "id                                                                  \n",
       "7dS5EaCoMnN7DzlpT6aRn2         0.566   0.664    4    -5.303     0   \n",
       "2V4bv1fNWfTcyRJKmej6Sj         0.768   0.820    7    -4.630     0   \n",
       "7KA4W4McWYRpgf0fWsJZWB         0.558   0.559    6    -9.222     1   \n",
       "3gbBpTdY8lnQwqxNCcf795         0.679   0.715    9    -6.383     1   \n",
       "3ZFTkvIE7kyPt6Nu3PEa7V         0.778   0.824   10    -5.892     0   \n",
       "\n",
       "                        speechiness  acousticness  instrumentalness  liveness  \\\n",
       "id                                                                              \n",
       "7dS5EaCoMnN7DzlpT6aRn2       0.0464        0.6340          0.000000     0.116   \n",
       "2V4bv1fNWfTcyRJKmej6Sj       0.0474        0.1790          0.000000     0.689   \n",
       "7KA4W4McWYRpgf0fWsJZWB       0.0959        0.3710          0.000007     0.109   \n",
       "3gbBpTdY8lnQwqxNCcf795       0.0407        0.0755          0.000000     0.271   \n",
       "3ZFTkvIE7kyPt6Nu3PEa7V       0.0707        0.2840          0.000000     0.405   \n",
       "\n",
       "                        valence    tempo  duration_ms  time_signature  \n",
       "id                                                                     \n",
       "7dS5EaCoMnN7DzlpT6aRn2    0.437  128.945       241688               4  \n",
       "2V4bv1fNWfTcyRJKmej6Sj    0.625  129.965       213293               4  \n",
       "7KA4W4McWYRpgf0fWsJZWB    0.620   78.558       180387               4  \n",
       "3gbBpTdY8lnQwqxNCcf795    0.571  127.435       214148               4  \n",
       "3ZFTkvIE7kyPt6Nu3PEa7V    0.758  100.024       218093               4  "
      ]
     },
     "execution_count": 77,
     "metadata": {},
     "output_type": "execute_result"
    }
   ],
   "source": [
    "dataset.head()"
   ]
  },
  {
   "attachments": {},
   "cell_type": "markdown",
   "metadata": {
    "datalore": {
     "hide_input_from_viewers": false,
     "hide_output_from_viewers": false,
     "type": "MD"
    }
   },
   "source": [
    "Now the distribution looks normal."
   ]
  },
  {
   "cell_type": "code",
   "execution_count": 78,
   "metadata": {
    "datalore": {
     "hide_input_from_viewers": false,
     "hide_output_from_viewers": false,
     "type": "CODE"
    }
   },
   "outputs": [
    {
     "data": {
      "image/png": "[encoded data removed]",
      "text/plain": [
       "<Figure size 640x480 with 1 Axes>"
      ]
     },
     "metadata": {},
     "output_type": "display_data"
    }
   ],
   "source": [
    "plt.hist(dataset['valence'], 20, density = True, \n",
    "         histtype ='bar')\n",
    "plt.show()"
   ]
  },
  {
   "attachments": {},
   "cell_type": "markdown",
   "metadata": {
    "datalore": {
     "hide_input_from_viewers": false,
     "hide_output_from_viewers": false,
     "type": "MD"
    }
   },
   "source": [
    "Down-sample at 50% of the original, approximately 110k rows, and plot our target's variable distribution."
   ]
  },
  {
   "cell_type": "code",
   "execution_count": 79,
   "metadata": {
    "datalore": {
     "hide_input_from_viewers": false,
     "hide_output_from_viewers": false,
     "type": "CODE"
    }
   },
   "outputs": [
    {
     "data": {
      "image/png": "[encoded data removed]",
      "text/plain": [
       "<Figure size 640x480 with 1 Axes>"
      ]
     },
     "metadata": {},
     "output_type": "display_data"
    }
   ],
   "source": [
    "train_set = dataset.sample(frac=.5)\n",
    "\n",
    "plt.hist(train_set['valence'], 100, density = True, \n",
    "         histtype ='bar')\n",
    "plt.show()"
   ]
  },
  {
   "attachments": {},
   "cell_type": "markdown",
   "metadata": {
    "datalore": {
     "hide_input_from_viewers": false,
     "hide_output_from_viewers": false,
     "type": "MD"
    }
   },
   "source": [
    "Plot for-each variable"
   ]
  },
  {
   "cell_type": "code",
   "execution_count": 80,
   "metadata": {
    "datalore": {
     "hide_input_from_viewers": false,
     "hide_output_from_viewers": false,
     "type": "CODE"
    }
   },
   "outputs": [
    {
     "data": {
      "image/png": "[encoded data removed]",
      "text/plain": [
       "<Figure size 2000x2000 with 16 Axes>"
      ]
     },
     "metadata": {},
     "output_type": "display_data"
    }
   ],
   "source": [
    "train_set.hist(figsize=(20, 20), color=\"b\")\n",
    "plt.show()\n",
    "plt.style.use('ggplot')"
   ]
  },
  {
   "cell_type": "markdown",
   "metadata": {},
   "source": [
    "acousticness\n",
    "\n",
    "number<float>\n",
    "\n",
    "A confidence measure from 0.0 to 1.0 of whether the track is acoustic. 1.0 represents high confidence the track is acoustic.\n",
    "\n",
    "\\>= 0<= 1\n",
    "\n",
    "analysis\\_url\n",
    "\n",
    "string\n",
    "\n",
    "A URL to access the full audio analysis of this track. An access token is required to access this data.\n",
    "\n",
    "danceability\n",
    "\n",
    "number<float>\n",
    "\n",
    "Danceability describes how suitable a track is for dancing based on a combination of musical elements including tempo, rhythm stability, beat strength, and overall regularity. A value of 0.0 is least danceable and 1.0 is most danceable.\n",
    "\n",
    "duration\\_ms\n",
    "\n",
    "integer\n",
    "\n",
    "The duration of the track in milliseconds.\n",
    "\n",
    "energy\n",
    "\n",
    "number<float>\n",
    "\n",
    "Energy is a measure from 0.0 to 1.0 and represents a perceptual measure of intensity and activity. Typically, energetic tracks feel fast, loud, and noisy. For example, death metal has high energy, while a Bach prelude scores low on the scale. Perceptual features contributing to this attribute include dynamic range, perceived loudness, timbre, onset rate, and general entropy.\n",
    "\n",
    "id\n",
    "\n",
    "string\n",
    "\n",
    "The Spotify ID for the track.\n",
    "\n",
    "instrumentalness\n",
    "\n",
    "number<float>\n",
    "\n",
    "Predicts whether a track contains no vocals. \"Ooh\" and \"aah\" sounds are treated as instrumental in this context. Rap or spoken word tracks are clearly \"vocal\". The closer the instrumentalness value is to 1.0, the greater likelihood the track contains no vocal content. Values above 0.5 are intended to represent instrumental tracks, but confidence is higher as the value approaches 1.0.\n",
    "\n",
    "key\n",
    "\n",
    "integer\n",
    "\n",
    "The key the track is in. Integers map to pitches using standard [Pitch Class notation](https://en.wikipedia.org/wiki/Pitch_class). E.g. 0 = C, 1 = C♯/D♭, 2 = D, and so on. If no key was detected, the value is -1.\n",
    "\n",
    "\\>= -1<= 11\n",
    "\n",
    "liveness\n",
    "\n",
    "number<float>\n",
    "\n",
    "Detects the presence of an audience in the recording. Higher liveness values represent an increased probability that the track was performed live. A value above 0.8 provides strong likelihood that the track is live.\n",
    "\n",
    "loudness\n",
    "\n",
    "number<float>\n",
    "\n",
    "The overall loudness of a track in decibels (dB). Loudness values are averaged across the entire track and are useful for comparing relative loudness of tracks. Loudness is the quality of a sound that is the primary psychological correlate of physical strength (amplitude). Values typically range between -60 and 0 db.\n",
    "\n",
    "mode\n",
    "\n",
    "integer\n",
    "\n",
    "Mode indicates the modality (major or minor) of a track, the type of scale from which its melodic content is derived. Major is represented by 1 and minor is 0.\n",
    "\n",
    "speechiness\n",
    "\n",
    "number<float>\n",
    "\n",
    "Speechiness detects the presence of spoken words in a track. The more exclusively speech-like the recording (e.g. talk show, audio book, poetry), the closer to 1.0 the attribute value. Values above 0.66 describe tracks that are probably made entirely of spoken words. Values between 0.33 and 0.66 describe tracks that may contain both music and speech, either in sections or layered, including such cases as rap music. Values below 0.33 most likely represent music and other non-speech-like tracks.\n",
    "\n",
    "tempo\n",
    "\n",
    "number<float>\n",
    "\n",
    "The overall estimated tempo of a track in beats per minute (BPM). In musical terminology, tempo is the speed or pace of a given piece and derives directly from the average beat duration.\n",
    "\n",
    "time\\_signature\n",
    "\n",
    "integer\n",
    "\n",
    "An estimated time signature. The time signature (meter) is a notational convention to specify how many beats are in each bar (or measure). The time signature ranges from 3 to 7 indicating time signatures of \"3/4\", to \"7/4\".\n",
    "\n",
    "\\>= 3<= 7\n",
    "\n",
    "track\\_href\n",
    "\n",
    "string\n",
    "\n",
    "A link to the Web API endpoint providing full details of the track.\n",
    "\n",
    "type\n",
    "\n",
    "string\n",
    "\n",
    "The object type.\n",
    "\n",
    "Allowed value:\"audio\\_features\"\n",
    "\n",
    "uri\n",
    "\n",
    "string\n",
    "\n",
    "The Spotify URI for the track.\n",
    "\n",
    "valence\n",
    "\n",
    "number<float>\n",
    "\n",
    "A measure from 0.0 to 1.0 describing the musical positiveness conveyed by a track. Tracks with high valence sound more positive (e.g. happy, cheerful, euphoric), while tracks with low valence sound more negative (e.g. sad, depressed, angry).\n",
    "\n",
    "\\>= 0<= 1"
   ]
  },
  {
   "attachments": {},
   "cell_type": "markdown",
   "metadata": {
    "datalore": {
     "hide_input_from_viewers": false,
     "hide_output_from_viewers": false,
     "type": "MD"
    }
   },
   "source": [
    "Investigate correlation patterns"
   ]
  },
  {
   "cell_type": "code",
   "execution_count": 81,
   "metadata": {
    "datalore": {
     "hide_input_from_viewers": false,
     "hide_output_from_viewers": false,
     "type": "CODE"
    }
   },
   "outputs": [
    {
     "data": {
      "image/png": "[encoded data removed]",
      "text/plain": [
       "<Figure size 1500x1000 with 2 Axes>"
      ]
     },
     "metadata": {},
     "output_type": "display_data"
    }
   ],
   "source": [
    "import seaborn as sns\n",
    "fig, ax = plt.subplots(figsize=(15,10))\n",
    "sns.heatmap(train_set.corr(), annot=True, cmap='YlGnBu', vmin=-1, vmax=1, center=0, ax=ax)\n",
    "plt.title('LINEAR CORRELATION MATRIX')\n",
    "plt.show()\n",
    "plt.style.use('ggplot')"
   ]
  },
  {
   "cell_type": "markdown",
   "metadata": {},
   "source": [
    "We notice a significant correlation between the sets (valence, danceability), and (loudness, energy)"
   ]
  },
  {
   "attachments": {},
   "cell_type": "markdown",
   "metadata": {
    "datalore": {
     "hide_input_from_viewers": false,
     "hide_output_from_viewers": false,
     "type": "MD"
    }
   },
   "source": [
    "Transform dataset show that the factor variables will be representing a sparse matrix."
   ]
  },
  {
   "cell_type": "code",
   "execution_count": 129,
   "metadata": {
    "datalore": {
     "hide_input_from_viewers": false,
     "hide_output_from_viewers": false,
     "type": "CODE"
    }
   },
   "outputs": [],
   "source": [
    "# train_set.iloc[:, :-13].describe()"
   ]
  },
  {
   "cell_type": "code",
   "execution_count": 119,
   "metadata": {
    "datalore": {
     "hide_input_from_viewers": false,
     "hide_output_from_viewers": false,
     "type": "CODE"
    }
   },
   "outputs": [],
   "source": [
    "from sklearn.preprocessing import MinMaxScaler\n",
    "scaler = MinMaxScaler()"
   ]
  },
  {
   "cell_type": "code",
   "execution_count": 82,
   "metadata": {
    "datalore": {
     "hide_input_from_viewers": false,
     "hide_output_from_viewers": false,
     "type": "CODE"
    }
   },
   "outputs": [],
   "source": [
    "def get_dataset_for_analysis(pandas_set):\n",
    "    result = pd.get_dummies(pandas_set, columns=['key', 'mode', 'time_signature'], drop_first=True)\n",
    "    #result[['loudness', 'tempo']] = scaler.fit_transform(result[['loudness', 'tempo']])\n",
    "    return result"
   ]
  },
  {
   "cell_type": "code",
   "execution_count": 83,
   "metadata": {
    "datalore": {
     "hide_input_from_viewers": false,
     "hide_output_from_viewers": false,
     "type": "CODE"
    }
   },
   "outputs": [],
   "source": [
    "train_set = get_dataset_for_analysis(train_set)"
   ]
  },
  {
   "attachments": {},
   "cell_type": "markdown",
   "metadata": {
    "datalore": {
     "hide_input_from_viewers": false,
     "hide_output_from_viewers": false,
     "type": "MD"
    }
   },
   "source": [
    "Looking at the rest variables, two of them need scaling and duration will be at first transformed to seconds."
   ]
  },
  {
   "cell_type": "code",
   "execution_count": 84,
   "metadata": {
    "datalore": {
     "hide_input_from_viewers": false,
     "hide_output_from_viewers": false,
     "type": "CODE"
    }
   },
   "outputs": [
    {
     "data": {
      "text/html": [
       "<div>\n",
       "<style scoped>\n",
       "    .dataframe tbody tr th:only-of-type {\n",
       "        vertical-align: middle;\n",
       "    }\n",
       "\n",
       "    .dataframe tbody tr th {\n",
       "        vertical-align: top;\n",
       "    }\n",
       "\n",
       "    .dataframe thead th {\n",
       "        text-align: right;\n",
       "    }\n",
       "</style>\n",
       "<table border=\"1\" class=\"dataframe\">\n",
       "  <thead>\n",
       "    <tr style=\"text-align: right;\">\n",
       "      <th></th>\n",
       "      <th>danceability</th>\n",
       "      <th>energy</th>\n",
       "      <th>loudness</th>\n",
       "      <th>speechiness</th>\n",
       "      <th>acousticness</th>\n",
       "      <th>instrumentalness</th>\n",
       "      <th>liveness</th>\n",
       "      <th>valence</th>\n",
       "      <th>tempo</th>\n",
       "      <th>duration_ms</th>\n",
       "      <th>...</th>\n",
       "      <th>key_7</th>\n",
       "      <th>key_8</th>\n",
       "      <th>key_9</th>\n",
       "      <th>key_10</th>\n",
       "      <th>key_11</th>\n",
       "      <th>mode_1</th>\n",
       "      <th>time_signature_1</th>\n",
       "      <th>time_signature_3</th>\n",
       "      <th>time_signature_4</th>\n",
       "      <th>time_signature_5</th>\n",
       "    </tr>\n",
       "    <tr>\n",
       "      <th>id</th>\n",
       "      <th></th>\n",
       "      <th></th>\n",
       "      <th></th>\n",
       "      <th></th>\n",
       "      <th></th>\n",
       "      <th></th>\n",
       "      <th></th>\n",
       "      <th></th>\n",
       "      <th></th>\n",
       "      <th></th>\n",
       "      <th></th>\n",
       "      <th></th>\n",
       "      <th></th>\n",
       "      <th></th>\n",
       "      <th></th>\n",
       "      <th></th>\n",
       "      <th></th>\n",
       "      <th></th>\n",
       "      <th></th>\n",
       "      <th></th>\n",
       "      <th></th>\n",
       "    </tr>\n",
       "  </thead>\n",
       "  <tbody>\n",
       "    <tr>\n",
       "      <th>51LIqkda3pTeECZUhMnool</th>\n",
       "      <td>0.838</td>\n",
       "      <td>0.546</td>\n",
       "      <td>-6.811</td>\n",
       "      <td>0.2950</td>\n",
       "      <td>0.153</td>\n",
       "      <td>0.000000</td>\n",
       "      <td>0.0656</td>\n",
       "      <td>0.745</td>\n",
       "      <td>137.027</td>\n",
       "      <td>206533</td>\n",
       "      <td>...</td>\n",
       "      <td>0</td>\n",
       "      <td>0</td>\n",
       "      <td>0</td>\n",
       "      <td>0</td>\n",
       "      <td>0</td>\n",
       "      <td>0</td>\n",
       "      <td>0</td>\n",
       "      <td>0</td>\n",
       "      <td>1</td>\n",
       "      <td>0</td>\n",
       "    </tr>\n",
       "    <tr>\n",
       "      <th>2JgUnjMIhY4JrWdE9ABlVJ</th>\n",
       "      <td>0.613</td>\n",
       "      <td>0.525</td>\n",
       "      <td>-7.545</td>\n",
       "      <td>0.0583</td>\n",
       "      <td>0.782</td>\n",
       "      <td>0.000025</td>\n",
       "      <td>0.0662</td>\n",
       "      <td>0.437</td>\n",
       "      <td>89.977</td>\n",
       "      <td>196000</td>\n",
       "      <td>...</td>\n",
       "      <td>0</td>\n",
       "      <td>0</td>\n",
       "      <td>0</td>\n",
       "      <td>0</td>\n",
       "      <td>0</td>\n",
       "      <td>0</td>\n",
       "      <td>0</td>\n",
       "      <td>0</td>\n",
       "      <td>1</td>\n",
       "      <td>0</td>\n",
       "    </tr>\n",
       "  </tbody>\n",
       "</table>\n",
       "<p>2 rows × 26 columns</p>\n",
       "</div>"
      ],
      "text/plain": [
       "                        danceability  energy  loudness  speechiness  \\\n",
       "id                                                                    \n",
       "51LIqkda3pTeECZUhMnool         0.838   0.546    -6.811       0.2950   \n",
       "2JgUnjMIhY4JrWdE9ABlVJ         0.613   0.525    -7.545       0.0583   \n",
       "\n",
       "                        acousticness  instrumentalness  liveness  valence  \\\n",
       "id                                                                          \n",
       "51LIqkda3pTeECZUhMnool         0.153          0.000000    0.0656    0.745   \n",
       "2JgUnjMIhY4JrWdE9ABlVJ         0.782          0.000025    0.0662    0.437   \n",
       "\n",
       "                          tempo  duration_ms  ...  key_7  key_8  key_9  \\\n",
       "id                                            ...                        \n",
       "51LIqkda3pTeECZUhMnool  137.027       206533  ...      0      0      0   \n",
       "2JgUnjMIhY4JrWdE9ABlVJ   89.977       196000  ...      0      0      0   \n",
       "\n",
       "                        key_10  key_11  mode_1  time_signature_1  \\\n",
       "id                                                                 \n",
       "51LIqkda3pTeECZUhMnool       0       0       0                 0   \n",
       "2JgUnjMIhY4JrWdE9ABlVJ       0       0       0                 0   \n",
       "\n",
       "                        time_signature_3  time_signature_4  time_signature_5  \n",
       "id                                                                            \n",
       "51LIqkda3pTeECZUhMnool                 0                 1                 0  \n",
       "2JgUnjMIhY4JrWdE9ABlVJ                 0                 1                 0  \n",
       "\n",
       "[2 rows x 26 columns]"
      ]
     },
     "execution_count": 84,
     "metadata": {},
     "output_type": "execute_result"
    }
   ],
   "source": [
    "train_set.head(2)"
   ]
  },
  {
   "attachments": {},
   "cell_type": "markdown",
   "metadata": {
    "datalore": {
     "hide_input_from_viewers": false,
     "hide_output_from_viewers": false,
     "type": "MD"
    }
   },
   "source": [
    "Fit a Linear Regression model to see how the independent variables are affecting `valence`."
   ]
  },
  {
   "cell_type": "code",
   "execution_count": 85,
   "metadata": {
    "datalore": {
     "hide_input_from_viewers": false,
     "hide_output_from_viewers": false,
     "type": "CODE"
    }
   },
   "outputs": [
    {
     "data": {
      "text/html": [
       "<table class=\"simpletable\">\n",
       "<caption>OLS Regression Results</caption>\n",
       "<tr>\n",
       "  <th>Dep. Variable:</th>         <td>valence</td>     <th>  R-squared:         </th>  <td>   0.381</td> \n",
       "</tr>\n",
       "<tr>\n",
       "  <th>Model:</th>                   <td>OLS</td>       <th>  Adj. R-squared:    </th>  <td>   0.381</td> \n",
       "</tr>\n",
       "<tr>\n",
       "  <th>Method:</th>             <td>Least Squares</td>  <th>  F-statistic:       </th>  <td>   3356.</td> \n",
       "</tr>\n",
       "<tr>\n",
       "  <th>Date:</th>             <td>Wed, 20 Apr 2022</td> <th>  Prob (F-statistic):</th>   <td>  0.00</td>  \n",
       "</tr>\n",
       "<tr>\n",
       "  <th>Time:</th>                 <td>22:31:49</td>     <th>  Log-Likelihood:    </th>  <td>  21757.</td> \n",
       "</tr>\n",
       "<tr>\n",
       "  <th>No. Observations:</th>      <td>136376</td>      <th>  AIC:               </th> <td>-4.346e+04</td>\n",
       "</tr>\n",
       "<tr>\n",
       "  <th>Df Residuals:</th>          <td>136350</td>      <th>  BIC:               </th> <td>-4.321e+04</td>\n",
       "</tr>\n",
       "<tr>\n",
       "  <th>Df Model:</th>              <td>    25</td>      <th>                     </th>      <td> </td>    \n",
       "</tr>\n",
       "<tr>\n",
       "  <th>Covariance Type:</th>      <td>nonrobust</td>    <th>                     </th>      <td> </td>    \n",
       "</tr>\n",
       "</table>\n",
       "<table class=\"simpletable\">\n",
       "<tr>\n",
       "          <td></td>            <th>coef</th>     <th>std err</th>      <th>t</th>      <th>P>|t|</th>  <th>[0.025</th>    <th>0.975]</th>  \n",
       "</tr>\n",
       "<tr>\n",
       "  <th>Intercept</th>        <td>   -0.2595</td> <td>    0.017</td> <td>  -15.384</td> <td> 0.000</td> <td>   -0.293</td> <td>   -0.226</td>\n",
       "</tr>\n",
       "<tr>\n",
       "  <th>danceability</th>     <td>    0.7338</td> <td>    0.003</td> <td>  217.078</td> <td> 0.000</td> <td>    0.727</td> <td>    0.740</td>\n",
       "</tr>\n",
       "<tr>\n",
       "  <th>energy</th>           <td>    0.4327</td> <td>    0.004</td> <td>  100.739</td> <td> 0.000</td> <td>    0.424</td> <td>    0.441</td>\n",
       "</tr>\n",
       "<tr>\n",
       "  <th>loudness</th>         <td>   -0.0072</td> <td>    0.000</td> <td>  -37.390</td> <td> 0.000</td> <td>   -0.008</td> <td>   -0.007</td>\n",
       "</tr>\n",
       "<tr>\n",
       "  <th>speechiness</th>      <td>   -0.1930</td> <td>    0.005</td> <td>  -36.930</td> <td> 0.000</td> <td>   -0.203</td> <td>   -0.183</td>\n",
       "</tr>\n",
       "<tr>\n",
       "  <th>acousticness</th>     <td>    0.1632</td> <td>    0.003</td> <td>   62.905</td> <td> 0.000</td> <td>    0.158</td> <td>    0.168</td>\n",
       "</tr>\n",
       "<tr>\n",
       "  <th>instrumentalness</th> <td>   -0.1468</td> <td>    0.002</td> <td>  -73.421</td> <td> 0.000</td> <td>   -0.151</td> <td>   -0.143</td>\n",
       "</tr>\n",
       "<tr>\n",
       "  <th>liveness</th>         <td>    0.0006</td> <td>    0.003</td> <td>    0.219</td> <td> 0.826</td> <td>   -0.005</td> <td>    0.006</td>\n",
       "</tr>\n",
       "<tr>\n",
       "  <th>tempo</th>            <td>    0.0007</td> <td> 1.97e-05</td> <td>   35.523</td> <td> 0.000</td> <td>    0.001</td> <td>    0.001</td>\n",
       "</tr>\n",
       "<tr>\n",
       "  <th>duration_ms</th>      <td>-1.719e-07</td> <td>  4.7e-09</td> <td>  -36.572</td> <td> 0.000</td> <td>-1.81e-07</td> <td>-1.63e-07</td>\n",
       "</tr>\n",
       "<tr>\n",
       "  <th>key_1</th>            <td>   -0.0453</td> <td>    0.002</td> <td>  -18.617</td> <td> 0.000</td> <td>   -0.050</td> <td>   -0.041</td>\n",
       "</tr>\n",
       "<tr>\n",
       "  <th>key_2</th>            <td>   -0.0114</td> <td>    0.002</td> <td>   -4.783</td> <td> 0.000</td> <td>   -0.016</td> <td>   -0.007</td>\n",
       "</tr>\n",
       "<tr>\n",
       "  <th>key_3</th>            <td>   -0.0061</td> <td>    0.004</td> <td>   -1.674</td> <td> 0.094</td> <td>   -0.013</td> <td>    0.001</td>\n",
       "</tr>\n",
       "<tr>\n",
       "  <th>key_4</th>            <td>   -0.0101</td> <td>    0.003</td> <td>   -3.823</td> <td> 0.000</td> <td>   -0.015</td> <td>   -0.005</td>\n",
       "</tr>\n",
       "<tr>\n",
       "  <th>key_5</th>            <td>    0.0072</td> <td>    0.003</td> <td>    2.777</td> <td> 0.005</td> <td>    0.002</td> <td>    0.012</td>\n",
       "</tr>\n",
       "<tr>\n",
       "  <th>key_6</th>            <td>   -0.0105</td> <td>    0.003</td> <td>   -3.804</td> <td> 0.000</td> <td>   -0.016</td> <td>   -0.005</td>\n",
       "</tr>\n",
       "<tr>\n",
       "  <th>key_7</th>            <td>   -0.0013</td> <td>    0.002</td> <td>   -0.572</td> <td> 0.567</td> <td>   -0.006</td> <td>    0.003</td>\n",
       "</tr>\n",
       "<tr>\n",
       "  <th>key_8</th>            <td>   -0.0178</td> <td>    0.003</td> <td>   -6.396</td> <td> 0.000</td> <td>   -0.023</td> <td>   -0.012</td>\n",
       "</tr>\n",
       "<tr>\n",
       "  <th>key_9</th>            <td>    0.0101</td> <td>    0.002</td> <td>    4.188</td> <td> 0.000</td> <td>    0.005</td> <td>    0.015</td>\n",
       "</tr>\n",
       "<tr>\n",
       "  <th>key_10</th>           <td>    0.0015</td> <td>    0.003</td> <td>    0.522</td> <td> 0.602</td> <td>   -0.004</td> <td>    0.007</td>\n",
       "</tr>\n",
       "<tr>\n",
       "  <th>key_11</th>           <td>   -0.0065</td> <td>    0.003</td> <td>   -2.470</td> <td> 0.014</td> <td>   -0.012</td> <td>   -0.001</td>\n",
       "</tr>\n",
       "<tr>\n",
       "  <th>mode_1</th>           <td>    0.0201</td> <td>    0.001</td> <td>   16.577</td> <td> 0.000</td> <td>    0.018</td> <td>    0.022</td>\n",
       "</tr>\n",
       "<tr>\n",
       "  <th>time_signature_1</th> <td>   -0.0564</td> <td>    0.017</td> <td>   -3.266</td> <td> 0.001</td> <td>   -0.090</td> <td>   -0.023</td>\n",
       "</tr>\n",
       "<tr>\n",
       "  <th>time_signature_3</th> <td>   -0.0637</td> <td>    0.016</td> <td>   -3.891</td> <td> 0.000</td> <td>   -0.096</td> <td>   -0.032</td>\n",
       "</tr>\n",
       "<tr>\n",
       "  <th>time_signature_4</th> <td>   -0.0679</td> <td>    0.016</td> <td>   -4.168</td> <td> 0.000</td> <td>   -0.100</td> <td>   -0.036</td>\n",
       "</tr>\n",
       "<tr>\n",
       "  <th>time_signature_5</th> <td>   -0.0690</td> <td>    0.017</td> <td>   -4.099</td> <td> 0.000</td> <td>   -0.102</td> <td>   -0.036</td>\n",
       "</tr>\n",
       "</table>\n",
       "<table class=\"simpletable\">\n",
       "<tr>\n",
       "  <th>Omnibus:</th>       <td>1234.578</td> <th>  Durbin-Watson:     </th> <td>   2.003</td> \n",
       "</tr>\n",
       "<tr>\n",
       "  <th>Prob(Omnibus):</th>  <td> 0.000</td>  <th>  Jarque-Bera (JB):  </th> <td> 853.473</td> \n",
       "</tr>\n",
       "<tr>\n",
       "  <th>Skew:</th>           <td> 0.070</td>  <th>  Prob(JB):          </th> <td>4.68e-186</td>\n",
       "</tr>\n",
       "<tr>\n",
       "  <th>Kurtosis:</th>       <td> 2.638</td>  <th>  Cond. No.          </th> <td>1.75e+07</td> \n",
       "</tr>\n",
       "</table><br/><br/>Notes:<br/>[1] Standard Errors assume that the covariance matrix of the errors is correctly specified.<br/>[2] The condition number is large, 1.75e+07. This might indicate that there are<br/>strong multicollinearity or other numerical problems."
      ],
      "text/plain": [
       "<class 'statsmodels.iolib.summary.Summary'>\n",
       "\"\"\"\n",
       "                            OLS Regression Results                            \n",
       "==============================================================================\n",
       "Dep. Variable:                valence   R-squared:                       0.381\n",
       "Model:                            OLS   Adj. R-squared:                  0.381\n",
       "Method:                 Least Squares   F-statistic:                     3356.\n",
       "Date:                Wed, 20 Apr 2022   Prob (F-statistic):               0.00\n",
       "Time:                        22:31:49   Log-Likelihood:                 21757.\n",
       "No. Observations:              136376   AIC:                        -4.346e+04\n",
       "Df Residuals:                  136350   BIC:                        -4.321e+04\n",
       "Df Model:                          25                                         \n",
       "Covariance Type:            nonrobust                                         \n",
       "====================================================================================\n",
       "                       coef    std err          t      P>|t|      [0.025      0.975]\n",
       "------------------------------------------------------------------------------------\n",
       "Intercept           -0.2595      0.017    -15.384      0.000      -0.293      -0.226\n",
       "danceability         0.7338      0.003    217.078      0.000       0.727       0.740\n",
       "energy               0.4327      0.004    100.739      0.000       0.424       0.441\n",
       "loudness            -0.0072      0.000    -37.390      0.000      -0.008      -0.007\n",
       "speechiness         -0.1930      0.005    -36.930      0.000      -0.203      -0.183\n",
       "acousticness         0.1632      0.003     62.905      0.000       0.158       0.168\n",
       "instrumentalness    -0.1468      0.002    -73.421      0.000      -0.151      -0.143\n",
       "liveness             0.0006      0.003      0.219      0.826      -0.005       0.006\n",
       "tempo                0.0007   1.97e-05     35.523      0.000       0.001       0.001\n",
       "duration_ms      -1.719e-07    4.7e-09    -36.572      0.000   -1.81e-07   -1.63e-07\n",
       "key_1               -0.0453      0.002    -18.617      0.000      -0.050      -0.041\n",
       "key_2               -0.0114      0.002     -4.783      0.000      -0.016      -0.007\n",
       "key_3               -0.0061      0.004     -1.674      0.094      -0.013       0.001\n",
       "key_4               -0.0101      0.003     -3.823      0.000      -0.015      -0.005\n",
       "key_5                0.0072      0.003      2.777      0.005       0.002       0.012\n",
       "key_6               -0.0105      0.003     -3.804      0.000      -0.016      -0.005\n",
       "key_7               -0.0013      0.002     -0.572      0.567      -0.006       0.003\n",
       "key_8               -0.0178      0.003     -6.396      0.000      -0.023      -0.012\n",
       "key_9                0.0101      0.002      4.188      0.000       0.005       0.015\n",
       "key_10               0.0015      0.003      0.522      0.602      -0.004       0.007\n",
       "key_11              -0.0065      0.003     -2.470      0.014      -0.012      -0.001\n",
       "mode_1               0.0201      0.001     16.577      0.000       0.018       0.022\n",
       "time_signature_1    -0.0564      0.017     -3.266      0.001      -0.090      -0.023\n",
       "time_signature_3    -0.0637      0.016     -3.891      0.000      -0.096      -0.032\n",
       "time_signature_4    -0.0679      0.016     -4.168      0.000      -0.100      -0.036\n",
       "time_signature_5    -0.0690      0.017     -4.099      0.000      -0.102      -0.036\n",
       "==============================================================================\n",
       "Omnibus:                     1234.578   Durbin-Watson:                   2.003\n",
       "Prob(Omnibus):                  0.000   Jarque-Bera (JB):              853.473\n",
       "Skew:                           0.070   Prob(JB):                    4.68e-186\n",
       "Kurtosis:                       2.638   Cond. No.                     1.75e+07\n",
       "==============================================================================\n",
       "\n",
       "Notes:\n",
       "[1] Standard Errors assume that the covariance matrix of the errors is correctly specified.\n",
       "[2] The condition number is large, 1.75e+07. This might indicate that there are\n",
       "strong multicollinearity or other numerical problems.\n",
       "\"\"\""
      ]
     },
     "execution_count": 85,
     "metadata": {},
     "output_type": "execute_result"
    }
   ],
   "source": [
    "import statsmodels.formula.api as smf\n",
    "import statsmodels.api as sm\n",
    "X_train = train_set[train_set.columns[~train_set.columns.isin(['valence'])]]\n",
    "df_mod = smf.ols(formula='valence ~ ' + \" + \".join(X_train), data=train_set)\n",
    "df_res = df_mod.fit()\n",
    "df_res.summary()"
   ]
  },
  {
   "cell_type": "markdown",
   "metadata": {},
   "source": [
    "Let's now fix multicollinearity issues."
   ]
  },
  {
   "cell_type": "code",
   "execution_count": 86,
   "metadata": {},
   "outputs": [],
   "source": [
    "from statsmodels.stats.outliers_influence import variance_inflation_factor\n",
    "from statsmodels.tools.tools import add_constant"
   ]
  },
  {
   "cell_type": "code",
   "execution_count": 87,
   "metadata": {},
   "outputs": [
    {
     "data": {
      "text/plain": [
       "const               911.482409\n",
       "danceability          1.308980\n",
       "energy                3.709400\n",
       "loudness              3.025912\n",
       "speechiness           1.113768\n",
       "acousticness          2.157206\n",
       "instrumentalness      1.297661\n",
       "liveness              1.112189\n",
       "tempo                 1.085468\n",
       "duration_ms           1.058049\n",
       "key_1                 1.731635\n",
       "key_2                 1.733482\n",
       "key_3                 1.234245\n",
       "key_4                 1.586047\n",
       "key_5                 1.577485\n",
       "key_6                 1.514959\n",
       "key_7                 1.772575\n",
       "key_8                 1.466296\n",
       "key_9                 1.731251\n",
       "key_10                1.495524\n",
       "key_11                1.628308\n",
       "mode_1                1.094311\n",
       "time_signature_1      8.288899\n",
       "time_signature_3     64.858887\n",
       "time_signature_4     81.828817\n",
       "time_signature_5     13.746723\n",
       "dtype: float64"
      ]
     },
     "execution_count": 87,
     "metadata": {},
     "output_type": "execute_result"
    }
   ],
   "source": [
    "C = add_constant(X_train)\n",
    "pd.Series([variance_inflation_factor(C.values, i) for i in range(C.shape[1])],\n",
    "          index=C.columns)"
   ]
  },
  {
   "cell_type": "markdown",
   "metadata": {},
   "source": [
    "We see a strong VIF(>10) for the most modes of `time_signature` variable. We are going to drop it from our train set for regression."
   ]
  },
  {
   "cell_type": "code",
   "execution_count": 96,
   "metadata": {},
   "outputs": [],
   "source": [
    "X_linear_regresssion_train = X_train.iloc[:, :-4]"
   ]
  },
  {
   "cell_type": "markdown",
   "metadata": {},
   "source": [
    "We now observe that only the constant has a hight Variation Inflation Factor."
   ]
  },
  {
   "cell_type": "code",
   "execution_count": 98,
   "metadata": {},
   "outputs": [
    {
     "data": {
      "text/plain": [
       "const               115.701034\n",
       "danceability          1.236799\n",
       "energy                3.680909\n",
       "loudness              2.995870\n",
       "speechiness           1.092043\n",
       "acousticness          2.138898\n",
       "instrumentalness      1.293663\n",
       "liveness              1.111635\n",
       "tempo                 1.061754\n",
       "duration_ms           1.053720\n",
       "key_1                 1.731590\n",
       "key_2                 1.733139\n",
       "key_3                 1.234057\n",
       "key_4                 1.585705\n",
       "key_5                 1.577366\n",
       "key_6                 1.514714\n",
       "key_7                 1.772274\n",
       "key_8                 1.466226\n",
       "key_9                 1.731076\n",
       "key_10                1.495454\n",
       "key_11                1.628219\n",
       "mode_1                1.094161\n",
       "dtype: float64"
      ]
     },
     "execution_count": 98,
     "metadata": {},
     "output_type": "execute_result"
    }
   ],
   "source": [
    "C = add_constant(X_linear_regresssion_train)\n",
    "pd.Series([variance_inflation_factor(C.values, i) for i in range(C.shape[1])],\n",
    "          index=C.columns)"
   ]
  },
  {
   "cell_type": "markdown",
   "metadata": {},
   "source": [
    "Data normalization\n",
    "\n",
    "At the end we normalize `loudness`, `tempo`, and `duration_s`, to the [0, 1] range."
   ]
  },
  {
   "cell_type": "code",
   "execution_count": 105,
   "metadata": {},
   "outputs": [],
   "source": [
    "X_linear_regresssion_train['duration_s'] = X_linear_regresssion_train['duration_ms']/1000\n",
    "X_linear_regresssion_train.drop(\"duration_ms\", axis=1, inplace=True)"
   ]
  },
  {
   "cell_type": "code",
   "execution_count": 120,
   "metadata": {},
   "outputs": [],
   "source": [
    "X_linear_regresssion_train[['loudness', 'tempo', 'duration_s']] = scaler.fit_transform(X_linear_regresssion_train[['loudness', 'tempo', 'duration_s']])"
   ]
  },
  {
   "cell_type": "code",
   "execution_count": 122,
   "metadata": {},
   "outputs": [
    {
     "data": {
      "text/html": [
       "<div>\n",
       "<style scoped>\n",
       "    .dataframe tbody tr th:only-of-type {\n",
       "        vertical-align: middle;\n",
       "    }\n",
       "\n",
       "    .dataframe tbody tr th {\n",
       "        vertical-align: top;\n",
       "    }\n",
       "\n",
       "    .dataframe thead th {\n",
       "        text-align: right;\n",
       "    }\n",
       "</style>\n",
       "<table border=\"1\" class=\"dataframe\">\n",
       "  <thead>\n",
       "    <tr style=\"text-align: right;\">\n",
       "      <th></th>\n",
       "      <th>danceability</th>\n",
       "      <th>energy</th>\n",
       "      <th>loudness</th>\n",
       "      <th>speechiness</th>\n",
       "      <th>acousticness</th>\n",
       "      <th>instrumentalness</th>\n",
       "      <th>liveness</th>\n",
       "      <th>tempo</th>\n",
       "      <th>key_1</th>\n",
       "      <th>key_2</th>\n",
       "      <th>...</th>\n",
       "      <th>key_4</th>\n",
       "      <th>key_5</th>\n",
       "      <th>key_6</th>\n",
       "      <th>key_7</th>\n",
       "      <th>key_8</th>\n",
       "      <th>key_9</th>\n",
       "      <th>key_10</th>\n",
       "      <th>key_11</th>\n",
       "      <th>mode_1</th>\n",
       "      <th>duration_s</th>\n",
       "    </tr>\n",
       "  </thead>\n",
       "  <tbody>\n",
       "    <tr>\n",
       "      <th>count</th>\n",
       "      <td>136376.000000</td>\n",
       "      <td>136376.000000</td>\n",
       "      <td>136376.000000</td>\n",
       "      <td>136376.000000</td>\n",
       "      <td>136376.000000</td>\n",
       "      <td>136376.000000</td>\n",
       "      <td>136376.000000</td>\n",
       "      <td>136376.000000</td>\n",
       "      <td>136376.000000</td>\n",
       "      <td>136376.000000</td>\n",
       "      <td>...</td>\n",
       "      <td>136376.000000</td>\n",
       "      <td>136376.000000</td>\n",
       "      <td>136376.000000</td>\n",
       "      <td>136376.000000</td>\n",
       "      <td>136376.000000</td>\n",
       "      <td>136376.000000</td>\n",
       "      <td>136376.000000</td>\n",
       "      <td>136376.000000</td>\n",
       "      <td>136376.000000</td>\n",
       "      <td>136376.000000</td>\n",
       "    </tr>\n",
       "    <tr>\n",
       "      <th>mean</th>\n",
       "      <td>0.552305</td>\n",
       "      <td>0.659246</td>\n",
       "      <td>0.823442</td>\n",
       "      <td>0.098013</td>\n",
       "      <td>0.267227</td>\n",
       "      <td>0.175864</td>\n",
       "      <td>0.222872</td>\n",
       "      <td>0.497205</td>\n",
       "      <td>0.101359</td>\n",
       "      <td>0.106448</td>\n",
       "      <td>...</td>\n",
       "      <td>0.077426</td>\n",
       "      <td>0.078753</td>\n",
       "      <td>0.066801</td>\n",
       "      <td>0.113414</td>\n",
       "      <td>0.063362</td>\n",
       "      <td>0.104073</td>\n",
       "      <td>0.063831</td>\n",
       "      <td>0.080615</td>\n",
       "      <td>0.633249</td>\n",
       "      <td>238.632995</td>\n",
       "    </tr>\n",
       "    <tr>\n",
       "      <th>std</th>\n",
       "      <td>0.189078</td>\n",
       "      <td>0.250523</td>\n",
       "      <td>0.080461</td>\n",
       "      <td>0.112806</td>\n",
       "      <td>0.316257</td>\n",
       "      <td>0.318189</td>\n",
       "      <td>0.199543</td>\n",
       "      <td>0.120934</td>\n",
       "      <td>0.301805</td>\n",
       "      <td>0.308412</td>\n",
       "      <td>...</td>\n",
       "      <td>0.267267</td>\n",
       "      <td>0.269354</td>\n",
       "      <td>0.249677</td>\n",
       "      <td>0.317100</td>\n",
       "      <td>0.243613</td>\n",
       "      <td>0.305356</td>\n",
       "      <td>0.244452</td>\n",
       "      <td>0.272244</td>\n",
       "      <td>0.481919</td>\n",
       "      <td>122.273595</td>\n",
       "    </tr>\n",
       "    <tr>\n",
       "      <th>min</th>\n",
       "      <td>0.000000</td>\n",
       "      <td>0.000000</td>\n",
       "      <td>0.000000</td>\n",
       "      <td>0.000000</td>\n",
       "      <td>0.000000</td>\n",
       "      <td>0.000000</td>\n",
       "      <td>0.000000</td>\n",
       "      <td>0.000000</td>\n",
       "      <td>0.000000</td>\n",
       "      <td>0.000000</td>\n",
       "      <td>...</td>\n",
       "      <td>0.000000</td>\n",
       "      <td>0.000000</td>\n",
       "      <td>0.000000</td>\n",
       "      <td>0.000000</td>\n",
       "      <td>0.000000</td>\n",
       "      <td>0.000000</td>\n",
       "      <td>0.000000</td>\n",
       "      <td>0.000000</td>\n",
       "      <td>0.000000</td>\n",
       "      <td>5.307000</td>\n",
       "    </tr>\n",
       "    <tr>\n",
       "      <th>25%</th>\n",
       "      <td>0.423000</td>\n",
       "      <td>0.495000</td>\n",
       "      <td>0.797088</td>\n",
       "      <td>0.037300</td>\n",
       "      <td>0.006530</td>\n",
       "      <td>0.000000</td>\n",
       "      <td>0.098700</td>\n",
       "      <td>0.403817</td>\n",
       "      <td>0.000000</td>\n",
       "      <td>0.000000</td>\n",
       "      <td>...</td>\n",
       "      <td>0.000000</td>\n",
       "      <td>0.000000</td>\n",
       "      <td>0.000000</td>\n",
       "      <td>0.000000</td>\n",
       "      <td>0.000000</td>\n",
       "      <td>0.000000</td>\n",
       "      <td>0.000000</td>\n",
       "      <td>0.000000</td>\n",
       "      <td>0.000000</td>\n",
       "      <td>181.333000</td>\n",
       "    </tr>\n",
       "    <tr>\n",
       "      <th>50%</th>\n",
       "      <td>0.565000</td>\n",
       "      <td>0.703000</td>\n",
       "      <td>0.844451</td>\n",
       "      <td>0.054600</td>\n",
       "      <td>0.111000</td>\n",
       "      <td>0.000196</td>\n",
       "      <td>0.137000</td>\n",
       "      <td>0.494886</td>\n",
       "      <td>0.000000</td>\n",
       "      <td>0.000000</td>\n",
       "      <td>...</td>\n",
       "      <td>0.000000</td>\n",
       "      <td>0.000000</td>\n",
       "      <td>0.000000</td>\n",
       "      <td>0.000000</td>\n",
       "      <td>0.000000</td>\n",
       "      <td>0.000000</td>\n",
       "      <td>0.000000</td>\n",
       "      <td>0.000000</td>\n",
       "      <td>1.000000</td>\n",
       "      <td>220.453000</td>\n",
       "    </tr>\n",
       "    <tr>\n",
       "      <th>75%</th>\n",
       "      <td>0.697000</td>\n",
       "      <td>0.870000</td>\n",
       "      <td>0.875038</td>\n",
       "      <td>0.106000</td>\n",
       "      <td>0.478000</td>\n",
       "      <td>0.149000</td>\n",
       "      <td>0.291000</td>\n",
       "      <td>0.572292</td>\n",
       "      <td>0.000000</td>\n",
       "      <td>0.000000</td>\n",
       "      <td>...</td>\n",
       "      <td>0.000000</td>\n",
       "      <td>0.000000</td>\n",
       "      <td>0.000000</td>\n",
       "      <td>0.000000</td>\n",
       "      <td>0.000000</td>\n",
       "      <td>0.000000</td>\n",
       "      <td>0.000000</td>\n",
       "      <td>0.000000</td>\n",
       "      <td>1.000000</td>\n",
       "      <td>271.061000</td>\n",
       "    </tr>\n",
       "    <tr>\n",
       "      <th>max</th>\n",
       "      <td>0.985000</td>\n",
       "      <td>1.000000</td>\n",
       "      <td>1.000000</td>\n",
       "      <td>0.969000</td>\n",
       "      <td>0.996000</td>\n",
       "      <td>1.000000</td>\n",
       "      <td>1.000000</td>\n",
       "      <td>1.000000</td>\n",
       "      <td>1.000000</td>\n",
       "      <td>1.000000</td>\n",
       "      <td>...</td>\n",
       "      <td>1.000000</td>\n",
       "      <td>1.000000</td>\n",
       "      <td>1.000000</td>\n",
       "      <td>1.000000</td>\n",
       "      <td>1.000000</td>\n",
       "      <td>1.000000</td>\n",
       "      <td>1.000000</td>\n",
       "      <td>1.000000</td>\n",
       "      <td>1.000000</td>\n",
       "      <td>4995.315000</td>\n",
       "    </tr>\n",
       "  </tbody>\n",
       "</table>\n",
       "<p>8 rows × 21 columns</p>\n",
       "</div>"
      ],
      "text/plain": [
       "        danceability         energy       loudness    speechiness  \\\n",
       "count  136376.000000  136376.000000  136376.000000  136376.000000   \n",
       "mean        0.552305       0.659246       0.823442       0.098013   \n",
       "std         0.189078       0.250523       0.080461       0.112806   \n",
       "min         0.000000       0.000000       0.000000       0.000000   \n",
       "25%         0.423000       0.495000       0.797088       0.037300   \n",
       "50%         0.565000       0.703000       0.844451       0.054600   \n",
       "75%         0.697000       0.870000       0.875038       0.106000   \n",
       "max         0.985000       1.000000       1.000000       0.969000   \n",
       "\n",
       "        acousticness  instrumentalness       liveness          tempo  \\\n",
       "count  136376.000000     136376.000000  136376.000000  136376.000000   \n",
       "mean        0.267227          0.175864       0.222872       0.497205   \n",
       "std         0.316257          0.318189       0.199543       0.120934   \n",
       "min         0.000000          0.000000       0.000000       0.000000   \n",
       "25%         0.006530          0.000000       0.098700       0.403817   \n",
       "50%         0.111000          0.000196       0.137000       0.494886   \n",
       "75%         0.478000          0.149000       0.291000       0.572292   \n",
       "max         0.996000          1.000000       1.000000       1.000000   \n",
       "\n",
       "               key_1          key_2  ...          key_4          key_5  \\\n",
       "count  136376.000000  136376.000000  ...  136376.000000  136376.000000   \n",
       "mean        0.101359       0.106448  ...       0.077426       0.078753   \n",
       "std         0.301805       0.308412  ...       0.267267       0.269354   \n",
       "min         0.000000       0.000000  ...       0.000000       0.000000   \n",
       "25%         0.000000       0.000000  ...       0.000000       0.000000   \n",
       "50%         0.000000       0.000000  ...       0.000000       0.000000   \n",
       "75%         0.000000       0.000000  ...       0.000000       0.000000   \n",
       "max         1.000000       1.000000  ...       1.000000       1.000000   \n",
       "\n",
       "               key_6          key_7          key_8          key_9  \\\n",
       "count  136376.000000  136376.000000  136376.000000  136376.000000   \n",
       "mean        0.066801       0.113414       0.063362       0.104073   \n",
       "std         0.249677       0.317100       0.243613       0.305356   \n",
       "min         0.000000       0.000000       0.000000       0.000000   \n",
       "25%         0.000000       0.000000       0.000000       0.000000   \n",
       "50%         0.000000       0.000000       0.000000       0.000000   \n",
       "75%         0.000000       0.000000       0.000000       0.000000   \n",
       "max         1.000000       1.000000       1.000000       1.000000   \n",
       "\n",
       "              key_10         key_11         mode_1     duration_s  \n",
       "count  136376.000000  136376.000000  136376.000000  136376.000000  \n",
       "mean        0.063831       0.080615       0.633249     238.632995  \n",
       "std         0.244452       0.272244       0.481919     122.273595  \n",
       "min         0.000000       0.000000       0.000000       5.307000  \n",
       "25%         0.000000       0.000000       0.000000     181.333000  \n",
       "50%         0.000000       0.000000       1.000000     220.453000  \n",
       "75%         0.000000       0.000000       1.000000     271.061000  \n",
       "max         1.000000       1.000000       1.000000    4995.315000  \n",
       "\n",
       "[8 rows x 21 columns]"
      ]
     },
     "execution_count": 122,
     "metadata": {},
     "output_type": "execute_result"
    }
   ],
   "source": [
    "X_linear_regresssion_train.describe()"
   ]
  },
  {
   "cell_type": "markdown",
   "metadata": {},
   "source": [
    "Fit a regression without the constant"
   ]
  },
  {
   "cell_type": "code",
   "execution_count": 127,
   "metadata": {},
   "outputs": [
    {
     "data": {
      "text/html": [
       "<table class=\"simpletable\">\n",
       "<caption>OLS Regression Results</caption>\n",
       "<tr>\n",
       "  <th>Dep. Variable:</th>         <td>valence</td>     <th>  R-squared (uncentered):</th>       <td>   0.854</td> \n",
       "</tr>\n",
       "<tr>\n",
       "  <th>Model:</th>                   <td>OLS</td>       <th>  Adj. R-squared (uncentered):</th>  <td>   0.854</td> \n",
       "</tr>\n",
       "<tr>\n",
       "  <th>Method:</th>             <td>Least Squares</td>  <th>  F-statistic:       </th>           <td>3.792e+04</td>\n",
       "</tr>\n",
       "<tr>\n",
       "  <th>Date:</th>             <td>Wed, 20 Apr 2022</td> <th>  Prob (F-statistic):</th>            <td>  0.00</td>  \n",
       "</tr>\n",
       "<tr>\n",
       "  <th>Time:</th>                 <td>23:05:15</td>     <th>  Log-Likelihood:    </th>           <td>  21672.</td> \n",
       "</tr>\n",
       "<tr>\n",
       "  <th>No. Observations:</th>      <td>136376</td>      <th>  AIC:               </th>          <td>-4.330e+04</td>\n",
       "</tr>\n",
       "<tr>\n",
       "  <th>Df Residuals:</th>          <td>136355</td>      <th>  BIC:               </th>          <td>-4.310e+04</td>\n",
       "</tr>\n",
       "<tr>\n",
       "  <th>Df Model:</th>              <td>    21</td>      <th>                     </th>               <td> </td>    \n",
       "</tr>\n",
       "<tr>\n",
       "  <th>Covariance Type:</th>      <td>nonrobust</td>    <th>                     </th>               <td> </td>    \n",
       "</tr>\n",
       "</table>\n",
       "<table class=\"simpletable\">\n",
       "<tr>\n",
       "          <td></td>            <th>coef</th>     <th>std err</th>      <th>t</th>      <th>P>|t|</th>  <th>[0.025</th>    <th>0.975]</th>  \n",
       "</tr>\n",
       "<tr>\n",
       "  <th>danceability</th>     <td>    0.7346</td> <td>    0.003</td> <td>  224.414</td> <td> 0.000</td> <td>    0.728</td> <td>    0.741</td>\n",
       "</tr>\n",
       "<tr>\n",
       "  <th>energy</th>           <td>    0.4145</td> <td>    0.004</td> <td>  102.910</td> <td> 0.000</td> <td>    0.407</td> <td>    0.422</td>\n",
       "</tr>\n",
       "<tr>\n",
       "  <th>loudness</th>         <td>   -0.3319</td> <td>    0.006</td> <td>  -53.111</td> <td> 0.000</td> <td>   -0.344</td> <td>   -0.320</td>\n",
       "</tr>\n",
       "<tr>\n",
       "  <th>speechiness</th>      <td>   -0.1846</td> <td>    0.005</td> <td>  -35.945</td> <td> 0.000</td> <td>   -0.195</td> <td>   -0.175</td>\n",
       "</tr>\n",
       "<tr>\n",
       "  <th>acousticness</th>     <td>    0.1730</td> <td>    0.002</td> <td>   70.693</td> <td> 0.000</td> <td>    0.168</td> <td>    0.178</td>\n",
       "</tr>\n",
       "<tr>\n",
       "  <th>instrumentalness</th> <td>   -0.1371</td> <td>    0.002</td> <td>  -75.491</td> <td> 0.000</td> <td>   -0.141</td> <td>   -0.134</td>\n",
       "</tr>\n",
       "<tr>\n",
       "  <th>liveness</th>         <td>    0.0048</td> <td>    0.003</td> <td>    1.625</td> <td> 0.104</td> <td>   -0.001</td> <td>    0.011</td>\n",
       "</tr>\n",
       "<tr>\n",
       "  <th>tempo</th>            <td>    0.1802</td> <td>    0.005</td> <td>   38.645</td> <td> 0.000</td> <td>    0.171</td> <td>    0.189</td>\n",
       "</tr>\n",
       "<tr>\n",
       "  <th>key_1</th>            <td>   -0.0415</td> <td>    0.002</td> <td>  -17.167</td> <td> 0.000</td> <td>   -0.046</td> <td>   -0.037</td>\n",
       "</tr>\n",
       "<tr>\n",
       "  <th>key_2</th>            <td>   -0.0078</td> <td>    0.002</td> <td>   -3.288</td> <td> 0.001</td> <td>   -0.012</td> <td>   -0.003</td>\n",
       "</tr>\n",
       "<tr>\n",
       "  <th>key_3</th>            <td>   -0.0027</td> <td>    0.004</td> <td>   -0.733</td> <td> 0.464</td> <td>   -0.010</td> <td>    0.004</td>\n",
       "</tr>\n",
       "<tr>\n",
       "  <th>key_4</th>            <td>   -0.0063</td> <td>    0.003</td> <td>   -2.394</td> <td> 0.017</td> <td>   -0.011</td> <td>   -0.001</td>\n",
       "</tr>\n",
       "<tr>\n",
       "  <th>key_5</th>            <td>    0.0110</td> <td>    0.003</td> <td>    4.261</td> <td> 0.000</td> <td>    0.006</td> <td>    0.016</td>\n",
       "</tr>\n",
       "<tr>\n",
       "  <th>key_6</th>            <td>   -0.0068</td> <td>    0.003</td> <td>   -2.479</td> <td> 0.013</td> <td>   -0.012</td> <td>   -0.001</td>\n",
       "</tr>\n",
       "<tr>\n",
       "  <th>key_7</th>            <td>    0.0021</td> <td>    0.002</td> <td>    0.906</td> <td> 0.365</td> <td>   -0.002</td> <td>    0.007</td>\n",
       "</tr>\n",
       "<tr>\n",
       "  <th>key_8</th>            <td>   -0.0145</td> <td>    0.003</td> <td>   -5.242</td> <td> 0.000</td> <td>   -0.020</td> <td>   -0.009</td>\n",
       "</tr>\n",
       "<tr>\n",
       "  <th>key_9</th>            <td>    0.0138</td> <td>    0.002</td> <td>    5.795</td> <td> 0.000</td> <td>    0.009</td> <td>    0.019</td>\n",
       "</tr>\n",
       "<tr>\n",
       "  <th>key_10</th>           <td>    0.0056</td> <td>    0.003</td> <td>    2.023</td> <td> 0.043</td> <td>    0.000</td> <td>    0.011</td>\n",
       "</tr>\n",
       "<tr>\n",
       "  <th>key_11</th>           <td>   -0.0026</td> <td>    0.003</td> <td>   -0.987</td> <td> 0.324</td> <td>   -0.008</td> <td>    0.003</td>\n",
       "</tr>\n",
       "<tr>\n",
       "  <th>mode_1</th>           <td>    0.0216</td> <td>    0.001</td> <td>   17.910</td> <td> 0.000</td> <td>    0.019</td> <td>    0.024</td>\n",
       "</tr>\n",
       "<tr>\n",
       "  <th>duration_s</th>       <td>   -0.8192</td> <td>    0.023</td> <td>  -35.411</td> <td> 0.000</td> <td>   -0.865</td> <td>   -0.774</td>\n",
       "</tr>\n",
       "</table>\n",
       "<table class=\"simpletable\">\n",
       "<tr>\n",
       "  <th>Omnibus:</th>       <td>1269.955</td> <th>  Durbin-Watson:     </th> <td>   2.003</td> \n",
       "</tr>\n",
       "<tr>\n",
       "  <th>Prob(Omnibus):</th>  <td> 0.000</td>  <th>  Jarque-Bera (JB):  </th> <td> 871.816</td> \n",
       "</tr>\n",
       "<tr>\n",
       "  <th>Skew:</th>           <td> 0.069</td>  <th>  Prob(JB):          </th> <td>4.87e-190</td>\n",
       "</tr>\n",
       "<tr>\n",
       "  <th>Kurtosis:</th>       <td> 2.634</td>  <th>  Cond. No.          </th> <td>    63.9</td> \n",
       "</tr>\n",
       "</table><br/><br/>Notes:<br/>[1] R² is computed without centering (uncentered) since the model does not contain a constant.<br/>[2] Standard Errors assume that the covariance matrix of the errors is correctly specified."
      ],
      "text/plain": [
       "<class 'statsmodels.iolib.summary.Summary'>\n",
       "\"\"\"\n",
       "                                 OLS Regression Results                                \n",
       "=======================================================================================\n",
       "Dep. Variable:                valence   R-squared (uncentered):                   0.854\n",
       "Model:                            OLS   Adj. R-squared (uncentered):              0.854\n",
       "Method:                 Least Squares   F-statistic:                          3.792e+04\n",
       "Date:                Wed, 20 Apr 2022   Prob (F-statistic):                        0.00\n",
       "Time:                        23:05:15   Log-Likelihood:                          21672.\n",
       "No. Observations:              136376   AIC:                                 -4.330e+04\n",
       "Df Residuals:                  136355   BIC:                                 -4.310e+04\n",
       "Df Model:                          21                                                  \n",
       "Covariance Type:            nonrobust                                                  \n",
       "====================================================================================\n",
       "                       coef    std err          t      P>|t|      [0.025      0.975]\n",
       "------------------------------------------------------------------------------------\n",
       "danceability         0.7346      0.003    224.414      0.000       0.728       0.741\n",
       "energy               0.4145      0.004    102.910      0.000       0.407       0.422\n",
       "loudness            -0.3319      0.006    -53.111      0.000      -0.344      -0.320\n",
       "speechiness         -0.1846      0.005    -35.945      0.000      -0.195      -0.175\n",
       "acousticness         0.1730      0.002     70.693      0.000       0.168       0.178\n",
       "instrumentalness    -0.1371      0.002    -75.491      0.000      -0.141      -0.134\n",
       "liveness             0.0048      0.003      1.625      0.104      -0.001       0.011\n",
       "tempo                0.1802      0.005     38.645      0.000       0.171       0.189\n",
       "key_1               -0.0415      0.002    -17.167      0.000      -0.046      -0.037\n",
       "key_2               -0.0078      0.002     -3.288      0.001      -0.012      -0.003\n",
       "key_3               -0.0027      0.004     -0.733      0.464      -0.010       0.004\n",
       "key_4               -0.0063      0.003     -2.394      0.017      -0.011      -0.001\n",
       "key_5                0.0110      0.003      4.261      0.000       0.006       0.016\n",
       "key_6               -0.0068      0.003     -2.479      0.013      -0.012      -0.001\n",
       "key_7                0.0021      0.002      0.906      0.365      -0.002       0.007\n",
       "key_8               -0.0145      0.003     -5.242      0.000      -0.020      -0.009\n",
       "key_9                0.0138      0.002      5.795      0.000       0.009       0.019\n",
       "key_10               0.0056      0.003      2.023      0.043       0.000       0.011\n",
       "key_11              -0.0026      0.003     -0.987      0.324      -0.008       0.003\n",
       "mode_1               0.0216      0.001     17.910      0.000       0.019       0.024\n",
       "duration_s          -0.8192      0.023    -35.411      0.000      -0.865      -0.774\n",
       "==============================================================================\n",
       "Omnibus:                     1269.955   Durbin-Watson:                   2.003\n",
       "Prob(Omnibus):                  0.000   Jarque-Bera (JB):              871.816\n",
       "Skew:                           0.069   Prob(JB):                    4.87e-190\n",
       "Kurtosis:                       2.634   Cond. No.                         63.9\n",
       "==============================================================================\n",
       "\n",
       "Notes:\n",
       "[1] R² is computed without centering (uncentered) since the model does not contain a constant.\n",
       "[2] Standard Errors assume that the covariance matrix of the errors is correctly specified.\n",
       "\"\"\""
      ]
     },
     "execution_count": 127,
     "metadata": {},
     "output_type": "execute_result"
    }
   ],
   "source": [
    "linear_regresssion_train_set = X_linear_regresssion_train.copy()\n",
    "linear_regresssion_train_set['valence'] = train_set['valence']\n",
    "df_mod = smf.ols(formula='valence ~ ' + \" + \".join(X_linear_regresssion_train) + '-1', data=linear_regresssion_train_set)\n",
    "df_res = df_mod.fit()\n",
    "df_res.summary()"
   ]
  },
  {
   "cell_type": "code",
   "execution_count": 126,
   "metadata": {},
   "outputs": [
    {
     "data": {
      "text/plain": [
       "const               272.658517\n",
       "danceability          1.236799\n",
       "energy                3.680909\n",
       "loudness              2.995870\n",
       "speechiness           1.092043\n",
       "acousticness          2.138898\n",
       "instrumentalness      1.293663\n",
       "liveness              1.111635\n",
       "tempo                 1.061754\n",
       "key_1                 1.731590\n",
       "key_2                 1.733139\n",
       "key_3                 1.234057\n",
       "key_4                 1.585705\n",
       "key_5                 1.577366\n",
       "key_6                 1.514714\n",
       "key_7                 1.772274\n",
       "key_8                 1.466226\n",
       "key_9                 1.731076\n",
       "key_10                1.495454\n",
       "key_11                1.628219\n",
       "mode_1                1.094161\n",
       "duration_s            1.053720\n",
       "dtype: float64"
      ]
     },
     "execution_count": 126,
     "metadata": {},
     "output_type": "execute_result"
    }
   ],
   "source": [
    "C = add_constant(X_linear_regresssion_train)\n",
    "pd.Series([variance_inflation_factor(C.values, i) for i in range(C.shape[1])],\n",
    "          index=C.columns)"
   ]
  },
  {
   "cell_type": "markdown",
   "metadata": {},
   "source": [
    "Running backward step-wise selection.\n",
    "\n",
    "Help functions are from the Course slides."
   ]
  },
  {
   "cell_type": "code",
   "execution_count": 145,
   "metadata": {},
   "outputs": [],
   "source": [
    "def process_subset(y, data, feature_set):\n",
    "    X = data.loc[:, feature_set].values\n",
    "    X = sm.add_constant(X)\n",
    "    names = ['intercept']\n",
    "    names.extend(feature_set)\n",
    "    model = sm.OLS(y, X)\n",
    "    model.data.xnames = names\n",
    "    regr = model.fit()\n",
    "    return regr\n",
    "\n",
    "def backward_remove_variable(data, exog, selected):\n",
    "    \n",
    "    best_rsquared = 0\n",
    "    best_model = None\n",
    "    best_column = None\n",
    "    y = data.loc[:, exog]\n",
    "    \n",
    "    for column in selected:\n",
    "        new_selected = selected[:]\n",
    "        new_selected.remove(column)\n",
    "        regr = process_subset(y, data, new_selected)\n",
    "        if regr.rsquared > best_rsquared:\n",
    "            best_rsquared = regr.rsquared\n",
    "            best_model = regr\n",
    "            best_column = column\n",
    "    \n",
    "    return best_model, best_column\n",
    "    \n",
    "def backward_stepwise_selection(data, exog):\n",
    "\n",
    "    best_models = []\n",
    "    selected = [ x for x in data.columns if x != exog ]\n",
    "\n",
    "    p = len(selected) + 1\n",
    "\n",
    "    print(f'Finding the best model for {p - 1} variables')\n",
    "    print(selected)\n",
    "    y = data.loc[:, exog]\n",
    "    best_model = process_subset(y, data, selected)\n",
    "    best_models.append(best_model)\n",
    "\n",
    "    for i in reversed(range(2, p)):\n",
    "        print(f'Finding the best model for {i - 1} variable{\"s\" if (i - 1) > 1 else \"\"}')\n",
    "        model, best_column = backward_remove_variable(data, exog, selected)\n",
    "        selected.remove(best_column)\n",
    "        if not best_model or model.rsquared_adj > best_model.rsquared_adj:\n",
    "            best_model = model\n",
    "        print(selected)\n",
    "        best_models.append(model)\n",
    "        \n",
    "    print(f'Fitted {1 + p*(p+1)//2} models')\n",
    "    return best_model, best_models"
   ]
  },
  {
   "cell_type": "code",
   "execution_count": 146,
   "metadata": {},
   "outputs": [
    {
     "name": "stdout",
     "output_type": "stream",
     "text": [
      "Finding the best model for 21 variables\n",
      "['danceability', 'energy', 'loudness', 'speechiness', 'acousticness', 'instrumentalness', 'liveness', 'tempo', 'key_1', 'key_2', 'key_3', 'key_4', 'key_5', 'key_6', 'key_7', 'key_8', 'key_9', 'key_10', 'key_11', 'mode_1', 'duration_s']\n",
      "Finding the best model for 20 variables\n",
      "['danceability', 'energy', 'loudness', 'speechiness', 'acousticness', 'instrumentalness', 'tempo', 'key_1', 'key_2', 'key_3', 'key_4', 'key_5', 'key_6', 'key_7', 'key_8', 'key_9', 'key_10', 'key_11', 'mode_1', 'duration_s']\n",
      "Finding the best model for 19 variables\n",
      "['danceability', 'energy', 'loudness', 'speechiness', 'acousticness', 'instrumentalness', 'tempo', 'key_1', 'key_2', 'key_3', 'key_4', 'key_5', 'key_6', 'key_7', 'key_8', 'key_9', 'key_11', 'mode_1', 'duration_s']\n",
      "Finding the best model for 18 variables\n",
      "['danceability', 'energy', 'loudness', 'speechiness', 'acousticness', 'instrumentalness', 'tempo', 'key_1', 'key_2', 'key_3', 'key_4', 'key_5', 'key_6', 'key_8', 'key_9', 'key_11', 'mode_1', 'duration_s']\n",
      "Finding the best model for 17 variables\n",
      "['danceability', 'energy', 'loudness', 'speechiness', 'acousticness', 'instrumentalness', 'tempo', 'key_1', 'key_2', 'key_4', 'key_5', 'key_6', 'key_8', 'key_9', 'key_11', 'mode_1', 'duration_s']\n",
      "Finding the best model for 16 variables\n",
      "['danceability', 'energy', 'loudness', 'speechiness', 'acousticness', 'instrumentalness', 'tempo', 'key_1', 'key_2', 'key_4', 'key_5', 'key_6', 'key_8', 'key_9', 'mode_1', 'duration_s']\n",
      "Finding the best model for 15 variables\n",
      "['danceability', 'energy', 'loudness', 'speechiness', 'acousticness', 'instrumentalness', 'tempo', 'key_1', 'key_2', 'key_4', 'key_5', 'key_8', 'key_9', 'mode_1', 'duration_s']\n",
      "Finding the best model for 14 variables\n",
      "['danceability', 'energy', 'loudness', 'speechiness', 'acousticness', 'instrumentalness', 'tempo', 'key_1', 'key_2', 'key_5', 'key_8', 'key_9', 'mode_1', 'duration_s']\n",
      "Finding the best model for 13 variables\n",
      "['danceability', 'energy', 'loudness', 'speechiness', 'acousticness', 'instrumentalness', 'tempo', 'key_1', 'key_5', 'key_8', 'key_9', 'mode_1', 'duration_s']\n",
      "Finding the best model for 12 variables\n",
      "['danceability', 'energy', 'loudness', 'speechiness', 'acousticness', 'instrumentalness', 'tempo', 'key_1', 'key_5', 'key_9', 'mode_1', 'duration_s']\n",
      "Finding the best model for 11 variables\n",
      "['danceability', 'energy', 'loudness', 'speechiness', 'acousticness', 'instrumentalness', 'tempo', 'key_1', 'key_9', 'mode_1', 'duration_s']\n",
      "Finding the best model for 10 variables\n",
      "['danceability', 'energy', 'loudness', 'speechiness', 'acousticness', 'instrumentalness', 'tempo', 'key_1', 'mode_1', 'duration_s']\n",
      "Finding the best model for 9 variables\n",
      "['danceability', 'energy', 'loudness', 'speechiness', 'acousticness', 'instrumentalness', 'tempo', 'key_1', 'duration_s']\n",
      "Finding the best model for 8 variables\n",
      "['danceability', 'energy', 'loudness', 'speechiness', 'acousticness', 'instrumentalness', 'tempo', 'duration_s']\n",
      "Finding the best model for 7 variables\n",
      "['danceability', 'energy', 'loudness', 'speechiness', 'acousticness', 'instrumentalness', 'duration_s']\n",
      "Finding the best model for 6 variables\n",
      "['danceability', 'energy', 'speechiness', 'acousticness', 'instrumentalness', 'duration_s']\n",
      "Finding the best model for 5 variables\n",
      "['danceability', 'energy', 'acousticness', 'instrumentalness', 'duration_s']\n",
      "Finding the best model for 4 variables\n",
      "['danceability', 'energy', 'acousticness', 'instrumentalness']\n",
      "Finding the best model for 3 variables\n",
      "['danceability', 'energy', 'acousticness']\n",
      "Finding the best model for 2 variables\n",
      "['danceability', 'energy']\n",
      "Finding the best model for 1 variable\n",
      "['danceability']\n",
      "Fitted 254 models\n",
      "Best overall model: 19 ['intercept', 'danceability', 'energy', 'loudness', 'speechiness', 'acousticness', 'instrumentalness', 'tempo', 'key_1', 'key_2', 'key_3', 'key_4', 'key_5', 'key_6', 'key_8', 'key_9', 'key_11', 'mode_1', 'duration_s']\n"
     ]
    }
   ],
   "source": [
    "best_model_backward, best_models_backward = backward_stepwise_selection(linear_regresssion_train_set, 'valence')\n",
    "print('Best overall model:', len(best_model_backward.model.exog_names), best_model_backward.model.exog_names)"
   ]
  },
  {
   "cell_type": "code",
   "execution_count": 148,
   "metadata": {},
   "outputs": [
    {
     "data": {
      "text/plain": [
       "Index(['key_10', 'key_7', 'liveness', 'valence'], dtype='object')"
      ]
     },
     "execution_count": 148,
     "metadata": {},
     "output_type": "execute_result"
    }
   ],
   "source": [
    "linear_regresssion_train_set.columns.difference(best_model_backward.model.exog_names)"
   ]
  },
  {
   "cell_type": "markdown",
   "metadata": {},
   "source": [
    "We are not going to remove key because it is a factor variable with most of its parts important."
   ]
  },
  {
   "cell_type": "code",
   "execution_count": 149,
   "metadata": {},
   "outputs": [
    {
     "data": {
      "text/html": [
       "<table class=\"simpletable\">\n",
       "<caption>OLS Regression Results</caption>\n",
       "<tr>\n",
       "  <th>Dep. Variable:</th>         <td>valence</td>     <th>  R-squared:         </th>  <td>   0.381</td> \n",
       "</tr>\n",
       "<tr>\n",
       "  <th>Model:</th>                   <td>OLS</td>       <th>  Adj. R-squared:    </th>  <td>   0.381</td> \n",
       "</tr>\n",
       "<tr>\n",
       "  <th>Method:</th>             <td>Least Squares</td>  <th>  F-statistic:       </th>  <td>   4193.</td> \n",
       "</tr>\n",
       "<tr>\n",
       "  <th>Date:</th>             <td>Wed, 20 Apr 2022</td> <th>  Prob (F-statistic):</th>   <td>  0.00</td>  \n",
       "</tr>\n",
       "<tr>\n",
       "  <th>Time:</th>                 <td>23:31:33</td>     <th>  Log-Likelihood:    </th>  <td>  21745.</td> \n",
       "</tr>\n",
       "<tr>\n",
       "  <th>No. Observations:</th>      <td>136376</td>      <th>  AIC:               </th> <td>-4.345e+04</td>\n",
       "</tr>\n",
       "<tr>\n",
       "  <th>Df Residuals:</th>          <td>136355</td>      <th>  BIC:               </th> <td>-4.324e+04</td>\n",
       "</tr>\n",
       "<tr>\n",
       "  <th>Df Model:</th>              <td>    20</td>      <th>                     </th>      <td> </td>    \n",
       "</tr>\n",
       "<tr>\n",
       "  <th>Covariance Type:</th>      <td>nonrobust</td>    <th>                     </th>      <td> </td>    \n",
       "</tr>\n",
       "</table>\n",
       "<table class=\"simpletable\">\n",
       "<tr>\n",
       "          <td></td>            <th>coef</th>     <th>std err</th>      <th>t</th>      <th>P>|t|</th>  <th>[0.025</th>    <th>0.975]</th>  \n",
       "</tr>\n",
       "<tr>\n",
       "  <th>Intercept</th>        <td>    0.1119</td> <td>    0.009</td> <td>   12.222</td> <td> 0.000</td> <td>    0.094</td> <td>    0.130</td>\n",
       "</tr>\n",
       "<tr>\n",
       "  <th>danceability</th>     <td>    0.7308</td> <td>    0.003</td> <td>  225.683</td> <td> 0.000</td> <td>    0.724</td> <td>    0.737</td>\n",
       "</tr>\n",
       "<tr>\n",
       "  <th>energy</th>           <td>    0.4322</td> <td>    0.004</td> <td>  102.797</td> <td> 0.000</td> <td>    0.424</td> <td>    0.440</td>\n",
       "</tr>\n",
       "<tr>\n",
       "  <th>loudness</th>         <td>   -0.4564</td> <td>    0.012</td> <td>  -38.061</td> <td> 0.000</td> <td>   -0.480</td> <td>   -0.433</td>\n",
       "</tr>\n",
       "<tr>\n",
       "  <th>speechiness</th>      <td>   -0.1925</td> <td>    0.005</td> <td>  -37.381</td> <td> 0.000</td> <td>   -0.203</td> <td>   -0.182</td>\n",
       "</tr>\n",
       "<tr>\n",
       "  <th>acousticness</th>     <td>    0.1630</td> <td>    0.003</td> <td>   63.219</td> <td> 0.000</td> <td>    0.158</td> <td>    0.168</td>\n",
       "</tr>\n",
       "<tr>\n",
       "  <th>instrumentalness</th> <td>   -0.1472</td> <td>    0.002</td> <td>  -74.048</td> <td> 0.000</td> <td>   -0.151</td> <td>   -0.143</td>\n",
       "</tr>\n",
       "<tr>\n",
       "  <th>tempo</th>            <td>    0.1684</td> <td>    0.005</td> <td>   35.416</td> <td> 0.000</td> <td>    0.159</td> <td>    0.178</td>\n",
       "</tr>\n",
       "<tr>\n",
       "  <th>key_1</th>            <td>   -0.0454</td> <td>    0.002</td> <td>  -18.640</td> <td> 0.000</td> <td>   -0.050</td> <td>   -0.041</td>\n",
       "</tr>\n",
       "<tr>\n",
       "  <th>key_2</th>            <td>   -0.0115</td> <td>    0.002</td> <td>   -4.821</td> <td> 0.000</td> <td>   -0.016</td> <td>   -0.007</td>\n",
       "</tr>\n",
       "<tr>\n",
       "  <th>key_3</th>            <td>   -0.0062</td> <td>    0.004</td> <td>   -1.710</td> <td> 0.087</td> <td>   -0.013</td> <td>    0.001</td>\n",
       "</tr>\n",
       "<tr>\n",
       "  <th>key_4</th>            <td>   -0.0102</td> <td>    0.003</td> <td>   -3.888</td> <td> 0.000</td> <td>   -0.015</td> <td>   -0.005</td>\n",
       "</tr>\n",
       "<tr>\n",
       "  <th>key_5</th>            <td>    0.0072</td> <td>    0.003</td> <td>    2.758</td> <td> 0.006</td> <td>    0.002</td> <td>    0.012</td>\n",
       "</tr>\n",
       "<tr>\n",
       "  <th>key_6</th>            <td>   -0.0106</td> <td>    0.003</td> <td>   -3.833</td> <td> 0.000</td> <td>   -0.016</td> <td>   -0.005</td>\n",
       "</tr>\n",
       "<tr>\n",
       "  <th>key_7</th>            <td>   -0.0014</td> <td>    0.002</td> <td>   -0.610</td> <td> 0.542</td> <td>   -0.006</td> <td>    0.003</td>\n",
       "</tr>\n",
       "<tr>\n",
       "  <th>key_8</th>            <td>   -0.0178</td> <td>    0.003</td> <td>   -6.418</td> <td> 0.000</td> <td>   -0.023</td> <td>   -0.012</td>\n",
       "</tr>\n",
       "<tr>\n",
       "  <th>key_9</th>            <td>    0.0100</td> <td>    0.002</td> <td>    4.145</td> <td> 0.000</td> <td>    0.005</td> <td>    0.015</td>\n",
       "</tr>\n",
       "<tr>\n",
       "  <th>key_10</th>           <td>    0.0015</td> <td>    0.003</td> <td>    0.526</td> <td> 0.599</td> <td>   -0.004</td> <td>    0.007</td>\n",
       "</tr>\n",
       "<tr>\n",
       "  <th>key_11</th>           <td>   -0.0065</td> <td>    0.003</td> <td>   -2.498</td> <td> 0.012</td> <td>   -0.012</td> <td>   -0.001</td>\n",
       "</tr>\n",
       "<tr>\n",
       "  <th>mode_1</th>           <td>    0.0201</td> <td>    0.001</td> <td>   16.554</td> <td> 0.000</td> <td>    0.018</td> <td>    0.022</td>\n",
       "</tr>\n",
       "<tr>\n",
       "  <th>duration_s</th>       <td>   -0.8631</td> <td>    0.023</td> <td>  -36.912</td> <td> 0.000</td> <td>   -0.909</td> <td>   -0.817</td>\n",
       "</tr>\n",
       "</table>\n",
       "<table class=\"simpletable\">\n",
       "<tr>\n",
       "  <th>Omnibus:</th>       <td>1245.083</td> <th>  Durbin-Watson:     </th> <td>   2.003</td> \n",
       "</tr>\n",
       "<tr>\n",
       "  <th>Prob(Omnibus):</th>  <td> 0.000</td>  <th>  Jarque-Bera (JB):  </th> <td> 859.608</td> \n",
       "</tr>\n",
       "<tr>\n",
       "  <th>Skew:</th>           <td> 0.070</td>  <th>  Prob(JB):          </th> <td>2.18e-187</td>\n",
       "</tr>\n",
       "<tr>\n",
       "  <th>Kurtosis:</th>       <td> 2.637</td>  <th>  Cond. No.          </th> <td>    76.2</td> \n",
       "</tr>\n",
       "</table><br/><br/>Notes:<br/>[1] Standard Errors assume that the covariance matrix of the errors is correctly specified."
      ],
      "text/plain": [
       "<class 'statsmodels.iolib.summary.Summary'>\n",
       "\"\"\"\n",
       "                            OLS Regression Results                            \n",
       "==============================================================================\n",
       "Dep. Variable:                valence   R-squared:                       0.381\n",
       "Model:                            OLS   Adj. R-squared:                  0.381\n",
       "Method:                 Least Squares   F-statistic:                     4193.\n",
       "Date:                Wed, 20 Apr 2022   Prob (F-statistic):               0.00\n",
       "Time:                        23:31:33   Log-Likelihood:                 21745.\n",
       "No. Observations:              136376   AIC:                        -4.345e+04\n",
       "Df Residuals:                  136355   BIC:                        -4.324e+04\n",
       "Df Model:                          20                                         \n",
       "Covariance Type:            nonrobust                                         \n",
       "====================================================================================\n",
       "                       coef    std err          t      P>|t|      [0.025      0.975]\n",
       "------------------------------------------------------------------------------------\n",
       "Intercept            0.1119      0.009     12.222      0.000       0.094       0.130\n",
       "danceability         0.7308      0.003    225.683      0.000       0.724       0.737\n",
       "energy               0.4322      0.004    102.797      0.000       0.424       0.440\n",
       "loudness            -0.4564      0.012    -38.061      0.000      -0.480      -0.433\n",
       "speechiness         -0.1925      0.005    -37.381      0.000      -0.203      -0.182\n",
       "acousticness         0.1630      0.003     63.219      0.000       0.158       0.168\n",
       "instrumentalness    -0.1472      0.002    -74.048      0.000      -0.151      -0.143\n",
       "tempo                0.1684      0.005     35.416      0.000       0.159       0.178\n",
       "key_1               -0.0454      0.002    -18.640      0.000      -0.050      -0.041\n",
       "key_2               -0.0115      0.002     -4.821      0.000      -0.016      -0.007\n",
       "key_3               -0.0062      0.004     -1.710      0.087      -0.013       0.001\n",
       "key_4               -0.0102      0.003     -3.888      0.000      -0.015      -0.005\n",
       "key_5                0.0072      0.003      2.758      0.006       0.002       0.012\n",
       "key_6               -0.0106      0.003     -3.833      0.000      -0.016      -0.005\n",
       "key_7               -0.0014      0.002     -0.610      0.542      -0.006       0.003\n",
       "key_8               -0.0178      0.003     -6.418      0.000      -0.023      -0.012\n",
       "key_9                0.0100      0.002      4.145      0.000       0.005       0.015\n",
       "key_10               0.0015      0.003      0.526      0.599      -0.004       0.007\n",
       "key_11              -0.0065      0.003     -2.498      0.012      -0.012      -0.001\n",
       "mode_1               0.0201      0.001     16.554      0.000       0.018       0.022\n",
       "duration_s          -0.8631      0.023    -36.912      0.000      -0.909      -0.817\n",
       "==============================================================================\n",
       "Omnibus:                     1245.083   Durbin-Watson:                   2.003\n",
       "Prob(Omnibus):                  0.000   Jarque-Bera (JB):              859.608\n",
       "Skew:                           0.070   Prob(JB):                    2.18e-187\n",
       "Kurtosis:                       2.637   Cond. No.                         76.2\n",
       "==============================================================================\n",
       "\n",
       "Notes:\n",
       "[1] Standard Errors assume that the covariance matrix of the errors is correctly specified.\n",
       "\"\"\""
      ]
     },
     "execution_count": 149,
     "metadata": {},
     "output_type": "execute_result"
    }
   ],
   "source": [
    "df_mod = smf.ols(formula='valence ~ ' + \" + \".join(X_linear_regresssion_train) + ' - liveness', data=linear_regresssion_train_set)\n",
    "df_res = df_mod.fit()\n",
    "df_res.summary()"
   ]
  },
  {
   "cell_type": "markdown",
   "metadata": {},
   "source": [
    "This is the model we will keep for our further analysis and prediction."
   ]
  },
  {
   "cell_type": "markdown",
   "metadata": {},
   "source": [
    "## Prediction"
   ]
  },
  {
   "attachments": {},
   "cell_type": "markdown",
   "metadata": {
    "datalore": {
     "hide_input_from_viewers": false,
     "hide_output_from_viewers": false,
     "type": "MD"
    }
   },
   "source": [
    "### 0. Load Test Data"
   ]
  },
  {
   "attachments": {},
   "cell_type": "markdown",
   "metadata": {
    "datalore": {
     "hide_input_from_viewers": false,
     "hide_output_from_viewers": false,
     "type": "MD"
    }
   },
   "source": [
    "Read the test songs and get the audio features for the list."
   ]
  },
  {
   "cell_type": "code",
   "execution_count": 150,
   "metadata": {
    "datalore": {
     "hide_input_from_viewers": false,
     "hide_output_from_viewers": false,
     "type": "CODE"
    }
   },
   "outputs": [],
   "source": [
    "import requests\n",
    "import io"
   ]
  },
  {
   "cell_type": "markdown",
   "metadata": {},
   "source": [
    "Data originally uploaded to the assignments section, copied over to my onedrive student account for high availability."
   ]
  },
  {
   "cell_type": "code",
   "execution_count": 151,
   "metadata": {
    "datalore": {
     "hide_input_from_viewers": false,
     "hide_output_from_viewers": false,
     "type": "CODE"
    }
   },
   "outputs": [],
   "source": [
    "test_ids = requests.get(\"https://auebgr-my.sharepoint.com/:t:/g/personal/p2822124_aueb_gr/ERdI-aCmY7RBm7XM7f_6Y8IBpeZZEk7pl08OL_Acn6dMlQ?e=ofsgiF&download=1\").content\n",
    "test_ids = pd.read_csv(io.StringIO(test_ids.decode('utf-8')), names=['id'])\n",
    "\n",
    "TEST_SONGS_PATH = './test_songs.csv'\n",
    "test_ids.to_csv(TEST_SONGS_PATH, index=False)"
   ]
  },
  {
   "cell_type": "code",
   "execution_count": 152,
   "metadata": {
    "datalore": {
     "hide_input_from_viewers": false,
     "hide_output_from_viewers": false,
     "type": "CODE"
    }
   },
   "outputs": [
    {
     "data": {
      "text/html": [
       "<div>\n",
       "<style scoped>\n",
       "    .dataframe tbody tr th:only-of-type {\n",
       "        vertical-align: middle;\n",
       "    }\n",
       "\n",
       "    .dataframe tbody tr th {\n",
       "        vertical-align: top;\n",
       "    }\n",
       "\n",
       "    .dataframe thead th {\n",
       "        text-align: right;\n",
       "    }\n",
       "</style>\n",
       "<table border=\"1\" class=\"dataframe\">\n",
       "  <thead>\n",
       "    <tr style=\"text-align: right;\">\n",
       "      <th></th>\n",
       "      <th>danceability</th>\n",
       "      <th>energy</th>\n",
       "      <th>key</th>\n",
       "      <th>loudness</th>\n",
       "      <th>mode</th>\n",
       "      <th>speechiness</th>\n",
       "      <th>acousticness</th>\n",
       "      <th>instrumentalness</th>\n",
       "      <th>liveness</th>\n",
       "      <th>valence</th>\n",
       "      <th>tempo</th>\n",
       "      <th>duration_ms</th>\n",
       "      <th>time_signature</th>\n",
       "    </tr>\n",
       "    <tr>\n",
       "      <th>id</th>\n",
       "      <th></th>\n",
       "      <th></th>\n",
       "      <th></th>\n",
       "      <th></th>\n",
       "      <th></th>\n",
       "      <th></th>\n",
       "      <th></th>\n",
       "      <th></th>\n",
       "      <th></th>\n",
       "      <th></th>\n",
       "      <th></th>\n",
       "      <th></th>\n",
       "      <th></th>\n",
       "    </tr>\n",
       "  </thead>\n",
       "  <tbody>\n",
       "    <tr>\n",
       "      <th>7lPN2DXiMsVn7XUKtOW1CS</th>\n",
       "      <td>0.585</td>\n",
       "      <td>0.436</td>\n",
       "      <td>10</td>\n",
       "      <td>-8.761</td>\n",
       "      <td>1</td>\n",
       "      <td>0.0601</td>\n",
       "      <td>0.72100</td>\n",
       "      <td>0.000013</td>\n",
       "      <td>0.1050</td>\n",
       "      <td>0.132</td>\n",
       "      <td>143.874</td>\n",
       "      <td>242014</td>\n",
       "      <td>4</td>\n",
       "    </tr>\n",
       "    <tr>\n",
       "      <th>5QO79kh1waicV47BqGRL3g</th>\n",
       "      <td>0.680</td>\n",
       "      <td>0.826</td>\n",
       "      <td>0</td>\n",
       "      <td>-5.487</td>\n",
       "      <td>1</td>\n",
       "      <td>0.0309</td>\n",
       "      <td>0.02120</td>\n",
       "      <td>0.000012</td>\n",
       "      <td>0.5430</td>\n",
       "      <td>0.644</td>\n",
       "      <td>118.051</td>\n",
       "      <td>215627</td>\n",
       "      <td>4</td>\n",
       "    </tr>\n",
       "    <tr>\n",
       "      <th>0VjIjW4GlUZAMYd2vXMi3b</th>\n",
       "      <td>0.514</td>\n",
       "      <td>0.730</td>\n",
       "      <td>1</td>\n",
       "      <td>-5.934</td>\n",
       "      <td>1</td>\n",
       "      <td>0.0598</td>\n",
       "      <td>0.00146</td>\n",
       "      <td>0.000095</td>\n",
       "      <td>0.0897</td>\n",
       "      <td>0.334</td>\n",
       "      <td>171.005</td>\n",
       "      <td>200040</td>\n",
       "      <td>4</td>\n",
       "    </tr>\n",
       "    <tr>\n",
       "      <th>4MzXwWMhyBbmu6hOcLVD49</th>\n",
       "      <td>0.731</td>\n",
       "      <td>0.573</td>\n",
       "      <td>4</td>\n",
       "      <td>-10.059</td>\n",
       "      <td>0</td>\n",
       "      <td>0.0544</td>\n",
       "      <td>0.40100</td>\n",
       "      <td>0.000052</td>\n",
       "      <td>0.1130</td>\n",
       "      <td>0.145</td>\n",
       "      <td>109.928</td>\n",
       "      <td>205090</td>\n",
       "      <td>4</td>\n",
       "    </tr>\n",
       "    <tr>\n",
       "      <th>5Kskr9LcNYa0tpt5f0ZEJx</th>\n",
       "      <td>0.907</td>\n",
       "      <td>0.393</td>\n",
       "      <td>4</td>\n",
       "      <td>-7.636</td>\n",
       "      <td>0</td>\n",
       "      <td>0.0539</td>\n",
       "      <td>0.45100</td>\n",
       "      <td>0.000001</td>\n",
       "      <td>0.1350</td>\n",
       "      <td>0.202</td>\n",
       "      <td>104.949</td>\n",
       "      <td>205458</td>\n",
       "      <td>4</td>\n",
       "    </tr>\n",
       "  </tbody>\n",
       "</table>\n",
       "</div>"
      ],
      "text/plain": [
       "                        danceability  energy  key  loudness  mode  \\\n",
       "id                                                                  \n",
       "7lPN2DXiMsVn7XUKtOW1CS         0.585   0.436   10    -8.761     1   \n",
       "5QO79kh1waicV47BqGRL3g         0.680   0.826    0    -5.487     1   \n",
       "0VjIjW4GlUZAMYd2vXMi3b         0.514   0.730    1    -5.934     1   \n",
       "4MzXwWMhyBbmu6hOcLVD49         0.731   0.573    4   -10.059     0   \n",
       "5Kskr9LcNYa0tpt5f0ZEJx         0.907   0.393    4    -7.636     0   \n",
       "\n",
       "                        speechiness  acousticness  instrumentalness  liveness  \\\n",
       "id                                                                              \n",
       "7lPN2DXiMsVn7XUKtOW1CS       0.0601       0.72100          0.000013    0.1050   \n",
       "5QO79kh1waicV47BqGRL3g       0.0309       0.02120          0.000012    0.5430   \n",
       "0VjIjW4GlUZAMYd2vXMi3b       0.0598       0.00146          0.000095    0.0897   \n",
       "4MzXwWMhyBbmu6hOcLVD49       0.0544       0.40100          0.000052    0.1130   \n",
       "5Kskr9LcNYa0tpt5f0ZEJx       0.0539       0.45100          0.000001    0.1350   \n",
       "\n",
       "                        valence    tempo  duration_ms  time_signature  \n",
       "id                                                                     \n",
       "7lPN2DXiMsVn7XUKtOW1CS    0.132  143.874       242014               4  \n",
       "5QO79kh1waicV47BqGRL3g    0.644  118.051       215627               4  \n",
       "0VjIjW4GlUZAMYd2vXMi3b    0.334  171.005       200040               4  \n",
       "4MzXwWMhyBbmu6hOcLVD49    0.145  109.928       205090               4  \n",
       "5Kskr9LcNYa0tpt5f0ZEJx    0.202  104.949       205458               4  "
      ]
     },
     "execution_count": 152,
     "metadata": {},
     "output_type": "execute_result"
    }
   ],
   "source": [
    "test_dataset = get_audio_features_for(sp, TEST_SONGS_PATH)\n",
    "test_dataset.head()"
   ]
  },
  {
   "cell_type": "code",
   "execution_count": 153,
   "metadata": {
    "datalore": {
     "hide_input_from_viewers": false,
     "hide_output_from_viewers": false,
     "type": "CODE"
    }
   },
   "outputs": [],
   "source": [
    "test_dataset = get_dataset_for_analysis(test_dataset)"
   ]
  },
  {
   "attachments": {},
   "cell_type": "markdown",
   "metadata": {
    "datalore": {
     "hide_input_from_viewers": false,
     "hide_output_from_viewers": false,
     "type": "MD"
    }
   },
   "source": [
    "Make sure we don't use test observations for our train"
   ]
  },
  {
   "cell_type": "code",
   "execution_count": 154,
   "metadata": {
    "datalore": {
     "hide_input_from_viewers": false,
     "hide_output_from_viewers": false,
     "type": "CODE"
    }
   },
   "outputs": [
    {
     "data": {
      "text/plain": [
       "136376"
      ]
     },
     "execution_count": 154,
     "metadata": {},
     "output_type": "execute_result"
    }
   ],
   "source": [
    "len(songs)\n",
    "len(train_set)"
   ]
  },
  {
   "cell_type": "markdown",
   "metadata": {},
   "source": [
    "Check for intersected valus."
   ]
  },
  {
   "cell_type": "code",
   "execution_count": 155,
   "metadata": {
    "datalore": {
     "hide_input_from_viewers": false,
     "hide_output_from_viewers": false,
     "type": "CODE"
    }
   },
   "outputs": [
    {
     "data": {
      "text/plain": [
       "523"
      ]
     },
     "execution_count": 155,
     "metadata": {},
     "output_type": "execute_result"
    }
   ],
   "source": [
    "train_test_dups = pd.merge(songs, test_ids, how ='inner', on =['id', 'id'])\n",
    "train_test_dups.drop_duplicates(['id'], inplace=True)\n",
    "len(train_test_dups)\n",
    "# not final train set, might have more dups.\n",
    "#songs.head()"
   ]
  },
  {
   "cell_type": "markdown",
   "metadata": {},
   "source": [
    "In the train set, we have ~ 400 rows from the test data.\n",
    "\n",
    "Removing them."
   ]
  },
  {
   "cell_type": "code",
   "execution_count": 156,
   "metadata": {},
   "outputs": [
    {
     "data": {
      "text/plain": [
       "-407"
      ]
     },
     "execution_count": 156,
     "metadata": {},
     "output_type": "execute_result"
    }
   ],
   "source": [
    "~train_set.index.isin(test_dataset.index).sum()"
   ]
  },
  {
   "cell_type": "code",
   "execution_count": 157,
   "metadata": {
    "datalore": {
     "hide_input_from_viewers": false,
     "hide_output_from_viewers": false,
     "type": "CODE"
    }
   },
   "outputs": [
    {
     "name": "stdout",
     "output_type": "stream",
     "text": [
      "136376\n",
      "135970\n",
      "406\n"
     ]
    }
   ],
   "source": [
    "mask = ~train_set.index.isin(test_dataset.index)\n",
    "result = train_set.loc[mask]\n",
    "print(len(train_set))\n",
    "print(len(result))\n",
    "print(len(train_set)-len(result))"
   ]
  },
  {
   "cell_type": "code",
   "execution_count": 158,
   "metadata": {
    "datalore": {
     "hide_input_from_viewers": false,
     "hide_output_from_viewers": false,
     "type": "CODE"
    }
   },
   "outputs": [],
   "source": [
    "train_set = result\n",
    "X_train = train_set[train_set.columns[~train_set.columns.isin(['valence'])]]"
   ]
  },
  {
   "cell_type": "markdown",
   "metadata": {},
   "source": [
    "Scale a copy of the test set to run predictions on."
   ]
  },
  {
   "cell_type": "code",
   "execution_count": 165,
   "metadata": {},
   "outputs": [],
   "source": [
    "linear_reg_test_data = test_dataset.copy()\n",
    "linear_reg_test_data['duration_s'] = linear_reg_test_data['duration_ms']/1000\n",
    "linear_reg_test_data.drop(\"duration_ms\", axis=1, inplace=True)\n",
    "linear_reg_test_data[['loudness', 'tempo', 'duration_s']] = scaler.fit_transform(linear_reg_test_data[['loudness', 'tempo', 'duration_s']])"
   ]
  },
  {
   "cell_type": "code",
   "execution_count": 169,
   "metadata": {},
   "outputs": [],
   "source": [
    "from sklearn.metrics import mean_absolute_error as MAE"
   ]
  },
  {
   "cell_type": "code",
   "execution_count": 167,
   "metadata": {},
   "outputs": [
    {
     "data": {
      "text/plain": [
       "0.18396887664979383"
      ]
     },
     "execution_count": 167,
     "metadata": {},
     "output_type": "execute_result"
    }
   ],
   "source": [
    "MAE(df_res.predict(linear_reg_test_data.drop('valence', axis=1)), linear_reg_test_data['valence'])"
   ]
  },
  {
   "cell_type": "markdown",
   "metadata": {},
   "source": [
    "MAE is almost 0.2 which is big."
   ]
  },
  {
   "attachments": {},
   "cell_type": "markdown",
   "metadata": {
    "datalore": {
     "hide_input_from_viewers": false,
     "hide_output_from_viewers": false,
     "type": "MD"
    }
   },
   "source": [
    "### Decision Tree Regression"
   ]
  },
  {
   "cell_type": "code",
   "execution_count": 29,
   "metadata": {
    "datalore": {
     "hide_input_from_viewers": false,
     "hide_output_from_viewers": false,
     "type": "CODE"
    }
   },
   "outputs": [
    {
     "data": {
      "text/plain": [
       "DecisionTreeRegressor(max_depth=3)"
      ]
     },
     "execution_count": 29,
     "metadata": {},
     "output_type": "execute_result"
    }
   ],
   "source": [
    "from sklearn.tree import DecisionTreeRegressor\n",
    "from sklearn import tree\n",
    "    \n",
    "tree_train = DecisionTreeRegressor(max_depth=3)\n",
    "\n",
    "tree_train.fit(X_train.values, train_set['valence'].values)"
   ]
  },
  {
   "cell_type": "code",
   "execution_count": null,
   "metadata": {
    "datalore": {
     "hide_input_from_viewers": false,
     "hide_output_from_viewers": false,
     "type": "CODE"
    }
   },
   "outputs": [],
   "source": [
    "# Only in linux envs\n",
    "!sudo DEBIAN_FRONTEND=noninteractive apt -y upgrade\n",
    "!sudo apt-get install graphviz"
   ]
  },
  {
   "cell_type": "code",
   "execution_count": null,
   "metadata": {
    "datalore": {
     "hide_input_from_viewers": false,
     "hide_output_from_viewers": false,
     "type": "CODE"
    }
   },
   "outputs": [],
   "source": [
    "!pip install pydot\n",
    "!pip install pydotplus\n",
    "!pip install graphviz"
   ]
  },
  {
   "cell_type": "code",
   "execution_count": 32,
   "metadata": {
    "datalore": {
     "hide_input_from_viewers": false,
     "hide_output_from_viewers": false,
     "type": "CODE"
    }
   },
   "outputs": [],
   "source": [
    "from io import StringIO\n",
    "from IPython.display import Image  \n",
    "import pydotplus\n",
    "#import graphviz"
   ]
  },
  {
   "cell_type": "code",
   "execution_count": 33,
   "metadata": {
    "datalore": {
     "hide_input_from_viewers": false,
     "hide_output_from_viewers": false,
     "type": "CODE"
    }
   },
   "outputs": [
    {
     "data": {
      "image/png": "[encoded data removed]",
      "text/plain": [
       "<IPython.core.display.Image object>"
      ]
     },
     "execution_count": 33,
     "metadata": {},
     "output_type": "execute_result"
    }
   ],
   "source": [
    "dot_data = StringIO()  \n",
    "tree.export_graphviz(tree_train, out_file=dot_data,  \n",
    "                     feature_names=X_train.columns,  \n",
    "                     filled=True, rounded=True,  \n",
    "                     special_characters=True)  \n",
    "graph = pydotplus.graph_from_dot_data(dot_data.getvalue())\n",
    "Image(graph.create_png())"
   ]
  },
  {
   "cell_type": "code",
   "execution_count": 34,
   "metadata": {
    "datalore": {
     "hide_input_from_viewers": false,
     "hide_output_from_viewers": false,
     "type": "CODE"
    }
   },
   "outputs": [
    {
     "name": "stdout",
     "output_type": "stream",
     "text": [
      "Index(['time_signature_1'], dtype='object')\n"
     ]
    }
   ],
   "source": [
    "X_test = test_dataset[test_dataset.columns[~test_dataset.columns.isin(['valence'])]]\n",
    "\n",
    "train_not_test = X_train.columns.difference(X_test.columns)\n",
    "print(train_not_test)"
   ]
  },
  {
   "cell_type": "code",
   "execution_count": 35,
   "metadata": {
    "datalore": {
     "hide_input_from_viewers": false,
     "hide_output_from_viewers": false,
     "type": "CODE"
    }
   },
   "outputs": [
    {
     "data": {
      "text/plain": [
       "Index(['danceability', 'energy', 'loudness', 'speechiness', 'acousticness',\n",
       "       'instrumentalness', 'liveness', 'tempo', 'duration_ms', 'key_1',\n",
       "       'key_2', 'key_3', 'key_4', 'key_5', 'key_6', 'key_7', 'key_8', 'key_9',\n",
       "       'key_10', 'key_11', 'mode_1', 'time_signature_3', 'time_signature_4',\n",
       "       'time_signature_5', 'time_signature_1'],\n",
       "      dtype='object')"
      ]
     },
     "execution_count": 35,
     "metadata": {},
     "output_type": "execute_result"
    }
   ],
   "source": [
    "X_test['time_signature_1'] = 0\n",
    "X_test.columns"
   ]
  },
  {
   "cell_type": "code",
   "execution_count": 36,
   "metadata": {
    "datalore": {
     "hide_input_from_viewers": false,
     "hide_output_from_viewers": false,
     "type": "CODE"
    }
   },
   "outputs": [
    {
     "data": {
      "text/plain": [
       "Index(['danceability', 'energy', 'loudness', 'speechiness', 'acousticness',\n",
       "       'instrumentalness', 'liveness', 'tempo', 'duration_ms', 'key_1',\n",
       "       'key_2', 'key_3', 'key_4', 'key_5', 'key_6', 'key_7', 'key_8', 'key_9',\n",
       "       'key_10', 'key_11', 'mode_1', 'time_signature_1', 'time_signature_3',\n",
       "       'time_signature_4', 'time_signature_5'],\n",
       "      dtype='object')"
      ]
     },
     "execution_count": 36,
     "metadata": {},
     "output_type": "execute_result"
    }
   ],
   "source": [
    "col = X_test.pop(\"time_signature_1\")\n",
    "X_test.insert(21, col.name, col)\n",
    "\n",
    "y_pred_tree = tree_train.predict(X_test)\n",
    "X_test.columns"
   ]
  },
  {
   "cell_type": "code",
   "execution_count": 37,
   "metadata": {
    "datalore": {
     "hide_input_from_viewers": false,
     "hide_output_from_viewers": false,
     "type": "CODE"
    }
   },
   "outputs": [
    {
     "data": {
      "text/plain": [
       "0.1778"
      ]
     },
     "execution_count": 37,
     "metadata": {},
     "output_type": "execute_result"
    }
   ],
   "source": [
    "from sklearn.metrics import mean_absolute_error as MAE\n",
    "\n",
    "mae44 = round(MAE(test_dataset['valence'], y_pred_tree),4)\n",
    "mae44"
   ]
  },
  {
   "cell_type": "markdown",
   "metadata": {},
   "source": [
    "We did better than Linear Regression, without any tuning of the Hyper-parameters."
   ]
  },
  {
   "attachments": {},
   "cell_type": "markdown",
   "metadata": {
    "datalore": {
     "hide_input_from_viewers": false,
     "hide_output_from_viewers": false,
     "type": "MD"
    }
   },
   "source": [
    "### XGBoost Regressor"
   ]
  },
  {
   "cell_type": "code",
   "execution_count": 38,
   "metadata": {
    "datalore": {
     "hide_input_from_viewers": false,
     "hide_output_from_viewers": false,
     "type": "CODE"
    }
   },
   "outputs": [],
   "source": [
    "import xgboost as xgb\n",
    "from xgboost import XGBRegressor\n",
    "from sklearn.metrics import mean_absolute_error as MAE"
   ]
  },
  {
   "cell_type": "markdown",
   "metadata": {},
   "source": [
    "Cross validate the hyperparameters.\n",
    "\n",
    "We would ideally have a validation set, but we will use our test for that as well."
   ]
  },
  {
   "cell_type": "code",
   "execution_count": 39,
   "metadata": {
    "datalore": {
     "hide_input_from_viewers": false,
     "hide_output_from_viewers": false,
     "type": "CODE"
    }
   },
   "outputs": [
    {
     "name": "stdout",
     "output_type": "stream",
     "text": [
      "{'min_child_weight': 20, 'eta': 0.15, 'colsample_bytree': 0.4, 'max_depth': 6, 'subsample': 0.7, 'lambda': 1.0, 'nthread': -1, 'booster': 'gbtree', 'eval_metric': 'mae', 'objective': 'reg:squarederror', 'seed': 42}\n",
      "[0]\ttrain-mae:0.21820\tvalid-mae:0.19473\n",
      "[100]\ttrain-mae:0.13958\tvalid-mae:0.14788\n",
      "[200]\ttrain-mae:0.13398\tvalid-mae:0.14546\n",
      "[300]\ttrain-mae:0.13038\tvalid-mae:0.14446\n",
      "[337]\ttrain-mae:0.12934\tvalid-mae:0.14434\n",
      "Modeling RMSLE 0.14427\n",
      "{'min_child_weight': 10, 'eta': 0.1, 'colsample_bytree': 0.5, 'max_depth': 8, 'subsample': 0.5, 'lambda': 3.0, 'nthread': -1, 'booster': 'gbtree', 'eval_metric': 'mae', 'objective': 'reg:squarederror', 'seed': 42}\n",
      "[0]\ttrain-mae:0.21884\tvalid-mae:0.19493\n",
      "[100]\ttrain-mae:0.13227\tvalid-mae:0.14630\n",
      "[200]\ttrain-mae:0.12432\tvalid-mae:0.14444\n",
      "[300]\ttrain-mae:0.11944\tvalid-mae:0.14312\n",
      "[400]\ttrain-mae:0.11528\tvalid-mae:0.14224\n",
      "[500]\ttrain-mae:0.11107\tvalid-mae:0.14156\n",
      "[600]\ttrain-mae:0.10718\tvalid-mae:0.14046\n",
      "[700]\ttrain-mae:0.10356\tvalid-mae:0.13969\n",
      "[800]\ttrain-mae:0.10021\tvalid-mae:0.13883\n",
      "[877]\ttrain-mae:0.09775\tvalid-mae:0.13887\n",
      "Modeling RMSLE 0.13872\n",
      "{'min_child_weight': 20, 'eta': 0.05, 'colsample_bytree': 0.5, 'max_depth': 8, 'subsample': 0.7, 'lambda': 2.0, 'nthread': -1, 'booster': 'gbtree', 'eval_metric': 'mae', 'objective': 'reg:squarederror', 'seed': 42}\n",
      "[0]\ttrain-mae:0.21968\tvalid-mae:0.19536\n",
      "[100]\ttrain-mae:0.14135\tvalid-mae:0.15211\n",
      "[200]\ttrain-mae:0.13154\tvalid-mae:0.14696\n",
      "[300]\ttrain-mae:0.12661\tvalid-mae:0.14452\n",
      "[400]\ttrain-mae:0.12356\tvalid-mae:0.14367\n",
      "[500]\ttrain-mae:0.12099\tvalid-mae:0.14307\n",
      "[600]\ttrain-mae:0.11868\tvalid-mae:0.14231\n",
      "[700]\ttrain-mae:0.11660\tvalid-mae:0.14167\n",
      "[800]\ttrain-mae:0.11460\tvalid-mae:0.14123\n",
      "[900]\ttrain-mae:0.11291\tvalid-mae:0.14073\n",
      "[1000]\ttrain-mae:0.11109\tvalid-mae:0.14023\n",
      "[1100]\ttrain-mae:0.10953\tvalid-mae:0.13977\n",
      "[1200]\ttrain-mae:0.10768\tvalid-mae:0.13937\n",
      "[1294]\ttrain-mae:0.10623\tvalid-mae:0.13921\n",
      "Modeling RMSLE 0.13917\n",
      "{'min_child_weight': 10, 'eta': 0.1, 'colsample_bytree': 0.3, 'max_depth': 10, 'subsample': 1, 'lambda': 3.0, 'nthread': -1, 'booster': 'gbtree', 'eval_metric': 'mae', 'objective': 'reg:squarederror', 'seed': 42}\n",
      "[0]\ttrain-mae:0.21865\tvalid-mae:0.19496\n",
      "[100]\ttrain-mae:0.12490\tvalid-mae:0.15084\n",
      "[200]\ttrain-mae:0.10682\tvalid-mae:0.14330\n",
      "[300]\ttrain-mae:0.09627\tvalid-mae:0.14055\n",
      "[400]\ttrain-mae:0.09023\tvalid-mae:0.13814\n",
      "[500]\ttrain-mae:0.08563\tvalid-mae:0.13710\n",
      "[600]\ttrain-mae:0.08185\tvalid-mae:0.13629\n",
      "[700]\ttrain-mae:0.07880\tvalid-mae:0.13597\n",
      "[800]\ttrain-mae:0.07608\tvalid-mae:0.13528\n",
      "[900]\ttrain-mae:0.07338\tvalid-mae:0.13483\n",
      "[1000]\ttrain-mae:0.07106\tvalid-mae:0.13437\n",
      "[1100]\ttrain-mae:0.06875\tvalid-mae:0.13387\n",
      "[1200]\ttrain-mae:0.06676\tvalid-mae:0.13336\n",
      "[1300]\ttrain-mae:0.06506\tvalid-mae:0.13326\n",
      "[1333]\ttrain-mae:0.06440\tvalid-mae:0.13328\n",
      "Modeling RMSLE 0.13322\n",
      "{'min_child_weight': 20, 'eta': 0.1, 'colsample_bytree': 0.4, 'max_depth': 15, 'subsample': 1, 'lambda': 1.0, 'nthread': -1, 'booster': 'gbtree', 'eval_metric': 'mae', 'objective': 'reg:squarederror', 'seed': 42}\n",
      "[0]\ttrain-mae:0.21770\tvalid-mae:0.19467\n",
      "[100]\ttrain-mae:0.07121\tvalid-mae:0.13689\n",
      "[200]\ttrain-mae:0.05361\tvalid-mae:0.13228\n",
      "[300]\ttrain-mae:0.04690\tvalid-mae:0.13072\n",
      "[400]\ttrain-mae:0.04292\tvalid-mae:0.12969\n",
      "[500]\ttrain-mae:0.03934\tvalid-mae:0.12873\n",
      "[600]\ttrain-mae:0.03659\tvalid-mae:0.12835\n",
      "[700]\ttrain-mae:0.03422\tvalid-mae:0.12778\n",
      "[800]\ttrain-mae:0.03186\tvalid-mae:0.12729\n",
      "[900]\ttrain-mae:0.03014\tvalid-mae:0.12681\n",
      "[1000]\ttrain-mae:0.02840\tvalid-mae:0.12645\n",
      "[1100]\ttrain-mae:0.02658\tvalid-mae:0.12618\n",
      "[1200]\ttrain-mae:0.02529\tvalid-mae:0.12590\n",
      "[1300]\ttrain-mae:0.02405\tvalid-mae:0.12583\n",
      "[1400]\ttrain-mae:0.02294\tvalid-mae:0.12567\n",
      "[1500]\ttrain-mae:0.02178\tvalid-mae:0.12551\n",
      "[1600]\ttrain-mae:0.02077\tvalid-mae:0.12524\n",
      "[1700]\ttrain-mae:0.01974\tvalid-mae:0.12512\n",
      "[1800]\ttrain-mae:0.01880\tvalid-mae:0.12501\n",
      "[1900]\ttrain-mae:0.01778\tvalid-mae:0.12470\n",
      "[1999]\ttrain-mae:0.01691\tvalid-mae:0.12447\n",
      "Modeling RMSLE 0.12447\n",
      "{'min_child_weight': 100, 'eta': 0.15, 'colsample_bytree': 0.3, 'max_depth': 15, 'subsample': 0.9, 'lambda': 3.0, 'nthread': -1, 'booster': 'gbtree', 'eval_metric': 'mae', 'objective': 'reg:squarederror', 'seed': 42}\n",
      "[0]\ttrain-mae:0.21720\tvalid-mae:0.19423\n",
      "[100]\ttrain-mae:0.10638\tvalid-mae:0.14388\n",
      "[200]\ttrain-mae:0.08978\tvalid-mae:0.13987\n",
      "[300]\ttrain-mae:0.08130\tvalid-mae:0.13777\n",
      "[400]\ttrain-mae:0.07645\tvalid-mae:0.13704\n",
      "[500]\ttrain-mae:0.07293\tvalid-mae:0.13641\n",
      "[600]\ttrain-mae:0.06992\tvalid-mae:0.13612\n",
      "[700]\ttrain-mae:0.06695\tvalid-mae:0.13579\n",
      "[800]\ttrain-mae:0.06438\tvalid-mae:0.13531\n",
      "[838]\ttrain-mae:0.06354\tvalid-mae:0.13536\n",
      "Modeling RMSLE 0.13526\n",
      "{'min_child_weight': 75, 'eta': 0.1, 'colsample_bytree': 0.4, 'max_depth': 10, 'subsample': 0.7, 'lambda': 1.5, 'nthread': -1, 'booster': 'gbtree', 'eval_metric': 'mae', 'objective': 'reg:squarederror', 'seed': 42}\n",
      "[0]\ttrain-mae:0.21872\tvalid-mae:0.19501\n",
      "[100]\ttrain-mae:0.12610\tvalid-mae:0.14496\n",
      "[200]\ttrain-mae:0.11670\tvalid-mae:0.14186\n",
      "[300]\ttrain-mae:0.11182\tvalid-mae:0.14039\n",
      "[332]\ttrain-mae:0.11050\tvalid-mae:0.14029\n",
      "Modeling RMSLE 0.14024\n",
      "{'min_child_weight': 20, 'eta': 0.15, 'colsample_bytree': 0.3, 'max_depth': 10, 'subsample': 0.8, 'lambda': 1.0, 'nthread': -1, 'booster': 'gbtree', 'eval_metric': 'mae', 'objective': 'reg:squarederror', 'seed': 42}\n",
      "[0]\ttrain-mae:0.21773\tvalid-mae:0.19472\n",
      "[100]\ttrain-mae:0.11785\tvalid-mae:0.14606\n",
      "[200]\ttrain-mae:0.10307\tvalid-mae:0.14148\n",
      "[300]\ttrain-mae:0.09438\tvalid-mae:0.13817\n",
      "[400]\ttrain-mae:0.08853\tvalid-mae:0.13719\n",
      "[500]\ttrain-mae:0.08374\tvalid-mae:0.13659\n",
      "[600]\ttrain-mae:0.07986\tvalid-mae:0.13567\n",
      "[700]\ttrain-mae:0.07622\tvalid-mae:0.13523\n",
      "[800]\ttrain-mae:0.07247\tvalid-mae:0.13473\n",
      "[900]\ttrain-mae:0.06954\tvalid-mae:0.13392\n",
      "[999]\ttrain-mae:0.06670\tvalid-mae:0.13411\n",
      "Modeling RMSLE 0.13391\n",
      "{'min_child_weight': 75, 'eta': 0.05, 'colsample_bytree': 0.4, 'max_depth': 8, 'subsample': 0.6, 'lambda': 0.5, 'nthread': -1, 'booster': 'gbtree', 'eval_metric': 'mae', 'objective': 'reg:squarederror', 'seed': 42}\n",
      "[0]\ttrain-mae:0.21969\tvalid-mae:0.19529\n",
      "[100]\ttrain-mae:0.14573\tvalid-mae:0.15426\n",
      "[200]\ttrain-mae:0.13595\tvalid-mae:0.14855\n",
      "[300]\ttrain-mae:0.13126\tvalid-mae:0.14561\n",
      "[400]\ttrain-mae:0.12829\tvalid-mae:0.14437\n",
      "[500]\ttrain-mae:0.12629\tvalid-mae:0.14370\n",
      "[600]\ttrain-mae:0.12458\tvalid-mae:0.14289\n",
      "[700]\ttrain-mae:0.12306\tvalid-mae:0.14258\n",
      "[800]\ttrain-mae:0.12172\tvalid-mae:0.14184\n",
      "[900]\ttrain-mae:0.12044\tvalid-mae:0.14134\n",
      "[1000]\ttrain-mae:0.11928\tvalid-mae:0.14097\n",
      "[1100]\ttrain-mae:0.11828\tvalid-mae:0.14049\n",
      "[1200]\ttrain-mae:0.11705\tvalid-mae:0.14004\n",
      "[1300]\ttrain-mae:0.11600\tvalid-mae:0.13963\n",
      "[1400]\ttrain-mae:0.11488\tvalid-mae:0.13941\n",
      "[1500]\ttrain-mae:0.11384\tvalid-mae:0.13913\n",
      "[1600]\ttrain-mae:0.11288\tvalid-mae:0.13897\n",
      "[1631]\ttrain-mae:0.11257\tvalid-mae:0.13892\n",
      "Modeling RMSLE 0.13891\n",
      "{'min_child_weight': 75, 'eta': 0.1, 'colsample_bytree': 0.4, 'max_depth': 8, 'subsample': 0.8, 'lambda': 2.0, 'nthread': -1, 'booster': 'gbtree', 'eval_metric': 'mae', 'objective': 'reg:squarederror', 'seed': 42}\n",
      "[0]\ttrain-mae:0.21885\tvalid-mae:0.19499\n",
      "[100]\ttrain-mae:0.13481\tvalid-mae:0.14783\n",
      "[200]\ttrain-mae:0.12732\tvalid-mae:0.14417\n",
      "[300]\ttrain-mae:0.12306\tvalid-mae:0.14230\n",
      "[400]\ttrain-mae:0.12024\tvalid-mae:0.14121\n",
      "[500]\ttrain-mae:0.11794\tvalid-mae:0.14053\n",
      "[600]\ttrain-mae:0.11603\tvalid-mae:0.14019\n",
      "[700]\ttrain-mae:0.11413\tvalid-mae:0.13947\n",
      "[796]\ttrain-mae:0.11226\tvalid-mae:0.13922\n",
      "Modeling RMSLE 0.13912\n",
      "{'min_child_weight': 20, 'eta': 0.15, 'colsample_bytree': 0.3, 'max_depth': 6, 'subsample': 0.6, 'lambda': 2.0, 'nthread': -1, 'booster': 'gbtree', 'eval_metric': 'mae', 'objective': 'reg:squarederror', 'seed': 42}\n",
      "[0]\ttrain-mae:0.21826\tvalid-mae:0.19484\n",
      "[100]\ttrain-mae:0.14370\tvalid-mae:0.15208\n",
      "[200]\ttrain-mae:0.13654\tvalid-mae:0.14812\n",
      "[300]\ttrain-mae:0.13268\tvalid-mae:0.14720\n",
      "[400]\ttrain-mae:0.12977\tvalid-mae:0.14596\n",
      "[500]\ttrain-mae:0.12737\tvalid-mae:0.14509\n",
      "[553]\ttrain-mae:0.12623\tvalid-mae:0.14501\n",
      "Modeling RMSLE 0.14493\n",
      "{'min_child_weight': 100, 'eta': 0.05, 'colsample_bytree': 0.5, 'max_depth': 6, 'subsample': 0.7, 'lambda': 3.0, 'nthread': -1, 'booster': 'gbtree', 'eval_metric': 'mae', 'objective': 'reg:squarederror', 'seed': 42}\n",
      "[0]\ttrain-mae:0.21977\tvalid-mae:0.19536\n",
      "[100]\ttrain-mae:0.14958\tvalid-mae:0.15506\n",
      "[200]\ttrain-mae:0.14234\tvalid-mae:0.14971\n",
      "[300]\ttrain-mae:0.13920\tvalid-mae:0.14790\n",
      "[400]\ttrain-mae:0.13741\tvalid-mae:0.14719\n",
      "[500]\ttrain-mae:0.13608\tvalid-mae:0.14673\n",
      "[600]\ttrain-mae:0.13481\tvalid-mae:0.14616\n",
      "[700]\ttrain-mae:0.13370\tvalid-mae:0.14580\n",
      "[800]\ttrain-mae:0.13271\tvalid-mae:0.14540\n",
      "[900]\ttrain-mae:0.13191\tvalid-mae:0.14510\n",
      "[1000]\ttrain-mae:0.13106\tvalid-mae:0.14471\n",
      "[1100]\ttrain-mae:0.13034\tvalid-mae:0.14432\n",
      "[1200]\ttrain-mae:0.12953\tvalid-mae:0.14382\n",
      "[1300]\ttrain-mae:0.12884\tvalid-mae:0.14353\n",
      "[1400]\ttrain-mae:0.12820\tvalid-mae:0.14331\n",
      "[1478]\ttrain-mae:0.12767\tvalid-mae:0.14323\n",
      "Modeling RMSLE 0.14323\n",
      "{'min_child_weight': 100, 'eta': 0.05, 'colsample_bytree': 0.5, 'max_depth': 8, 'subsample': 0.5, 'lambda': 3.0, 'nthread': -1, 'booster': 'gbtree', 'eval_metric': 'mae', 'objective': 'reg:squarederror', 'seed': 42}\n",
      "[0]\ttrain-mae:0.21971\tvalid-mae:0.19532\n",
      "[100]\ttrain-mae:0.14374\tvalid-mae:0.15243\n",
      "[200]\ttrain-mae:0.13567\tvalid-mae:0.14818\n",
      "[300]\ttrain-mae:0.13205\tvalid-mae:0.14596\n",
      "[400]\ttrain-mae:0.12993\tvalid-mae:0.14496\n",
      "[500]\ttrain-mae:0.12837\tvalid-mae:0.14429\n",
      "[600]\ttrain-mae:0.12666\tvalid-mae:0.14353\n",
      "[700]\ttrain-mae:0.12524\tvalid-mae:0.14296\n",
      "[800]\ttrain-mae:0.12392\tvalid-mae:0.14219\n",
      "[900]\ttrain-mae:0.12276\tvalid-mae:0.14176\n",
      "[1000]\ttrain-mae:0.12154\tvalid-mae:0.14121\n",
      "[1037]\ttrain-mae:0.12113\tvalid-mae:0.14129\n",
      "Modeling RMSLE 0.14120\n",
      "{'min_child_weight': 20, 'eta': 0.1, 'colsample_bytree': 0.4, 'max_depth': 6, 'subsample': 0.6, 'lambda': 2.0, 'nthread': -1, 'booster': 'gbtree', 'eval_metric': 'mae', 'objective': 'reg:squarederror', 'seed': 42}\n",
      "[0]\ttrain-mae:0.21898\tvalid-mae:0.19499\n",
      "[100]\ttrain-mae:0.14347\tvalid-mae:0.15043\n",
      "[200]\ttrain-mae:0.13738\tvalid-mae:0.14703\n",
      "[300]\ttrain-mae:0.13408\tvalid-mae:0.14575\n",
      "[336]\ttrain-mae:0.13309\tvalid-mae:0.14572\n",
      "Modeling RMSLE 0.14558\n",
      "{'min_child_weight': 10, 'eta': 0.05, 'colsample_bytree': 0.5, 'max_depth': 12, 'subsample': 0.7, 'lambda': 2.0, 'nthread': -1, 'booster': 'gbtree', 'eval_metric': 'mae', 'objective': 'reg:squarederror', 'seed': 42}\n",
      "[0]\ttrain-mae:0.21944\tvalid-mae:0.19532\n",
      "[100]\ttrain-mae:0.11297\tvalid-mae:0.14483\n",
      "[200]\ttrain-mae:0.09441\tvalid-mae:0.13904\n",
      "[300]\ttrain-mae:0.08512\tvalid-mae:0.13648\n",
      "[400]\ttrain-mae:0.07922\tvalid-mae:0.13525\n",
      "[500]\ttrain-mae:0.07430\tvalid-mae:0.13384\n",
      "[600]\ttrain-mae:0.07022\tvalid-mae:0.13298\n",
      "[700]\ttrain-mae:0.06647\tvalid-mae:0.13211\n",
      "[800]\ttrain-mae:0.06306\tvalid-mae:0.13125\n",
      "[900]\ttrain-mae:0.05994\tvalid-mae:0.13060\n",
      "[1000]\ttrain-mae:0.05673\tvalid-mae:0.13022\n",
      "[1100]\ttrain-mae:0.05417\tvalid-mae:0.12974\n",
      "[1200]\ttrain-mae:0.05130\tvalid-mae:0.12920\n",
      "[1300]\ttrain-mae:0.04889\tvalid-mae:0.12860\n",
      "[1400]\ttrain-mae:0.04652\tvalid-mae:0.12846\n",
      "[1500]\ttrain-mae:0.04427\tvalid-mae:0.12808\n",
      "[1600]\ttrain-mae:0.04212\tvalid-mae:0.12752\n",
      "[1700]\ttrain-mae:0.04018\tvalid-mae:0.12705\n",
      "[1800]\ttrain-mae:0.03841\tvalid-mae:0.12685\n",
      "[1900]\ttrain-mae:0.03671\tvalid-mae:0.12669\n",
      "[1999]\ttrain-mae:0.03506\tvalid-mae:0.12646\n",
      "Modeling RMSLE 0.12646\n",
      "{'min_child_weight': 10, 'eta': 0.05, 'colsample_bytree': 0.5, 'max_depth': 6, 'subsample': 0.5, 'lambda': 2.0, 'nthread': -1, 'booster': 'gbtree', 'eval_metric': 'mae', 'objective': 'reg:squarederror', 'seed': 42}\n",
      "[0]\ttrain-mae:0.21976\tvalid-mae:0.19534\n",
      "[100]\ttrain-mae:0.14952\tvalid-mae:0.15488\n",
      "[200]\ttrain-mae:0.14197\tvalid-mae:0.14969\n",
      "[300]\ttrain-mae:0.13858\tvalid-mae:0.14738\n",
      "[400]\ttrain-mae:0.13643\tvalid-mae:0.14641\n",
      "[500]\ttrain-mae:0.13474\tvalid-mae:0.14577\n",
      "[600]\ttrain-mae:0.13317\tvalid-mae:0.14546\n",
      "[700]\ttrain-mae:0.13177\tvalid-mae:0.14500\n",
      "[800]\ttrain-mae:0.13041\tvalid-mae:0.14434\n",
      "[900]\ttrain-mae:0.12916\tvalid-mae:0.14395\n",
      "[1000]\ttrain-mae:0.12793\tvalid-mae:0.14370\n",
      "[1100]\ttrain-mae:0.12686\tvalid-mae:0.14338\n",
      "[1200]\ttrain-mae:0.12575\tvalid-mae:0.14300\n",
      "[1265]\ttrain-mae:0.12502\tvalid-mae:0.14299\n",
      "Modeling RMSLE 0.14295\n",
      "{'min_child_weight': 20, 'eta': 0.1, 'colsample_bytree': 0.5, 'max_depth': 12, 'subsample': 0.6, 'lambda': 1.0, 'nthread': -1, 'booster': 'gbtree', 'eval_metric': 'mae', 'objective': 'reg:squarederror', 'seed': 42}\n",
      "[0]\ttrain-mae:0.21841\tvalid-mae:0.19487\n",
      "[100]\ttrain-mae:0.10249\tvalid-mae:0.13796\n",
      "[200]\ttrain-mae:0.08963\tvalid-mae:0.13555\n",
      "[300]\ttrain-mae:0.08164\tvalid-mae:0.13384\n",
      "[400]\ttrain-mae:0.07538\tvalid-mae:0.13280\n",
      "[500]\ttrain-mae:0.06973\tvalid-mae:0.13159\n",
      "[600]\ttrain-mae:0.06456\tvalid-mae:0.13054\n",
      "[700]\ttrain-mae:0.05962\tvalid-mae:0.12931\n",
      "[800]\ttrain-mae:0.05500\tvalid-mae:0.12782\n",
      "[900]\ttrain-mae:0.05093\tvalid-mae:0.12743\n",
      "[1000]\ttrain-mae:0.04726\tvalid-mae:0.12647\n",
      "[1100]\ttrain-mae:0.04405\tvalid-mae:0.12579\n",
      "[1200]\ttrain-mae:0.04081\tvalid-mae:0.12493\n",
      "[1300]\ttrain-mae:0.03805\tvalid-mae:0.12465\n",
      "[1400]\ttrain-mae:0.03533\tvalid-mae:0.12423\n",
      "[1500]\ttrain-mae:0.03271\tvalid-mae:0.12365\n",
      "[1590]\ttrain-mae:0.03059\tvalid-mae:0.12359\n",
      "Modeling RMSLE 0.12341\n",
      "{'min_child_weight': 50, 'eta': 0.05, 'colsample_bytree': 0.3, 'max_depth': 12, 'subsample': 0.9, 'lambda': 1.5, 'nthread': -1, 'booster': 'gbtree', 'eval_metric': 'mae', 'objective': 'reg:squarederror', 'seed': 42}\n",
      "[0]\ttrain-mae:0.21951\tvalid-mae:0.19527\n",
      "[100]\ttrain-mae:0.13737\tvalid-mae:0.15603\n",
      "[200]\ttrain-mae:0.11715\tvalid-mae:0.14659\n",
      "[300]\ttrain-mae:0.10636\tvalid-mae:0.14226\n",
      "[400]\ttrain-mae:0.09891\tvalid-mae:0.13897\n",
      "[500]\ttrain-mae:0.09406\tvalid-mae:0.13728\n",
      "[600]\ttrain-mae:0.09062\tvalid-mae:0.13654\n",
      "[700]\ttrain-mae:0.08735\tvalid-mae:0.13544\n",
      "[800]\ttrain-mae:0.08493\tvalid-mae:0.13505\n",
      "[900]\ttrain-mae:0.08332\tvalid-mae:0.13475\n",
      "[1000]\ttrain-mae:0.08178\tvalid-mae:0.13426\n",
      "[1100]\ttrain-mae:0.08048\tvalid-mae:0.13394\n",
      "[1200]\ttrain-mae:0.07879\tvalid-mae:0.13360\n",
      "[1244]\ttrain-mae:0.07826\tvalid-mae:0.13359\n",
      "Modeling RMSLE 0.13358\n",
      "{'min_child_weight': 100, 'eta': 0.15, 'colsample_bytree': 0.5, 'max_depth': 10, 'subsample': 0.8, 'lambda': 1.5, 'nthread': -1, 'booster': 'gbtree', 'eval_metric': 'mae', 'objective': 'reg:squarederror', 'seed': 42}\n",
      "[0]\ttrain-mae:0.21784\tvalid-mae:0.19465\n",
      "[100]\ttrain-mae:0.12082\tvalid-mae:0.14283\n",
      "[200]\ttrain-mae:0.11353\tvalid-mae:0.14064\n",
      "[300]\ttrain-mae:0.10908\tvalid-mae:0.13957\n",
      "[400]\ttrain-mae:0.10576\tvalid-mae:0.13884\n",
      "[500]\ttrain-mae:0.10216\tvalid-mae:0.13766\n",
      "[552]\ttrain-mae:0.10054\tvalid-mae:0.13785\n",
      "Modeling RMSLE 0.13761\n",
      "{'min_child_weight': 100, 'eta': 0.1, 'colsample_bytree': 0.4, 'max_depth': 6, 'subsample': 0.5, 'lambda': 3.0, 'nthread': -1, 'booster': 'gbtree', 'eval_metric': 'mae', 'objective': 'reg:squarederror', 'seed': 42}\n",
      "[0]\ttrain-mae:0.21900\tvalid-mae:0.19500\n",
      "[100]\ttrain-mae:0.14399\tvalid-mae:0.15075\n",
      "[200]\ttrain-mae:0.13868\tvalid-mae:0.14816\n",
      "[300]\ttrain-mae:0.13601\tvalid-mae:0.14681\n",
      "[400]\ttrain-mae:0.13418\tvalid-mae:0.14602\n",
      "[500]\ttrain-mae:0.13264\tvalid-mae:0.14526\n",
      "[600]\ttrain-mae:0.13111\tvalid-mae:0.14478\n",
      "[700]\ttrain-mae:0.12978\tvalid-mae:0.14424\n",
      "[800]\ttrain-mae:0.12847\tvalid-mae:0.14363\n",
      "[900]\ttrain-mae:0.12733\tvalid-mae:0.14323\n",
      "[972]\ttrain-mae:0.12654\tvalid-mae:0.14302\n",
      "Modeling RMSLE 0.14302\n",
      "{'min_child_weight': 100, 'eta': 0.05, 'colsample_bytree': 0.4, 'max_depth': 6, 'subsample': 0.7, 'lambda': 2.0, 'nthread': -1, 'booster': 'gbtree', 'eval_metric': 'mae', 'objective': 'reg:squarederror', 'seed': 42}\n",
      "[0]\ttrain-mae:0.21976\tvalid-mae:0.19536\n",
      "[100]\ttrain-mae:0.15196\tvalid-mae:0.15696\n",
      "[200]\ttrain-mae:0.14388\tvalid-mae:0.15094\n",
      "[300]\ttrain-mae:0.14015\tvalid-mae:0.14817\n",
      "[400]\ttrain-mae:0.13781\tvalid-mae:0.14697\n",
      "[500]\ttrain-mae:0.13629\tvalid-mae:0.14627\n",
      "[600]\ttrain-mae:0.13499\tvalid-mae:0.14588\n",
      "[700]\ttrain-mae:0.13387\tvalid-mae:0.14539\n",
      "[800]\ttrain-mae:0.13291\tvalid-mae:0.14503\n",
      "[900]\ttrain-mae:0.13218\tvalid-mae:0.14471\n",
      "[1000]\ttrain-mae:0.13137\tvalid-mae:0.14460\n",
      "[1013]\ttrain-mae:0.13128\tvalid-mae:0.14453\n",
      "Modeling RMSLE 0.14452\n",
      "{'min_child_weight': 75, 'eta': 0.05, 'colsample_bytree': 0.4, 'max_depth': 8, 'subsample': 0.8, 'lambda': 1.0, 'nthread': -1, 'booster': 'gbtree', 'eval_metric': 'mae', 'objective': 'reg:squarederror', 'seed': 42}\n",
      "[0]\ttrain-mae:0.21969\tvalid-mae:0.19533\n",
      "[100]\ttrain-mae:0.14521\tvalid-mae:0.15394\n",
      "[200]\ttrain-mae:0.13508\tvalid-mae:0.14830\n",
      "[300]\ttrain-mae:0.13002\tvalid-mae:0.14566\n",
      "[400]\ttrain-mae:0.12689\tvalid-mae:0.14421\n",
      "[500]\ttrain-mae:0.12459\tvalid-mae:0.14351\n",
      "[600]\ttrain-mae:0.12284\tvalid-mae:0.14311\n",
      "[700]\ttrain-mae:0.12140\tvalid-mae:0.14261\n",
      "[800]\ttrain-mae:0.12009\tvalid-mae:0.14227\n",
      "[900]\ttrain-mae:0.11884\tvalid-mae:0.14191\n",
      "[1000]\ttrain-mae:0.11777\tvalid-mae:0.14171\n",
      "[1100]\ttrain-mae:0.11674\tvalid-mae:0.14127\n",
      "[1200]\ttrain-mae:0.11572\tvalid-mae:0.14100\n",
      "[1300]\ttrain-mae:0.11481\tvalid-mae:0.14086\n",
      "[1400]\ttrain-mae:0.11392\tvalid-mae:0.14061\n",
      "[1500]\ttrain-mae:0.11295\tvalid-mae:0.14050\n",
      "[1600]\ttrain-mae:0.11199\tvalid-mae:0.14033\n",
      "[1700]\ttrain-mae:0.11106\tvalid-mae:0.14011\n",
      "[1800]\ttrain-mae:0.11015\tvalid-mae:0.13979\n",
      "[1892]\ttrain-mae:0.10934\tvalid-mae:0.13980\n",
      "Modeling RMSLE 0.13970\n",
      "{'min_child_weight': 100, 'eta': 0.05, 'colsample_bytree': 0.4, 'max_depth': 6, 'subsample': 0.9, 'lambda': 2.0, 'nthread': -1, 'booster': 'gbtree', 'eval_metric': 'mae', 'objective': 'reg:squarederror', 'seed': 42}\n",
      "[0]\ttrain-mae:0.21977\tvalid-mae:0.19534\n",
      "[100]\ttrain-mae:0.15182\tvalid-mae:0.15717\n",
      "[200]\ttrain-mae:0.14368\tvalid-mae:0.15111\n",
      "[300]\ttrain-mae:0.13983\tvalid-mae:0.14833\n",
      "[400]\ttrain-mae:0.13747\tvalid-mae:0.14678\n",
      "[500]\ttrain-mae:0.13588\tvalid-mae:0.14608\n",
      "[600]\ttrain-mae:0.13460\tvalid-mae:0.14569\n",
      "[700]\ttrain-mae:0.13356\tvalid-mae:0.14526\n",
      "[800]\ttrain-mae:0.13256\tvalid-mae:0.14475\n",
      "[900]\ttrain-mae:0.13169\tvalid-mae:0.14448\n",
      "[1000]\ttrain-mae:0.13095\tvalid-mae:0.14424\n",
      "[1100]\ttrain-mae:0.13026\tvalid-mae:0.14402\n",
      "[1200]\ttrain-mae:0.12943\tvalid-mae:0.14367\n",
      "[1300]\ttrain-mae:0.12878\tvalid-mae:0.14340\n",
      "[1400]\ttrain-mae:0.12814\tvalid-mae:0.14307\n",
      "[1500]\ttrain-mae:0.12751\tvalid-mae:0.14298\n",
      "[1600]\ttrain-mae:0.12686\tvalid-mae:0.14278\n",
      "[1700]\ttrain-mae:0.12630\tvalid-mae:0.14263\n",
      "[1800]\ttrain-mae:0.12580\tvalid-mae:0.14244\n",
      "[1900]\ttrain-mae:0.12526\tvalid-mae:0.14231\n",
      "[1999]\ttrain-mae:0.12472\tvalid-mae:0.14207\n",
      "Modeling RMSLE 0.14207\n",
      "{'min_child_weight': 10, 'eta': 0.05, 'colsample_bytree': 0.5, 'max_depth': 6, 'subsample': 0.9, 'lambda': 3.0, 'nthread': -1, 'booster': 'gbtree', 'eval_metric': 'mae', 'objective': 'reg:squarederror', 'seed': 42}\n",
      "[0]\ttrain-mae:0.21976\tvalid-mae:0.19533\n",
      "[100]\ttrain-mae:0.14932\tvalid-mae:0.15501\n",
      "[200]\ttrain-mae:0.14163\tvalid-mae:0.14967\n",
      "[300]\ttrain-mae:0.13798\tvalid-mae:0.14755\n",
      "[400]\ttrain-mae:0.13578\tvalid-mae:0.14659\n",
      "[500]\ttrain-mae:0.13409\tvalid-mae:0.14597\n",
      "[600]\ttrain-mae:0.13260\tvalid-mae:0.14561\n",
      "[700]\ttrain-mae:0.13123\tvalid-mae:0.14523\n",
      "[800]\ttrain-mae:0.12993\tvalid-mae:0.14471\n",
      "[900]\ttrain-mae:0.12869\tvalid-mae:0.14444\n",
      "[1000]\ttrain-mae:0.12750\tvalid-mae:0.14424\n",
      "[1100]\ttrain-mae:0.12641\tvalid-mae:0.14400\n",
      "[1200]\ttrain-mae:0.12525\tvalid-mae:0.14347\n",
      "[1300]\ttrain-mae:0.12432\tvalid-mae:0.14334\n",
      "[1400]\ttrain-mae:0.12341\tvalid-mae:0.14305\n",
      "[1471]\ttrain-mae:0.12273\tvalid-mae:0.14306\n",
      "Modeling RMSLE 0.14303\n",
      "{'min_child_weight': 10, 'eta': 0.05, 'colsample_bytree': 0.4, 'max_depth': 8, 'subsample': 1, 'lambda': 2.0, 'nthread': -1, 'booster': 'gbtree', 'eval_metric': 'mae', 'objective': 'reg:squarederror', 'seed': 42}\n",
      "[0]\ttrain-mae:0.21967\tvalid-mae:0.19532\n",
      "[100]\ttrain-mae:0.14345\tvalid-mae:0.15409\n",
      "[200]\ttrain-mae:0.13178\tvalid-mae:0.14763\n",
      "[300]\ttrain-mae:0.12569\tvalid-mae:0.14486\n",
      "[400]\ttrain-mae:0.12193\tvalid-mae:0.14332\n",
      "[500]\ttrain-mae:0.11922\tvalid-mae:0.14236\n",
      "[600]\ttrain-mae:0.11691\tvalid-mae:0.14168\n",
      "[700]\ttrain-mae:0.11482\tvalid-mae:0.14134\n",
      "[800]\ttrain-mae:0.11297\tvalid-mae:0.14090\n",
      "[900]\ttrain-mae:0.11103\tvalid-mae:0.14034\n",
      "[1000]\ttrain-mae:0.10906\tvalid-mae:0.14005\n",
      "[1100]\ttrain-mae:0.10730\tvalid-mae:0.13974\n",
      "[1200]\ttrain-mae:0.10589\tvalid-mae:0.13955\n",
      "[1300]\ttrain-mae:0.10457\tvalid-mae:0.13915\n",
      "[1400]\ttrain-mae:0.10310\tvalid-mae:0.13899\n",
      "[1485]\ttrain-mae:0.10201\tvalid-mae:0.13891\n",
      "Modeling RMSLE 0.13886\n",
      "{'min_child_weight': 20, 'eta': 0.05, 'colsample_bytree': 0.5, 'max_depth': 6, 'subsample': 0.7, 'lambda': 0.5, 'nthread': -1, 'booster': 'gbtree', 'eval_metric': 'mae', 'objective': 'reg:squarederror', 'seed': 42}\n",
      "[0]\ttrain-mae:0.21976\tvalid-mae:0.19536\n",
      "[100]\ttrain-mae:0.14935\tvalid-mae:0.15462\n",
      "[200]\ttrain-mae:0.14184\tvalid-mae:0.14946\n",
      "[300]\ttrain-mae:0.13838\tvalid-mae:0.14723\n",
      "[400]\ttrain-mae:0.13631\tvalid-mae:0.14639\n",
      "[500]\ttrain-mae:0.13462\tvalid-mae:0.14570\n",
      "[600]\ttrain-mae:0.13310\tvalid-mae:0.14512\n",
      "[700]\ttrain-mae:0.13174\tvalid-mae:0.14473\n",
      "[800]\ttrain-mae:0.13041\tvalid-mae:0.14436\n",
      "[900]\ttrain-mae:0.12934\tvalid-mae:0.14409\n",
      "[1000]\ttrain-mae:0.12815\tvalid-mae:0.14381\n",
      "[1100]\ttrain-mae:0.12712\tvalid-mae:0.14338\n",
      "[1200]\ttrain-mae:0.12601\tvalid-mae:0.14313\n",
      "[1300]\ttrain-mae:0.12500\tvalid-mae:0.14276\n",
      "[1400]\ttrain-mae:0.12406\tvalid-mae:0.14246\n",
      "[1500]\ttrain-mae:0.12308\tvalid-mae:0.14198\n",
      "[1575]\ttrain-mae:0.12235\tvalid-mae:0.14184\n",
      "Modeling RMSLE 0.14183\n",
      "{'min_child_weight': 50, 'eta': 0.05, 'colsample_bytree': 0.5, 'max_depth': 10, 'subsample': 0.5, 'lambda': 3.0, 'nthread': -1, 'booster': 'gbtree', 'eval_metric': 'mae', 'objective': 'reg:squarederror', 'seed': 42}\n",
      "[0]\ttrain-mae:0.21965\tvalid-mae:0.19525\n",
      "[100]\ttrain-mae:0.13537\tvalid-mae:0.14974\n",
      "[200]\ttrain-mae:0.12455\tvalid-mae:0.14512\n",
      "[300]\ttrain-mae:0.11948\tvalid-mae:0.14284\n",
      "[400]\ttrain-mae:0.11635\tvalid-mae:0.14176\n",
      "[500]\ttrain-mae:0.11393\tvalid-mae:0.14095\n",
      "[600]\ttrain-mae:0.11132\tvalid-mae:0.14068\n",
      "[700]\ttrain-mae:0.10913\tvalid-mae:0.14004\n",
      "[800]\ttrain-mae:0.10695\tvalid-mae:0.13967\n",
      "[804]\ttrain-mae:0.10683\tvalid-mae:0.13968\n",
      "Modeling RMSLE 0.13959\n",
      "{'min_child_weight': 75, 'eta': 0.05, 'colsample_bytree': 0.5, 'max_depth': 15, 'subsample': 0.6, 'lambda': 0.5, 'nthread': -1, 'booster': 'gbtree', 'eval_metric': 'mae', 'objective': 'reg:squarederror', 'seed': 42}\n",
      "[0]\ttrain-mae:0.21942\tvalid-mae:0.19522\n",
      "[100]\ttrain-mae:0.12251\tvalid-mae:0.14501\n",
      "[200]\ttrain-mae:0.10799\tvalid-mae:0.14067\n",
      "[300]\ttrain-mae:0.10105\tvalid-mae:0.13843\n",
      "[400]\ttrain-mae:0.09682\tvalid-mae:0.13696\n",
      "[500]\ttrain-mae:0.09336\tvalid-mae:0.13607\n",
      "[600]\ttrain-mae:0.09036\tvalid-mae:0.13553\n",
      "[700]\ttrain-mae:0.08759\tvalid-mae:0.13446\n",
      "[800]\ttrain-mae:0.08482\tvalid-mae:0.13418\n",
      "[900]\ttrain-mae:0.08206\tvalid-mae:0.13359\n",
      "[997]\ttrain-mae:0.07961\tvalid-mae:0.13343\n",
      "Modeling RMSLE 0.13334\n",
      "{'min_child_weight': 20, 'eta': 0.15, 'colsample_bytree': 0.4, 'max_depth': 6, 'subsample': 0.7, 'lambda': 1.5, 'nthread': -1, 'booster': 'gbtree', 'eval_metric': 'mae', 'objective': 'reg:squarederror', 'seed': 42}\n",
      "[0]\ttrain-mae:0.21821\tvalid-mae:0.19473\n",
      "[100]\ttrain-mae:0.13964\tvalid-mae:0.14820\n",
      "[200]\ttrain-mae:0.13446\tvalid-mae:0.14600\n",
      "[300]\ttrain-mae:0.13084\tvalid-mae:0.14515\n",
      "[400]\ttrain-mae:0.12803\tvalid-mae:0.14440\n",
      "[500]\ttrain-mae:0.12543\tvalid-mae:0.14388\n",
      "[600]\ttrain-mae:0.12298\tvalid-mae:0.14313\n",
      "[700]\ttrain-mae:0.12062\tvalid-mae:0.14250\n",
      "[800]\ttrain-mae:0.11837\tvalid-mae:0.14184\n",
      "[865]\ttrain-mae:0.11715\tvalid-mae:0.14173\n",
      "Modeling RMSLE 0.14168\n",
      "{'min_child_weight': 20, 'eta': 0.1, 'colsample_bytree': 0.5, 'max_depth': 15, 'subsample': 0.5, 'lambda': 1.0, 'nthread': -1, 'booster': 'gbtree', 'eval_metric': 'mae', 'objective': 'reg:squarederror', 'seed': 42}\n",
      "[0]\ttrain-mae:0.21809\tvalid-mae:0.19497\n",
      "[100]\ttrain-mae:0.08683\tvalid-mae:0.13660\n",
      "[200]\ttrain-mae:0.07197\tvalid-mae:0.13276\n",
      "[300]\ttrain-mae:0.06249\tvalid-mae:0.13093\n",
      "[400]\ttrain-mae:0.05515\tvalid-mae:0.13008\n",
      "[500]\ttrain-mae:0.04853\tvalid-mae:0.12924\n",
      "[600]\ttrain-mae:0.04220\tvalid-mae:0.12801\n",
      "[700]\ttrain-mae:0.03670\tvalid-mae:0.12725\n",
      "[732]\ttrain-mae:0.03516\tvalid-mae:0.12719\n",
      "Modeling RMSLE 0.12709\n",
      "{'min_child_weight': 50, 'eta': 0.15, 'colsample_bytree': 0.3, 'max_depth': 12, 'subsample': 0.8, 'lambda': 0.5, 'nthread': -1, 'booster': 'gbtree', 'eval_metric': 'mae', 'objective': 'reg:squarederror', 'seed': 42}\n",
      "[0]\ttrain-mae:0.21751\tvalid-mae:0.19459\n",
      "[100]\ttrain-mae:0.11052\tvalid-mae:0.14484\n",
      "[200]\ttrain-mae:0.09485\tvalid-mae:0.13983\n",
      "[300]\ttrain-mae:0.08682\tvalid-mae:0.13772\n",
      "[400]\ttrain-mae:0.08178\tvalid-mae:0.13617\n",
      "[466]\ttrain-mae:0.07901\tvalid-mae:0.13601\n",
      "Modeling RMSLE 0.13598\n",
      "{'min_child_weight': 100, 'eta': 0.05, 'colsample_bytree': 0.4, 'max_depth': 6, 'subsample': 1, 'lambda': 2.0, 'nthread': -1, 'booster': 'gbtree', 'eval_metric': 'mae', 'objective': 'reg:squarederror', 'seed': 42}\n",
      "[0]\ttrain-mae:0.21976\tvalid-mae:0.19536\n",
      "[100]\ttrain-mae:0.15155\tvalid-mae:0.15687\n",
      "[200]\ttrain-mae:0.14316\tvalid-mae:0.15015\n",
      "[300]\ttrain-mae:0.13934\tvalid-mae:0.14774\n",
      "[400]\ttrain-mae:0.13717\tvalid-mae:0.14669\n",
      "[500]\ttrain-mae:0.13571\tvalid-mae:0.14601\n",
      "[600]\ttrain-mae:0.13445\tvalid-mae:0.14557\n",
      "[700]\ttrain-mae:0.13347\tvalid-mae:0.14503\n",
      "[800]\ttrain-mae:0.13258\tvalid-mae:0.14471\n",
      "[900]\ttrain-mae:0.13170\tvalid-mae:0.14457\n",
      "[1000]\ttrain-mae:0.13091\tvalid-mae:0.14435\n",
      "[1100]\ttrain-mae:0.13007\tvalid-mae:0.14416\n",
      "[1200]\ttrain-mae:0.12940\tvalid-mae:0.14402\n",
      "[1222]\ttrain-mae:0.12928\tvalid-mae:0.14405\n",
      "Modeling RMSLE 0.14399\n",
      "{'min_child_weight': 50, 'eta': 0.1, 'colsample_bytree': 0.3, 'max_depth': 8, 'subsample': 0.7, 'lambda': 2.0, 'nthread': -1, 'booster': 'gbtree', 'eval_metric': 'mae', 'objective': 'reg:squarederror', 'seed': 42}\n",
      "[0]\ttrain-mae:0.21888\tvalid-mae:0.19500\n",
      "[100]\ttrain-mae:0.14067\tvalid-mae:0.15282\n",
      "[200]\ttrain-mae:0.13027\tvalid-mae:0.14690\n",
      "[300]\ttrain-mae:0.12472\tvalid-mae:0.14430\n",
      "[400]\ttrain-mae:0.12097\tvalid-mae:0.14283\n",
      "[500]\ttrain-mae:0.11830\tvalid-mae:0.14231\n",
      "[600]\ttrain-mae:0.11611\tvalid-mae:0.14174\n",
      "[700]\ttrain-mae:0.11391\tvalid-mae:0.14097\n",
      "[800]\ttrain-mae:0.11192\tvalid-mae:0.14036\n",
      "[894]\ttrain-mae:0.11044\tvalid-mae:0.14041\n",
      "Modeling RMSLE 0.14025\n",
      "{'min_child_weight': 20, 'eta': 0.1, 'colsample_bytree': 0.4, 'max_depth': 12, 'subsample': 0.6, 'lambda': 1.0, 'nthread': -1, 'booster': 'gbtree', 'eval_metric': 'mae', 'objective': 'reg:squarederror', 'seed': 42}\n",
      "[0]\ttrain-mae:0.21843\tvalid-mae:0.19483\n",
      "[100]\ttrain-mae:0.10520\tvalid-mae:0.14091\n",
      "[200]\ttrain-mae:0.09037\tvalid-mae:0.13680\n",
      "[300]\ttrain-mae:0.08217\tvalid-mae:0.13600\n",
      "[400]\ttrain-mae:0.07602\tvalid-mae:0.13431\n",
      "[500]\ttrain-mae:0.07074\tvalid-mae:0.13339\n",
      "[600]\ttrain-mae:0.06591\tvalid-mae:0.13246\n",
      "[700]\ttrain-mae:0.06175\tvalid-mae:0.13178\n",
      "[800]\ttrain-mae:0.05750\tvalid-mae:0.13109\n",
      "[900]\ttrain-mae:0.05382\tvalid-mae:0.13071\n",
      "[1000]\ttrain-mae:0.05038\tvalid-mae:0.13018\n",
      "[1100]\ttrain-mae:0.04730\tvalid-mae:0.12942\n",
      "[1200]\ttrain-mae:0.04410\tvalid-mae:0.12873\n",
      "[1300]\ttrain-mae:0.04121\tvalid-mae:0.12832\n",
      "[1400]\ttrain-mae:0.03848\tvalid-mae:0.12768\n",
      "[1500]\ttrain-mae:0.03603\tvalid-mae:0.12708\n",
      "[1600]\ttrain-mae:0.03365\tvalid-mae:0.12676\n",
      "[1700]\ttrain-mae:0.03158\tvalid-mae:0.12636\n",
      "[1800]\ttrain-mae:0.02972\tvalid-mae:0.12610\n",
      "[1900]\ttrain-mae:0.02803\tvalid-mae:0.12587\n",
      "[1999]\ttrain-mae:0.02625\tvalid-mae:0.12554\n",
      "Modeling RMSLE 0.12554\n",
      "{'min_child_weight': 10, 'eta': 0.1, 'colsample_bytree': 0.4, 'max_depth': 6, 'subsample': 0.8, 'lambda': 2.0, 'nthread': -1, 'booster': 'gbtree', 'eval_metric': 'mae', 'objective': 'reg:squarederror', 'seed': 42}\n",
      "[0]\ttrain-mae:0.21898\tvalid-mae:0.19503\n",
      "[100]\ttrain-mae:0.14313\tvalid-mae:0.15052\n",
      "[200]\ttrain-mae:0.13671\tvalid-mae:0.14796\n",
      "[300]\ttrain-mae:0.13335\tvalid-mae:0.14639\n",
      "[400]\ttrain-mae:0.13071\tvalid-mae:0.14566\n",
      "[500]\ttrain-mae:0.12849\tvalid-mae:0.14474\n",
      "[600]\ttrain-mae:0.12640\tvalid-mae:0.14451\n",
      "[700]\ttrain-mae:0.12447\tvalid-mae:0.14402\n",
      "[800]\ttrain-mae:0.12257\tvalid-mae:0.14352\n",
      "[900]\ttrain-mae:0.12085\tvalid-mae:0.14322\n",
      "[1000]\ttrain-mae:0.11924\tvalid-mae:0.14284\n",
      "[1100]\ttrain-mae:0.11778\tvalid-mae:0.14249\n",
      "[1156]\ttrain-mae:0.11689\tvalid-mae:0.14249\n",
      "Modeling RMSLE 0.14247\n",
      "{'min_child_weight': 20, 'eta': 0.05, 'colsample_bytree': 0.3, 'max_depth': 15, 'subsample': 0.6, 'lambda': 2.0, 'nthread': -1, 'booster': 'gbtree', 'eval_metric': 'mae', 'objective': 'reg:squarederror', 'seed': 42}\n",
      "[0]\ttrain-mae:0.21931\tvalid-mae:0.19538\n",
      "[100]\ttrain-mae:0.12250\tvalid-mae:0.15463\n",
      "[200]\ttrain-mae:0.09623\tvalid-mae:0.14499\n",
      "[300]\ttrain-mae:0.08257\tvalid-mae:0.14035\n",
      "[400]\ttrain-mae:0.07309\tvalid-mae:0.13716\n",
      "[500]\ttrain-mae:0.06671\tvalid-mae:0.13561\n",
      "[600]\ttrain-mae:0.06219\tvalid-mae:0.13496\n",
      "[700]\ttrain-mae:0.05762\tvalid-mae:0.13398\n",
      "[800]\ttrain-mae:0.05394\tvalid-mae:0.13339\n",
      "[900]\ttrain-mae:0.05136\tvalid-mae:0.13298\n",
      "[1000]\ttrain-mae:0.04872\tvalid-mae:0.13232\n",
      "[1100]\ttrain-mae:0.04645\tvalid-mae:0.13178\n",
      "[1200]\ttrain-mae:0.04397\tvalid-mae:0.13132\n",
      "[1300]\ttrain-mae:0.04194\tvalid-mae:0.13082\n",
      "[1400]\ttrain-mae:0.03982\tvalid-mae:0.13034\n",
      "[1500]\ttrain-mae:0.03790\tvalid-mae:0.13013\n",
      "[1600]\ttrain-mae:0.03622\tvalid-mae:0.12986\n",
      "[1700]\ttrain-mae:0.03460\tvalid-mae:0.12948\n",
      "[1800]\ttrain-mae:0.03303\tvalid-mae:0.12919\n",
      "[1900]\ttrain-mae:0.03157\tvalid-mae:0.12900\n",
      "[1996]\ttrain-mae:0.03022\tvalid-mae:0.12888\n",
      "Modeling RMSLE 0.12884\n",
      "{'min_child_weight': 20, 'eta': 0.15, 'colsample_bytree': 0.4, 'max_depth': 6, 'subsample': 1, 'lambda': 0.5, 'nthread': -1, 'booster': 'gbtree', 'eval_metric': 'mae', 'objective': 'reg:squarederror', 'seed': 42}\n",
      "[0]\ttrain-mae:0.21821\tvalid-mae:0.19476\n",
      "[100]\ttrain-mae:0.13937\tvalid-mae:0.14828\n",
      "[200]\ttrain-mae:0.13396\tvalid-mae:0.14634\n",
      "[300]\ttrain-mae:0.12992\tvalid-mae:0.14552\n",
      "[400]\ttrain-mae:0.12705\tvalid-mae:0.14493\n",
      "[500]\ttrain-mae:0.12449\tvalid-mae:0.14422\n",
      "[600]\ttrain-mae:0.12205\tvalid-mae:0.14378\n",
      "[700]\ttrain-mae:0.12011\tvalid-mae:0.14266\n",
      "[800]\ttrain-mae:0.11825\tvalid-mae:0.14208\n",
      "[900]\ttrain-mae:0.11629\tvalid-mae:0.14192\n",
      "[1000]\ttrain-mae:0.11441\tvalid-mae:0.14121\n",
      "[1100]\ttrain-mae:0.11265\tvalid-mae:0.14089\n",
      "[1200]\ttrain-mae:0.11107\tvalid-mae:0.14046\n",
      "[1300]\ttrain-mae:0.10950\tvalid-mae:0.14002\n",
      "[1400]\ttrain-mae:0.10793\tvalid-mae:0.13990\n",
      "[1451]\ttrain-mae:0.10713\tvalid-mae:0.13995\n",
      "Modeling RMSLE 0.13989\n",
      "{'min_child_weight': 50, 'eta': 0.15, 'colsample_bytree': 0.4, 'max_depth': 8, 'subsample': 0.5, 'lambda': 3.0, 'nthread': -1, 'booster': 'gbtree', 'eval_metric': 'mae', 'objective': 'reg:squarederror', 'seed': 42}\n",
      "[0]\ttrain-mae:0.21806\tvalid-mae:0.19448\n",
      "[100]\ttrain-mae:0.13221\tvalid-mae:0.14688\n",
      "[200]\ttrain-mae:0.12578\tvalid-mae:0.14474\n",
      "[300]\ttrain-mae:0.12130\tvalid-mae:0.14397\n",
      "[400]\ttrain-mae:0.11754\tvalid-mae:0.14301\n",
      "[491]\ttrain-mae:0.11457\tvalid-mae:0.14269\n",
      "Modeling RMSLE 0.14235\n",
      "{'min_child_weight': 20, 'eta': 0.1, 'colsample_bytree': 0.5, 'max_depth': 6, 'subsample': 0.7, 'lambda': 3.0, 'nthread': -1, 'booster': 'gbtree', 'eval_metric': 'mae', 'objective': 'reg:squarederror', 'seed': 42}\n",
      "[0]\ttrain-mae:0.21898\tvalid-mae:0.19502\n",
      "[100]\ttrain-mae:0.14211\tvalid-mae:0.15010\n",
      "[200]\ttrain-mae:0.13659\tvalid-mae:0.14658\n",
      "[300]\ttrain-mae:0.13336\tvalid-mae:0.14558\n",
      "[400]\ttrain-mae:0.13118\tvalid-mae:0.14488\n",
      "[500]\ttrain-mae:0.12895\tvalid-mae:0.14458\n",
      "[600]\ttrain-mae:0.12691\tvalid-mae:0.14382\n",
      "[700]\ttrain-mae:0.12502\tvalid-mae:0.14346\n",
      "[800]\ttrain-mae:0.12315\tvalid-mae:0.14289\n",
      "[900]\ttrain-mae:0.12157\tvalid-mae:0.14271\n",
      "[1000]\ttrain-mae:0.11985\tvalid-mae:0.14247\n",
      "[1100]\ttrain-mae:0.11842\tvalid-mae:0.14189\n",
      "[1200]\ttrain-mae:0.11674\tvalid-mae:0.14138\n",
      "[1300]\ttrain-mae:0.11530\tvalid-mae:0.14102\n",
      "[1400]\ttrain-mae:0.11393\tvalid-mae:0.14057\n",
      "[1500]\ttrain-mae:0.11252\tvalid-mae:0.14014\n",
      "[1581]\ttrain-mae:0.11135\tvalid-mae:0.14022\n",
      "Modeling RMSLE 0.14003\n",
      "{'min_child_weight': 100, 'eta': 0.15, 'colsample_bytree': 0.4, 'max_depth': 8, 'subsample': 0.9, 'lambda': 3.0, 'nthread': -1, 'booster': 'gbtree', 'eval_metric': 'mae', 'objective': 'reg:squarederror', 'seed': 42}\n",
      "[0]\ttrain-mae:0.21804\tvalid-mae:0.19462\n",
      "[100]\ttrain-mae:0.13047\tvalid-mae:0.14510\n",
      "[200]\ttrain-mae:0.12427\tvalid-mae:0.14317\n",
      "[300]\ttrain-mae:0.12069\tvalid-mae:0.14215\n",
      "[400]\ttrain-mae:0.11766\tvalid-mae:0.14153\n",
      "[498]\ttrain-mae:0.11534\tvalid-mae:0.14166\n",
      "Modeling RMSLE 0.14128\n",
      "{'min_child_weight': 100, 'eta': 0.15, 'colsample_bytree': 0.5, 'max_depth': 6, 'subsample': 0.8, 'lambda': 1.0, 'nthread': -1, 'booster': 'gbtree', 'eval_metric': 'mae', 'objective': 'reg:squarederror', 'seed': 42}\n",
      "[0]\ttrain-mae:0.21822\tvalid-mae:0.19468\n",
      "[100]\ttrain-mae:0.13936\tvalid-mae:0.14835\n",
      "[200]\ttrain-mae:0.13487\tvalid-mae:0.14641\n",
      "[300]\ttrain-mae:0.13200\tvalid-mae:0.14502\n",
      "[400]\ttrain-mae:0.12989\tvalid-mae:0.14430\n",
      "[500]\ttrain-mae:0.12782\tvalid-mae:0.14389\n",
      "[600]\ttrain-mae:0.12586\tvalid-mae:0.14322\n",
      "[700]\ttrain-mae:0.12411\tvalid-mae:0.14285\n",
      "[721]\ttrain-mae:0.12385\tvalid-mae:0.14293\n",
      "Modeling RMSLE 0.14270\n",
      "{'min_child_weight': 20, 'eta': 0.15, 'colsample_bytree': 0.3, 'max_depth': 15, 'subsample': 1, 'lambda': 1.5, 'nthread': -1, 'booster': 'gbtree', 'eval_metric': 'mae', 'objective': 'reg:squarederror', 'seed': 42}\n",
      "[0]\ttrain-mae:0.21642\tvalid-mae:0.19422\n",
      "[100]\ttrain-mae:0.07216\tvalid-mae:0.13849\n",
      "[200]\ttrain-mae:0.05074\tvalid-mae:0.13257\n",
      "[300]\ttrain-mae:0.04090\tvalid-mae:0.12994\n",
      "[400]\ttrain-mae:0.03640\tvalid-mae:0.12920\n",
      "[500]\ttrain-mae:0.03328\tvalid-mae:0.12856\n",
      "[600]\ttrain-mae:0.03049\tvalid-mae:0.12798\n",
      "[700]\ttrain-mae:0.02823\tvalid-mae:0.12767\n",
      "[800]\ttrain-mae:0.02641\tvalid-mae:0.12746\n",
      "[900]\ttrain-mae:0.02449\tvalid-mae:0.12714\n",
      "[945]\ttrain-mae:0.02388\tvalid-mae:0.12721\n",
      "Modeling RMSLE 0.12714\n",
      "{'min_child_weight': 75, 'eta': 0.15, 'colsample_bytree': 0.3, 'max_depth': 10, 'subsample': 0.5, 'lambda': 1.0, 'nthread': -1, 'booster': 'gbtree', 'eval_metric': 'mae', 'objective': 'reg:squarederror', 'seed': 42}\n",
      "[0]\ttrain-mae:0.21793\tvalid-mae:0.19463\n",
      "[100]\ttrain-mae:0.12930\tvalid-mae:0.14744\n",
      "[200]\ttrain-mae:0.11897\tvalid-mae:0.14298\n",
      "[300]\ttrain-mae:0.11315\tvalid-mae:0.14134\n",
      "[341]\ttrain-mae:0.11135\tvalid-mae:0.14147\n",
      "Modeling RMSLE 0.14126\n",
      "{'min_child_weight': 10, 'eta': 0.15, 'colsample_bytree': 0.3, 'max_depth': 15, 'subsample': 1, 'lambda': 2.0, 'nthread': -1, 'booster': 'gbtree', 'eval_metric': 'mae', 'objective': 'reg:squarederror', 'seed': 42}\n",
      "[0]\ttrain-mae:0.21619\tvalid-mae:0.19400\n",
      "[100]\ttrain-mae:0.06031\tvalid-mae:0.13901\n",
      "[200]\ttrain-mae:0.03861\tvalid-mae:0.13327\n",
      "[300]\ttrain-mae:0.02887\tvalid-mae:0.13147\n",
      "[400]\ttrain-mae:0.02427\tvalid-mae:0.13062\n",
      "[500]\ttrain-mae:0.02094\tvalid-mae:0.12981\n",
      "[600]\ttrain-mae:0.01837\tvalid-mae:0.12917\n",
      "[700]\ttrain-mae:0.01639\tvalid-mae:0.12884\n",
      "[800]\ttrain-mae:0.01470\tvalid-mae:0.12868\n",
      "[900]\ttrain-mae:0.01300\tvalid-mae:0.12842\n",
      "[1000]\ttrain-mae:0.01175\tvalid-mae:0.12822\n",
      "[1100]\ttrain-mae:0.01059\tvalid-mae:0.12806\n",
      "[1200]\ttrain-mae:0.00962\tvalid-mae:0.12793\n",
      "[1300]\ttrain-mae:0.00876\tvalid-mae:0.12786\n",
      "[1400]\ttrain-mae:0.00805\tvalid-mae:0.12772\n",
      "[1500]\ttrain-mae:0.00729\tvalid-mae:0.12745\n",
      "[1600]\ttrain-mae:0.00664\tvalid-mae:0.12738\n",
      "[1700]\ttrain-mae:0.00612\tvalid-mae:0.12720\n",
      "[1800]\ttrain-mae:0.00563\tvalid-mae:0.12715\n",
      "[1900]\ttrain-mae:0.00519\tvalid-mae:0.12703\n",
      "[1999]\ttrain-mae:0.00481\tvalid-mae:0.12697\n",
      "Modeling RMSLE 0.12697\n",
      "{'min_child_weight': 75, 'eta': 0.1, 'colsample_bytree': 0.3, 'max_depth': 8, 'subsample': 1, 'lambda': 3.0, 'nthread': -1, 'booster': 'gbtree', 'eval_metric': 'mae', 'objective': 'reg:squarederror', 'seed': 42}\n",
      "[0]\ttrain-mae:0.21887\tvalid-mae:0.19500\n",
      "[100]\ttrain-mae:0.14107\tvalid-mae:0.15359\n",
      "[200]\ttrain-mae:0.13033\tvalid-mae:0.14769\n",
      "[300]\ttrain-mae:0.12457\tvalid-mae:0.14552\n",
      "[400]\ttrain-mae:0.12105\tvalid-mae:0.14474\n",
      "[500]\ttrain-mae:0.11851\tvalid-mae:0.14425\n",
      "[600]\ttrain-mae:0.11662\tvalid-mae:0.14363\n",
      "[700]\ttrain-mae:0.11524\tvalid-mae:0.14328\n",
      "[800]\ttrain-mae:0.11382\tvalid-mae:0.14316\n",
      "Modeling RMSLE 0.14309\n",
      "{'min_child_weight': 75, 'eta': 0.05, 'colsample_bytree': 0.5, 'max_depth': 8, 'subsample': 0.9, 'lambda': 1.5, 'nthread': -1, 'booster': 'gbtree', 'eval_metric': 'mae', 'objective': 'reg:squarederror', 'seed': 42}\n",
      "[0]\ttrain-mae:0.21969\tvalid-mae:0.19530\n",
      "[100]\ttrain-mae:0.14198\tvalid-mae:0.15166\n",
      "[200]\ttrain-mae:0.13270\tvalid-mae:0.14678\n",
      "[300]\ttrain-mae:0.12839\tvalid-mae:0.14463\n",
      "[400]\ttrain-mae:0.12588\tvalid-mae:0.14349\n",
      "[500]\ttrain-mae:0.12386\tvalid-mae:0.14284\n",
      "[600]\ttrain-mae:0.12239\tvalid-mae:0.14256\n",
      "[700]\ttrain-mae:0.12091\tvalid-mae:0.14192\n",
      "[800]\ttrain-mae:0.11963\tvalid-mae:0.14146\n",
      "[900]\ttrain-mae:0.11839\tvalid-mae:0.14105\n",
      "[1000]\ttrain-mae:0.11719\tvalid-mae:0.14069\n",
      "[1100]\ttrain-mae:0.11608\tvalid-mae:0.14034\n",
      "[1200]\ttrain-mae:0.11499\tvalid-mae:0.14005\n",
      "[1300]\ttrain-mae:0.11400\tvalid-mae:0.13988\n",
      "[1400]\ttrain-mae:0.11318\tvalid-mae:0.13957\n",
      "[1500]\ttrain-mae:0.11230\tvalid-mae:0.13918\n",
      "[1600]\ttrain-mae:0.11133\tvalid-mae:0.13897\n",
      "[1700]\ttrain-mae:0.11048\tvalid-mae:0.13882\n",
      "[1786]\ttrain-mae:0.10968\tvalid-mae:0.13875\n",
      "Modeling RMSLE 0.13868\n",
      "{'min_child_weight': 50, 'eta': 0.15, 'colsample_bytree': 0.3, 'max_depth': 12, 'subsample': 0.9, 'lambda': 3.0, 'nthread': -1, 'booster': 'gbtree', 'eval_metric': 'mae', 'objective': 'reg:squarederror', 'seed': 42}\n",
      "[0]\ttrain-mae:0.21752\tvalid-mae:0.19448\n",
      "[100]\ttrain-mae:0.10909\tvalid-mae:0.14519\n",
      "[200]\ttrain-mae:0.09333\tvalid-mae:0.13990\n",
      "[300]\ttrain-mae:0.08479\tvalid-mae:0.13844\n",
      "[327]\ttrain-mae:0.08318\tvalid-mae:0.13831\n",
      "Modeling RMSLE 0.13826\n",
      "{'min_child_weight': 10, 'eta': 0.15, 'colsample_bytree': 0.5, 'max_depth': 6, 'subsample': 0.8, 'lambda': 3.0, 'nthread': -1, 'booster': 'gbtree', 'eval_metric': 'mae', 'objective': 'reg:squarederror', 'seed': 42}\n",
      "[0]\ttrain-mae:0.21822\tvalid-mae:0.19466\n",
      "[100]\ttrain-mae:0.13868\tvalid-mae:0.14856\n",
      "[200]\ttrain-mae:0.13295\tvalid-mae:0.14700\n",
      "[300]\ttrain-mae:0.12909\tvalid-mae:0.14545\n",
      "[400]\ttrain-mae:0.12612\tvalid-mae:0.14491\n",
      "[500]\ttrain-mae:0.12315\tvalid-mae:0.14373\n",
      "[600]\ttrain-mae:0.12041\tvalid-mae:0.14320\n",
      "[700]\ttrain-mae:0.11779\tvalid-mae:0.14269\n",
      "[800]\ttrain-mae:0.11528\tvalid-mae:0.14228\n",
      "[900]\ttrain-mae:0.11303\tvalid-mae:0.14200\n",
      "[914]\ttrain-mae:0.11275\tvalid-mae:0.14187\n",
      "Modeling RMSLE 0.14185\n",
      "{'min_child_weight': 75, 'eta': 0.1, 'colsample_bytree': 0.3, 'max_depth': 8, 'subsample': 0.6, 'lambda': 2.0, 'nthread': -1, 'booster': 'gbtree', 'eval_metric': 'mae', 'objective': 'reg:squarederror', 'seed': 42}\n",
      "[0]\ttrain-mae:0.21889\tvalid-mae:0.19497\n",
      "[100]\ttrain-mae:0.14187\tvalid-mae:0.15271\n",
      "[200]\ttrain-mae:0.13205\tvalid-mae:0.14776\n",
      "[300]\ttrain-mae:0.12695\tvalid-mae:0.14537\n",
      "[400]\ttrain-mae:0.12358\tvalid-mae:0.14352\n",
      "[500]\ttrain-mae:0.12104\tvalid-mae:0.14277\n",
      "[600]\ttrain-mae:0.11916\tvalid-mae:0.14237\n",
      "[700]\ttrain-mae:0.11721\tvalid-mae:0.14168\n",
      "[780]\ttrain-mae:0.11568\tvalid-mae:0.14155\n",
      "Modeling RMSLE 0.14146\n",
      "{'min_child_weight': 20, 'eta': 0.05, 'colsample_bytree': 0.3, 'max_depth': 8, 'subsample': 0.7, 'lambda': 1.5, 'nthread': -1, 'booster': 'gbtree', 'eval_metric': 'mae', 'objective': 'reg:squarederror', 'seed': 42}\n",
      "[0]\ttrain-mae:0.21970\tvalid-mae:0.19537\n",
      "[100]\ttrain-mae:0.15232\tvalid-mae:0.16059\n",
      "[200]\ttrain-mae:0.13916\tvalid-mae:0.15267\n",
      "[300]\ttrain-mae:0.13234\tvalid-mae:0.14874\n",
      "[400]\ttrain-mae:0.12743\tvalid-mae:0.14606\n",
      "[500]\ttrain-mae:0.12409\tvalid-mae:0.14447\n",
      "[600]\ttrain-mae:0.12162\tvalid-mae:0.14358\n",
      "[700]\ttrain-mae:0.11925\tvalid-mae:0.14289\n",
      "[800]\ttrain-mae:0.11727\tvalid-mae:0.14218\n",
      "[900]\ttrain-mae:0.11585\tvalid-mae:0.14173\n",
      "[1000]\ttrain-mae:0.11439\tvalid-mae:0.14143\n",
      "[1021]\ttrain-mae:0.11409\tvalid-mae:0.14164\n",
      "Modeling RMSLE 0.14139\n",
      "Top score is: 0.123406\n",
      "{'min_child_weight': 20, 'eta': 0.05, 'colsample_bytree': 0.3, 'max_depth': 8, 'subsample': 0.7, 'lambda': 1.5, 'nthread': -1, 'booster': 'gbtree', 'eval_metric': 'mae', 'objective': 'reg:squarederror', 'seed': 42}\n"
     ]
    }
   ],
   "source": [
    "dtrain = xgb.DMatrix(X_train, label=train_set['valence'])\n",
    "dvalid = xgb.DMatrix(X_test, label=test_dataset['valence'])\n",
    "#dtest = xgb.DMatrix(X_test)\n",
    "watchlist = [(dtrain, 'train'), (dvalid, 'valid')]\n",
    "\n",
    "#small: min_child_weight, eta\n",
    "#large: subsample\n",
    "xgb_pars = []\n",
    "xgb_pars = []\n",
    "for MCW in [10, 20, 50, 75, 100]:\n",
    "    for ETA in [0.05, 0.1, 0.15]:\n",
    "        for CS in [0.3, 0.4, 0.5]:\n",
    "            for MD in [6, 8, 10, 12, 15]:\n",
    "                for SS in [0.5, 0.6, 0.7, 0.8, 0.9, 1]:\n",
    "                    for LAMBDA in [0.5, 1., 1.5,  2., 3.]:\n",
    "                        xgb_pars.append({'min_child_weight': MCW, 'eta': ETA, \n",
    "                                         'colsample_bytree': CS, 'max_depth': MD,\n",
    "                                         'subsample': SS, 'lambda': LAMBDA, \n",
    "                                         'nthread': -1, 'booster' : 'gbtree', 'eval_metric': 'mae',\n",
    "                                         'objective': 'reg:squarederror', 'seed' :42})\n",
    "top_score = 1 \n",
    "for _ in range(50):\n",
    "    xgb_par = np.random.choice(xgb_pars, 1)[0]\n",
    "    print(xgb_par)\n",
    "    model = xgb.train(xgb_par, dtrain, 2000, watchlist, early_stopping_rounds=50,\n",
    "                      maximize=False, verbose_eval=100)\n",
    "    print('Modeling RMSLE %.5f' % model.best_score)\n",
    "    if model.best_score < top_score:\n",
    "        top_score = model.best_score\n",
    "        top_pars = xgb_par\n",
    "\n",
    "print(f\"Top score is: {top_score}\")\n",
    "print(xgb_par)"
   ]
  },
  {
   "cell_type": "markdown",
   "metadata": {},
   "source": [
    "Using the best set of parameters, train a XCBoost model."
   ]
  },
  {
   "cell_type": "code",
   "execution_count": 168,
   "metadata": {
    "datalore": {
     "hide_input_from_viewers": false,
     "hide_output_from_viewers": false,
     "type": "CODE"
    }
   },
   "outputs": [
    {
     "name": "stdout",
     "output_type": "stream",
     "text": [
      "[0]\ttrain-mae:0.21970\tvalid-mae:0.19537\n",
      "[100]\ttrain-mae:0.15232\tvalid-mae:0.16059\n",
      "[200]\ttrain-mae:0.13916\tvalid-mae:0.15267\n",
      "[300]\ttrain-mae:0.13234\tvalid-mae:0.14874\n",
      "[400]\ttrain-mae:0.12743\tvalid-mae:0.14606\n",
      "[500]\ttrain-mae:0.12409\tvalid-mae:0.14447\n",
      "[600]\ttrain-mae:0.12162\tvalid-mae:0.14358\n",
      "[700]\ttrain-mae:0.11925\tvalid-mae:0.14289\n",
      "[800]\ttrain-mae:0.11727\tvalid-mae:0.14218\n",
      "[900]\ttrain-mae:0.11585\tvalid-mae:0.14173\n",
      "[1000]\ttrain-mae:0.11439\tvalid-mae:0.14143\n",
      "[1021]\ttrain-mae:0.11409\tvalid-mae:0.14164\n"
     ]
    }
   ],
   "source": [
    "best_model = xgb.train(xgb_par, dtrain, 2000, watchlist, early_stopping_rounds=50,\n",
    "                      maximize=False, verbose_eval=100)"
   ]
  },
  {
   "cell_type": "code",
   "execution_count": 170,
   "metadata": {},
   "outputs": [
    {
     "data": {
      "text/plain": [
       "0.1416"
      ]
     },
     "execution_count": 170,
     "metadata": {},
     "output_type": "execute_result"
    }
   ],
   "source": [
    "y_pred_xgboost = best_model.predict(dvalid)\n",
    "round(MAE(y_pred_xgboost, test_dataset['valence']), 4)"
   ]
  },
  {
   "cell_type": "markdown",
   "metadata": {},
   "source": [
    "We notice that we did a lot better with XCBoost, our best so far."
   ]
  },
  {
   "cell_type": "code",
   "execution_count": 171,
   "metadata": {
    "datalore": {
     "hide_input_from_viewers": false,
     "hide_output_from_viewers": false,
     "type": "CODE"
    }
   },
   "outputs": [
    {
     "data": {
      "image/png": "[encoded data removed]",
      "text/plain": [
       "<Figure size 640x480 with 1 Axes>"
      ]
     },
     "metadata": {},
     "output_type": "display_data"
    }
   ],
   "source": [
    "bins = np.histogram(np.hstack((test_dataset['valence'], y_pred_xgboost)), bins=100)[1] #get the bin edges\n",
    "plt.hist(test_dataset['valence'], bins=bins, alpha=1)\n",
    "plt.hist(y_pred_xgboost, bins=bins, alpha=0.7)\n",
    "plt.title(\"Actual vs Predictions\")\n",
    "plt.xlabel(\"Valence\")\n",
    "plt.ylabel(\"Number of instances\")\n",
    "plt.legend([\"Actual\", \"Predictions\"])\n",
    "plt.show()"
   ]
  },
  {
   "cell_type": "markdown",
   "metadata": {},
   "source": [
    "Random Forest"
   ]
  },
  {
   "cell_type": "code",
   "execution_count": 50,
   "metadata": {
    "datalore": {
     "hide_input_from_viewers": false,
     "hide_output_from_viewers": false,
     "type": "CODE"
    }
   },
   "outputs": [],
   "source": [
    "from sklearn.ensemble import RandomForestRegressor\n",
    "from sklearn.model_selection import GridSearchCV"
   ]
  },
  {
   "cell_type": "markdown",
   "metadata": {},
   "source": [
    "Run cross validation to tune hyper parameters."
   ]
  },
  {
   "cell_type": "code",
   "execution_count": 57,
   "metadata": {
    "datalore": {
     "hide_input_from_viewers": false,
     "hide_output_from_viewers": false,
     "type": "CODE"
    }
   },
   "outputs": [
    {
     "name": "stdout",
     "output_type": "stream",
     "text": [
      "Fitting 3 folds for each of 72 candidates, totalling 216 fits\n"
     ]
    },
    {
     "data": {
      "text/plain": [
       "RandomForestRegressor(max_depth=50, max_features=10, n_estimators=500)"
      ]
     },
     "execution_count": 57,
     "metadata": {},
     "output_type": "execute_result"
    }
   ],
   "source": [
    "param_grid = {\n",
    "    \"n_estimators\":[100, 200, 300, 500],\n",
    "    \"max_depth\":[10, 50, 100],\n",
    "    \"max_features\":[6,8,10,12,14,16]\n",
    "}\n",
    "\n",
    "rf_reg = RandomForestRegressor()\n",
    "\n",
    "rf_reg_tuned = GridSearchCV(estimator=rf_reg,\n",
    "                            param_grid=param_grid,\n",
    "                            cv=3,\n",
    "                            n_jobs=-1,\n",
    "                            verbose=2)\n",
    "\n",
    "rf_reg_tuned.fit(X_train, train_set['valence'])\n",
    "rf_reg_tuned.best_estimator_"
   ]
  },
  {
   "cell_type": "markdown",
   "metadata": {},
   "source": [
    "Estimators (number in of trees in each iteration were costly, but slightly increased MAE)"
   ]
  },
  {
   "cell_type": "code",
   "execution_count": 58,
   "metadata": {
    "datalore": {
     "hide_input_from_viewers": false,
     "hide_output_from_viewers": false,
     "type": "CODE"
    }
   },
   "outputs": [
    {
     "data": {
      "text/plain": [
       "0.12564752114377695"
      ]
     },
     "execution_count": 58,
     "metadata": {},
     "output_type": "execute_result"
    }
   ],
   "source": [
    "final_rf_reg = RandomForestRegressor(criterion=\"mse\",max_depth=50, max_features=10, n_estimators=500)\n",
    "final_rf_reg.fit(X_train, train_set['valence'])\n",
    "\n",
    "MAE(final_rf_reg.predict(X_test), test_dataset['valence'])"
   ]
  },
  {
   "cell_type": "code",
   "execution_count": 59,
   "metadata": {},
   "outputs": [
    {
     "data": {
      "text/plain": [
       "0.12579750053550934"
      ]
     },
     "execution_count": 59,
     "metadata": {},
     "output_type": "execute_result"
    }
   ],
   "source": [
    "MAE(rf_reg_tuned.predict(X_test), test_dataset['valence'])"
   ]
  },
  {
   "cell_type": "markdown",
   "metadata": {},
   "source": [
    "We notice that Random Forest is our best model to be used for predictions among our tries."
   ]
  }
 ],
 "metadata": {
  "datalore": {
   "computation_mode": "JUPYTER",
   "packages": [],
   "version": 1
  },
  "interpreter": {
   "hash": "07edece6b025afdffa416ead6a8e9a54b511eca80c83d5715229bef6e3d9691d"
  },
  "kernelspec": {
   "display_name": "Python 3.8.3 ('base')",
   "language": "python",
   "name": "python3"
  },
  "language_info": {
   "codemirror_mode": {
    "name": "ipython",
    "version": 3
   },
   "file_extension": ".py",
   "mimetype": "text/x-python",
   "name": "python",
   "nbconvert_exporter": "python",
   "pygments_lexer": "ipython3",
   "version": "3.8.3"
  }
 },
 "nbformat": 4,
 "nbformat_minor": 4
}
